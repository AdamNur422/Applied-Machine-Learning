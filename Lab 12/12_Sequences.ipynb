{
  "cells": [
    {
      "cell_type": "markdown",
      "metadata": {
        "colab_type": "text",
        "id": "view-in-github"
      },
      "source": [
        "<a href=\"https://colab.research.google.com/github/AdamNur422/ITCS-5156/blob/main/12_Sequences.ipynb\" target=\"_parent\"><img src=\"https://colab.research.google.com/assets/colab-badge.svg\" alt=\"Open In Colab\"/></a>"
      ]
    },
    {
      "cell_type": "markdown",
      "id": "TgkOVuBU6MMW",
      "metadata": {
        "id": "TgkOVuBU6MMW"
      },
      "source": [
        "# Sequences\n",
        "\n",
        "\n",
        "### ITCS 5156\n",
        "### Minwoo \"Jake\" Lee\n",
        "\n",
        "<br/>\n",
        "<font color=\"blue\"><b>\n",
        "\n",
        "NAME: Adam Nur \n",
        "\n",
        "</b> </font>"
      ]
    },
    {
      "cell_type": "markdown",
      "id": "0pCmk06A6PFX",
      "metadata": {
        "id": "0pCmk06A6PFX"
      },
      "source": [
        "# Goal\n",
        "\n",
        "The goal of this lab is to make you get familiar with different type of machine learning tasks like analysing Time Series Data and Sentimental Analysis. We will be using the IBM Stock Price Dataset and IMDB Movie Review Dataset to implement machine learning architectures like RNN and LSTM to achieve these taks. Follow the TODO titles and comments to finish the activity!"
      ]
    },
    {
      "cell_type": "markdown",
      "id": "N-rgwfir6UHI",
      "metadata": {
        "id": "N-rgwfir6UHI"
      },
      "source": [
        "# Agenda\n",
        "\n",
        "For each of the two datasets, we will be doing the following steps in order.\n",
        "\n",
        "* Loading the dataset\n",
        "* Data Preprocessing\n",
        "* LSTM Model Creation\n",
        "* Training and Testing\n",
        "* Inference"
      ]
    },
    {
      "cell_type": "markdown",
      "id": "RcOyZiYN6XVI",
      "metadata": {
        "id": "RcOyZiYN6XVI"
      },
      "source": [
        "# Tables of TODO's\n",
        "\n",
        "\n",
        "1. [TODO1 (2 points)](#TODO1)\n",
        "2. [TODO2 (8 points)](#TODO2)\n",
        "3. [TODO3 (10 points)](#TODO3)\n",
        "4. [TODO4 (10 points)](#TODO4)  \n",
        "5. [TODO5 (10 points)](#TODO5)\n",
        "6. [TODO6 (5 points)](#TODO6)\n",
        "7. [TODO7 (5 points)](#TODO7)\n",
        "8. [TODO8 (3 points)](#TODO8)\n",
        "9. [TODO9 (6 points)](#TODO9)\n",
        "10. [TODO10 (6 points)](#TODO10)\n",
        "11. [TODO11 (10 points)](#TODO11)\n",
        "12. [TODO12 (10 points)](#TODO11)\n",
        "13. [TODO13 (5 points)](#TODO11)\n",
        "14. [TODO14 (7 points)](#TODO11)\n",
        "\n",
        "12. [Feedback (3 points)](#Feedback)\n",
        "\n",
        "\n",
        "Well, let us start the lab with importing the common libraries first."
      ]
    },
    {
      "cell_type": "code",
      "execution_count": null,
      "id": "sfiZrUts5eiQ",
      "metadata": {
        "id": "sfiZrUts5eiQ"
      },
      "outputs": [],
      "source": [
        "import os\n",
        "import numpy as np\n",
        "import random\n",
        "import pandas as pd\n",
        "from pylab import mpl, plt\n",
        "%matplotlib inline\n",
        "\n",
        "import math, time\n",
        "import itertools\n",
        "import datetime\n",
        "from operator import itemgetter\n",
        "from sklearn.metrics import mean_squared_error\n",
        "from sklearn.preprocessing import MinMaxScaler\n",
        "from math import sqrt\n",
        "import string\n",
        "import collections\n",
        "import torch\n",
        "import torch.nn as nn\n",
        "from torch.autograd import Variable"
      ]
    },
    {
      "cell_type": "markdown",
      "id": "db8teCej6ueE",
      "metadata": {
        "id": "db8teCej6ueE"
      },
      "source": [
        "# Sentimental Analysis\n",
        "\n",
        "We will be considering IMDB Movie Reviews Dataset for performing machine learning tasks on Sentimental Analysis Data. This dataset consists of movie reviews and each review is assignned a sentiment of either positive or negative. Follow the TODOs to get more idea of the dataset."
      ]
    },
    {
      "cell_type": "markdown",
      "id": "q9fYgE75HOYq",
      "metadata": {
        "id": "q9fYgE75HOYq"
      },
      "source": [
        "## Reading the data"
      ]
    },
    {
      "cell_type": "markdown",
      "id": "urban-education",
      "metadata": {
        "id": "urban-education",
        "papermill": {
          "duration": 0.030014,
          "end_time": "2021-05-11T11:06:59.981348",
          "exception": false,
          "start_time": "2021-05-11T11:06:59.951334",
          "status": "completed"
        },
        "tags": []
      },
      "source": [
        "### TODO 1 (2 points)\n",
        "\n",
        "Load the IMDB Movie Reviews Dataset  using `read_csv` function. Store the dataframe in `df` and print it."
      ]
    },
    {
      "cell_type": "code",
      "execution_count": null,
      "id": "traditional-bradford",
      "metadata": {
        "execution": {
          "iopub.execute_input": "2021-05-11T11:07:00.047317Z",
          "iopub.status.busy": "2021-05-11T11:07:00.046690Z",
          "iopub.status.idle": "2021-05-11T11:07:01.321647Z",
          "shell.execute_reply": "2021-05-11T11:07:01.321226Z"
        },
        "id": "traditional-bradford",
        "papermill": {
          "duration": 1.309799,
          "end_time": "2021-05-11T11:07:01.321767",
          "exception": false,
          "start_time": "2021-05-11T11:07:00.011968",
          "status": "completed"
        },
        "tags": []
      },
      "outputs": [],
      "source": [
        "# TODO 1\n",
        "file_path = '/content/IMDB Dataset.csv'\n",
        "df = pd.read_csv(file_path)"
      ]
    },
    {
      "cell_type": "markdown",
      "id": "nutritional-livestock",
      "metadata": {
        "id": "nutritional-livestock",
        "papermill": {
          "duration": 0.03179,
          "end_time": "2021-05-11T11:07:01.385244",
          "exception": false,
          "start_time": "2021-05-11T11:07:01.353454",
          "status": "completed"
        },
        "tags": []
      },
      "source": [
        "## Data Preprocessing\n",
        "\n",
        "To preprocess this movie review dataset, we perform the list of steps given below:\n",
        "\n",
        "  1. Converting all the reviews to lowercase alphabets.\n",
        "  2. Remove all the punctuation marks.\n",
        "  3. Implement tokenization on all the reviews.\n",
        "  4. Encoding the list of words in reviews to integers.\n",
        "  5. Encoding the labels positive and negative to 0 and 1 respectively.\n",
        "  6. Implementing padding on all the encoded reviews to ensure all the reviews are of the same length."
      ]
    },
    {
      "cell_type": "markdown",
      "id": "R5MtmtytHxEa",
      "metadata": {
        "id": "R5MtmtytHxEa"
      },
      "source": [
        "#### Conversion to Lower Case\n",
        "\n",
        "The first step that we are following in preprocessing is conversion of all the reviews to lower case alphabets. We perform this by using lower() function."
      ]
    },
    {
      "cell_type": "code",
      "execution_count": null,
      "id": "honey-router",
      "metadata": {
        "colab": {
          "base_uri": "https://localhost:8080/",
          "height": 140
        },
        "execution": {
          "iopub.execute_input": "2021-05-11T11:07:01.471020Z",
          "iopub.status.busy": "2021-05-11T11:07:01.466108Z",
          "iopub.status.idle": "2021-05-11T11:07:01.588018Z",
          "shell.execute_reply": "2021-05-11T11:07:01.587462Z"
        },
        "id": "honey-router",
        "outputId": "6cecc5b7-ec17-4134-a614-2bd592fef0ed",
        "papermill": {
          "duration": 0.171368,
          "end_time": "2021-05-11T11:07:01.588147",
          "exception": false,
          "start_time": "2021-05-11T11:07:01.416779",
          "status": "completed"
        },
        "tags": []
      },
      "outputs": [
        {
          "data": {
            "application/vnd.google.colaboratory.intrinsic+json": {
              "type": "string"
            },
            "text/plain": [
              "\"one of the other reviewers has mentioned that after watching just 1 oz episode you'll be hooked. they are right, as this is exactly what happened with me.<br /><br />the first thing that struck me about oz was its brutality and unflinching scenes of violence, which set in right from the word go. trust me, this is not a show for the faint hearted or timid. this show pulls no punches with regards to drugs, sex or violence. its is hardcore, in the classic use of the word.<br /><br />it is called oz as that is the nickname given to the oswald maximum security state penitentary. it focuses mainly on emerald city, an experimental section of the prison where all the cells have glass fronts and face inwards, so privacy is not high on the agenda. em city is home to many..aryans, muslims, gangstas, latinos, christians, italians, irish and more....so scuffles, death stares, dodgy dealings and shady agreements are never far away.<br /><br />i would say the main appeal of the show is due to the fact that it goes where other shows wouldn't dare. forget pretty pictures painted for mainstream audiences, forget charm, forget romance...oz doesn't mess around. the first episode i ever saw struck me as so nasty it was surreal, i couldn't say i was ready for it, but as i watched more, i developed a taste for oz, and got accustomed to the high levels of graphic violence. not just violence, but injustice (crooked guards who'll be sold out for a nickel, inmates who'll kill on order and get away with it, well mannered, middle class inmates being turned into prison bitches due to their lack of street skills or prison experience) watching oz, you may become comfortable with what is uncomfortable viewing....thats if you can get in touch with your darker side.\""
            ]
          },
          "execution_count": 3,
          "metadata": {},
          "output_type": "execute_result"
        }
      ],
      "source": [
        "# Lower Case\n",
        "df['review'] = df['review'].apply(lambda x:x.lower())\n",
        "df['review'][0]"
      ]
    },
    {
      "cell_type": "markdown",
      "id": "BROthQcMIJ_y",
      "metadata": {
        "id": "BROthQcMIJ_y"
      },
      "source": [
        "#### Removal of Punctuations\n",
        "\n",
        "We will be using the punctuations in strings library to remove all the punctuation characters. In this step, we create a new column named `clean_text` and store the reviews with all punctuation marks removed. A new column named `len_review`is created to store the length of reviews."
      ]
    },
    {
      "cell_type": "code",
      "execution_count": null,
      "id": "impressive-flash",
      "metadata": {
        "colab": {
          "base_uri": "https://localhost:8080/",
          "height": 140
        },
        "execution": {
          "iopub.execute_input": "2021-05-11T11:07:01.791025Z",
          "iopub.status.busy": "2021-05-11T11:07:01.790493Z",
          "iopub.status.idle": "2021-05-11T11:07:01.794663Z",
          "shell.execute_reply": "2021-05-11T11:07:01.794206Z"
        },
        "id": "impressive-flash",
        "outputId": "cc99a061-a2b4-4175-9988-789d4192245a",
        "papermill": {
          "duration": 0.039655,
          "end_time": "2021-05-11T11:07:01.794775",
          "exception": false,
          "start_time": "2021-05-11T11:07:01.755120",
          "status": "completed"
        },
        "tags": []
      },
      "outputs": [
        {
          "data": {
            "application/vnd.google.colaboratory.intrinsic+json": {
              "type": "string"
            },
            "text/plain": [
              "'one of the other reviewers has mentioned that after watching just 1 oz episode youll be hooked they are right as this is exactly what happened with mebr br the first thing that struck me about oz was its brutality and unflinching scenes of violence which set in right from the word go trust me this is not a show for the faint hearted or timid this show pulls no punches with regards to drugs sex or violence its is hardcore in the classic use of the wordbr br it is called oz as that is the nickname given to the oswald maximum security state penitentary it focuses mainly on emerald city an experimental section of the prison where all the cells have glass fronts and face inwards so privacy is not high on the agenda em city is home to manyaryans muslims gangstas latinos christians italians irish and moreso scuffles death stares dodgy dealings and shady agreements are never far awaybr br i would say the main appeal of the show is due to the fact that it goes where other shows wouldnt dare forget pretty pictures painted for mainstream audiences forget charm forget romanceoz doesnt mess around the first episode i ever saw struck me as so nasty it was surreal i couldnt say i was ready for it but as i watched more i developed a taste for oz and got accustomed to the high levels of graphic violence not just violence but injustice crooked guards wholl be sold out for a nickel inmates wholl kill on order and get away with it well mannered middle class inmates being turned into prison bitches due to their lack of street skills or prison experience watching oz you may become comfortable with what is uncomfortable viewingthats if you can get in touch with your darker side'"
            ]
          },
          "execution_count": 4,
          "metadata": {},
          "output_type": "execute_result"
        }
      ],
      "source": [
        "# Remove Punctuation\n",
        "from string import punctuation\n",
        "\n",
        "df['clean_text'] = df['review'].apply(lambda x:''.join([c for c in x if c not in punctuation]))\n",
        "df['clean_text'][0]"
      ]
    },
    {
      "cell_type": "code",
      "execution_count": null,
      "id": "strategic-cable",
      "metadata": {
        "colab": {
          "base_uri": "https://localhost:8080/",
          "height": 206
        },
        "execution": {
          "iopub.execute_input": "2021-05-11T11:07:08.623982Z",
          "iopub.status.busy": "2021-05-11T11:07:08.613735Z",
          "iopub.status.idle": "2021-05-11T11:07:08.652700Z",
          "shell.execute_reply": "2021-05-11T11:07:08.652284Z"
        },
        "id": "strategic-cable",
        "outputId": "773d055e-2ac0-44cd-ee67-8c9016d5d029",
        "papermill": {
          "duration": 0.076263,
          "end_time": "2021-05-11T11:07:08.652819",
          "exception": false,
          "start_time": "2021-05-11T11:07:08.576556",
          "status": "completed"
        },
        "tags": []
      },
      "outputs": [
        {
          "data": {
            "application/vnd.google.colaboratory.intrinsic+json": {
              "summary": "{\n  \"name\": \"df\",\n  \"rows\": 50000,\n  \"fields\": [\n    {\n      \"column\": \"review\",\n      \"properties\": {\n        \"dtype\": \"string\",\n        \"num_unique_values\": 49582,\n        \"samples\": [\n          \"\\\"soul plane\\\" is a horrible attempt at comedy that only should appeal people with thick skulls, bloodshot eyes and furry pawns. <br /><br />the plot is not only incoherent but also non-existent, acting is mostly sub sub-par with a gang of highly moronic and dreadful characters thrown in for bad measure, jokes are often spotted miles ahead and almost never even a bit amusing. this movie lacks any structure and is full of racial stereotypes that must have seemed old even in the fifties, the only thing it really has going for it is some pretty ladies, but really, if you want that you can rent something from the \\\"adult\\\" section. ok?<br /><br />i can hardly see anything here to recommend since you'll probably have a lot a better and productive time chasing rats with a sledgehammer or inventing waterproof teabags or whatever.<br /><br />2/10\",\n          \"guest from the future tells a fascinating story of time travel, friendship, battle of good and evil -- all with a small budget, child actors, and few special effects. something for spielberg and lucas to learn from. ;) a sixth-grader kolya \\\"nick\\\" gerasimov finds a time machine in the basement of a decrepit building and travels 100 years into the future. he discovers a near-perfect, utopian society where robots play guitars and write poetry, everyone is kind to each other and people enjoy everything technology has to offer. alice is the daughter of a prominent scientist who invented a device called mielophone that allows to read minds of humans and animals. the device can be put to both good and bad use, depending on whose hands it falls into. when two evil space pirates from saturn who want to rule the universe attempt to steal mielophone, it falls into the hands of 20th century school boy nick. with the pirates hot on his tracks, he travels back to his time, followed by the pirates, and alice. chaos, confusion and funny situations follow as the luckless pirates try to blend in with the earthlings. alice enrolls in the same school nick goes to and demonstrates superhuman abilities in pe class. the catch is, alice doesn't know what nick looks like, while the pirates do. also, the pirates are able to change their appearance and turn literally into anyone. (hmm, i wonder if this is where james cameron got the idea for terminator...) who gets to nick -- and mielophone -- first? excellent plot, non-stop adventures, and great soundtrack. i wish hollywood made kid movies like this one...\",\n          \"\\\"national treasure\\\" (2004) is a thoroughly misguided hodge-podge of plot entanglements that borrow from nearly every cloak and dagger government conspiracy clich\\u00e9 that has ever been written. the film stars nicholas cage as benjamin franklin gates (how precious is that, i ask you?); a seemingly normal fellow who, for no other reason than being of a lineage of like-minded misguided fortune hunters, decides to steal a 'national treasure' that has been hidden by the united states founding fathers. after a bit of subtext and background that plays laughably (unintentionally) like indiana jones meets the patriot, the film degenerates into one misguided whimsy after another \\u0096 attempting to create a 'stanley goodspeed' regurgitation of nicholas cage and launch the whole convoluted mess forward with a series of high octane, but disconnected misadventures.<br /><br />the relevancy and logic to having george washington and his motley crew of patriots burying a king's ransom someplace on native soil, and then, going through the meticulous plan of leaving clues scattered throughout u.s. currency art work, is something that director jon turteltaub never quite gets around to explaining. couldn't washington found better usage for such wealth during the start up of the country? hence, we are left with a mystery built on top of an enigma that is already on shaky ground by the time ben appoints himself the new custodian of this untold wealth. ben's intentions are noble \\u0096 if confusing. he's set on protecting the treasure. for who and when?\\u0085your guess is as good as mine.<br /><br />but there are a few problems with ben's crusade. first up, his friend, ian holmes (sean bean) decides that he can't wait for ben to make up his mind about stealing the declaration of independence from the national archives (oh, yeah \\u0096 brilliant idea!). presumably, the back of that famous document holds the secret answer to the ultimate fortune. so ian tries to kill ben. the assassination attempt is, of course, unsuccessful, if overly melodramatic. it also affords ben the opportunity to pick up, and pick on, the very sultry curator of the archives, abigail chase (diane kruger). she thinks ben is clearly a nut \\u0096 at least at the beginning. but true to action/romance form, abby's resolve melts quicker than you can say, \\\"is that the hope diamond?\\\" the film moves into full x-file-ish mode, as the fbi, mistakenly believing that ben is behind the theft, retaliate in various benign ways that lead to a multi-layering of action sequences reminiscent of mission impossible meets the fugitive. honestly, don't those guys ever get 'intelligence' information that is correct? in the final analysis, \\\"national treasure\\\" isn't great film making, so much as it's a patchwork rehash of tired old bits from other movies, woven together from scraps, the likes of which would make il' betsy ross blush.<br /><br />the buena vista dvd delivers a far more generous treatment than this film is deserving of. the anamorphic widescreen picture exhibits a very smooth and finely detailed image with very rich colors, natural flesh tones, solid blacks and clean whites. the stylized image is also free of blemishes and digital enhancements. the audio is 5.1 and delivers a nice sonic boom to your side and rear speakers with intensity and realism. extras include a host of promotional junket material that is rather deep and over the top in its explanation of how and why this film was made. if only, as an audience, we had had more clarification as to why ben and co. were chasing after an illusive treasure, this might have been one good flick. extras conclude with the theatrical trailer, audio commentary and deleted scenes. not for the faint-hearted \\u0096 just the thick-headed.\"\n        ],\n        \"semantic_type\": \"\",\n        \"description\": \"\"\n      }\n    },\n    {\n      \"column\": \"sentiment\",\n      \"properties\": {\n        \"dtype\": \"category\",\n        \"num_unique_values\": 2,\n        \"samples\": [\n          \"negative\",\n          \"positive\"\n        ],\n        \"semantic_type\": \"\",\n        \"description\": \"\"\n      }\n    },\n    {\n      \"column\": \"clean_text\",\n      \"properties\": {\n        \"dtype\": \"string\",\n        \"num_unique_values\": 49581,\n        \"samples\": [\n          \"poorly done political actioner badly photographed acted and directed every single scene is underlighted including those very few that are shot during the daytime it doesnt matter what the location is at an important conference in the white house no lights are on and the only available lighting is a gloomy blue that is filtered through a few windows the primier of china conducts an earthshattering phone conversation under conditions of such intense chiaroscuro that he should be contemplating a bust of homer in a rembrandt painting honest its as if he had a tiny spotlight on his face and was otherwise in total darkness the slow motion deaths are by now obligatory in any illthoughtout moviebr br roy scheider and maria conchita alonzo do well by their roles but scheider is rarely on screen the other performances are dismissable there is a pretty oriental woman in a short tight skirt who totes a gun and is right out of a bond movie whos accent suggests a childhood spent in basset nebraska and who should have remained the model she probably started out as whoever plays the surviving secret service agent aboard the cruise ship was probably picked for the part because he looked most like johnny depp not because of any display of talent the chinese villains representing both taiwan and mainland china hiss and grin as they threaten the heroes br br the script is pretty awful recycled from other better films there is a lot of shooting aboard the ship and practically everyone winds up mincemeat two thirds of the way through the ship explodes into the expected series of fireballs then the movie splits into two related parts part one another shootout this time in a waterfront warehouse part two an exchange between the vice president now acting president and the oily chinese premiere lifted out of both dr strangelove and fail safe we unwittingly launch our missiles they launch theirs in retaliation we cannot convince them that our launch was accidental even though we offer to help them destroy our own missiles there is even the george c scott walter matthau general who argues that their nucular armory cant match ours so we should hit them with everything weve got more fireballs br br the end comes none too soon\",\n          \"not good mostly because you dont give a damn about what happens to all these people some comments  1 i am tired of seeing governesses who never talk to their pupils never teach them anything and take a tired and annoyed look whenever the said pupil who of course has been won over in the space of 4 seconds says something 2 fine so rosina has a father complex and therefore is attracted to her employer but charles is completely different in all aspects from her father  if anything henry is much closer as a sensual exalted person 3 how could you ever believe that she would be more attracted to tom wilkinson than to rhys meyer 4 hard to believe if she had been in fact raised as a deeply religious girl that she would be so careless about sleeping with a gentile after knowing him for 5 minutesbr br some good things about the film  at least she didnt end up pregnant not knowing who the father was the whole description of life in the jewish community in london is good\"\n        ],\n        \"semantic_type\": \"\",\n        \"description\": \"\"\n      }\n    },\n    {\n      \"column\": \"len_review\",\n      \"properties\": {\n        \"dtype\": \"number\",\n        \"std\": 950,\n        \"min\": 30,\n        \"max\": 13346,\n        \"num_unique_values\": 4640,\n        \"samples\": [\n          1211,\n          4737\n        ],\n        \"semantic_type\": \"\",\n        \"description\": \"\"\n      }\n    }\n  ]\n}",
              "type": "dataframe",
              "variable_name": "df"
            },
            "text/html": [
              "\n",
              "  <div id=\"df-45544707-0d5c-43f6-8e4c-ff0e33d4c23b\" class=\"colab-df-container\">\n",
              "    <div>\n",
              "<style scoped>\n",
              "    .dataframe tbody tr th:only-of-type {\n",
              "        vertical-align: middle;\n",
              "    }\n",
              "\n",
              "    .dataframe tbody tr th {\n",
              "        vertical-align: top;\n",
              "    }\n",
              "\n",
              "    .dataframe thead th {\n",
              "        text-align: right;\n",
              "    }\n",
              "</style>\n",
              "<table border=\"1\" class=\"dataframe\">\n",
              "  <thead>\n",
              "    <tr style=\"text-align: right;\">\n",
              "      <th></th>\n",
              "      <th>review</th>\n",
              "      <th>sentiment</th>\n",
              "      <th>clean_text</th>\n",
              "      <th>len_review</th>\n",
              "    </tr>\n",
              "  </thead>\n",
              "  <tbody>\n",
              "    <tr>\n",
              "      <th>0</th>\n",
              "      <td>one of the other reviewers has mentioned that ...</td>\n",
              "      <td>positive</td>\n",
              "      <td>one of the other reviewers has mentioned that ...</td>\n",
              "      <td>1683</td>\n",
              "    </tr>\n",
              "    <tr>\n",
              "      <th>1</th>\n",
              "      <td>a wonderful little production. &lt;br /&gt;&lt;br /&gt;the...</td>\n",
              "      <td>positive</td>\n",
              "      <td>a wonderful little production br br the filmin...</td>\n",
              "      <td>954</td>\n",
              "    </tr>\n",
              "    <tr>\n",
              "      <th>2</th>\n",
              "      <td>i thought this was a wonderful way to spend ti...</td>\n",
              "      <td>positive</td>\n",
              "      <td>i thought this was a wonderful way to spend ti...</td>\n",
              "      <td>886</td>\n",
              "    </tr>\n",
              "    <tr>\n",
              "      <th>3</th>\n",
              "      <td>basically there's a family where a little boy ...</td>\n",
              "      <td>negative</td>\n",
              "      <td>basically theres a family where a little boy j...</td>\n",
              "      <td>706</td>\n",
              "    </tr>\n",
              "    <tr>\n",
              "      <th>4</th>\n",
              "      <td>petter mattei's \"love in the time of money\" is...</td>\n",
              "      <td>positive</td>\n",
              "      <td>petter matteis love in the time of money is a ...</td>\n",
              "      <td>1261</td>\n",
              "    </tr>\n",
              "  </tbody>\n",
              "</table>\n",
              "</div>\n",
              "    <div class=\"colab-df-buttons\">\n",
              "\n",
              "  <div class=\"colab-df-container\">\n",
              "    <button class=\"colab-df-convert\" onclick=\"convertToInteractive('df-45544707-0d5c-43f6-8e4c-ff0e33d4c23b')\"\n",
              "            title=\"Convert this dataframe to an interactive table.\"\n",
              "            style=\"display:none;\">\n",
              "\n",
              "  <svg xmlns=\"http://www.w3.org/2000/svg\" height=\"24px\" viewBox=\"0 -960 960 960\">\n",
              "    <path d=\"M120-120v-720h720v720H120Zm60-500h600v-160H180v160Zm220 220h160v-160H400v160Zm0 220h160v-160H400v160ZM180-400h160v-160H180v160Zm440 0h160v-160H620v160ZM180-180h160v-160H180v160Zm440 0h160v-160H620v160Z\"/>\n",
              "  </svg>\n",
              "    </button>\n",
              "\n",
              "  <style>\n",
              "    .colab-df-container {\n",
              "      display:flex;\n",
              "      gap: 12px;\n",
              "    }\n",
              "\n",
              "    .colab-df-convert {\n",
              "      background-color: #E8F0FE;\n",
              "      border: none;\n",
              "      border-radius: 50%;\n",
              "      cursor: pointer;\n",
              "      display: none;\n",
              "      fill: #1967D2;\n",
              "      height: 32px;\n",
              "      padding: 0 0 0 0;\n",
              "      width: 32px;\n",
              "    }\n",
              "\n",
              "    .colab-df-convert:hover {\n",
              "      background-color: #E2EBFA;\n",
              "      box-shadow: 0px 1px 2px rgba(60, 64, 67, 0.3), 0px 1px 3px 1px rgba(60, 64, 67, 0.15);\n",
              "      fill: #174EA6;\n",
              "    }\n",
              "\n",
              "    .colab-df-buttons div {\n",
              "      margin-bottom: 4px;\n",
              "    }\n",
              "\n",
              "    [theme=dark] .colab-df-convert {\n",
              "      background-color: #3B4455;\n",
              "      fill: #D2E3FC;\n",
              "    }\n",
              "\n",
              "    [theme=dark] .colab-df-convert:hover {\n",
              "      background-color: #434B5C;\n",
              "      box-shadow: 0px 1px 3px 1px rgba(0, 0, 0, 0.15);\n",
              "      filter: drop-shadow(0px 1px 2px rgba(0, 0, 0, 0.3));\n",
              "      fill: #FFFFFF;\n",
              "    }\n",
              "  </style>\n",
              "\n",
              "    <script>\n",
              "      const buttonEl =\n",
              "        document.querySelector('#df-45544707-0d5c-43f6-8e4c-ff0e33d4c23b button.colab-df-convert');\n",
              "      buttonEl.style.display =\n",
              "        google.colab.kernel.accessAllowed ? 'block' : 'none';\n",
              "\n",
              "      async function convertToInteractive(key) {\n",
              "        const element = document.querySelector('#df-45544707-0d5c-43f6-8e4c-ff0e33d4c23b');\n",
              "        const dataTable =\n",
              "          await google.colab.kernel.invokeFunction('convertToInteractive',\n",
              "                                                    [key], {});\n",
              "        if (!dataTable) return;\n",
              "\n",
              "        const docLinkHtml = 'Like what you see? Visit the ' +\n",
              "          '<a target=\"_blank\" href=https://colab.research.google.com/notebooks/data_table.ipynb>data table notebook</a>'\n",
              "          + ' to learn more about interactive tables.';\n",
              "        element.innerHTML = '';\n",
              "        dataTable['output_type'] = 'display_data';\n",
              "        await google.colab.output.renderOutput(dataTable, element);\n",
              "        const docLink = document.createElement('div');\n",
              "        docLink.innerHTML = docLinkHtml;\n",
              "        element.appendChild(docLink);\n",
              "      }\n",
              "    </script>\n",
              "  </div>\n",
              "\n",
              "\n",
              "<div id=\"df-ccd45eea-e092-46f7-8e82-67a7d7785bdc\">\n",
              "  <button class=\"colab-df-quickchart\" onclick=\"quickchart('df-ccd45eea-e092-46f7-8e82-67a7d7785bdc')\"\n",
              "            title=\"Suggest charts\"\n",
              "            style=\"display:none;\">\n",
              "\n",
              "<svg xmlns=\"http://www.w3.org/2000/svg\" height=\"24px\"viewBox=\"0 0 24 24\"\n",
              "     width=\"24px\">\n",
              "    <g>\n",
              "        <path d=\"M19 3H5c-1.1 0-2 .9-2 2v14c0 1.1.9 2 2 2h14c1.1 0 2-.9 2-2V5c0-1.1-.9-2-2-2zM9 17H7v-7h2v7zm4 0h-2V7h2v10zm4 0h-2v-4h2v4z\"/>\n",
              "    </g>\n",
              "</svg>\n",
              "  </button>\n",
              "\n",
              "<style>\n",
              "  .colab-df-quickchart {\n",
              "      --bg-color: #E8F0FE;\n",
              "      --fill-color: #1967D2;\n",
              "      --hover-bg-color: #E2EBFA;\n",
              "      --hover-fill-color: #174EA6;\n",
              "      --disabled-fill-color: #AAA;\n",
              "      --disabled-bg-color: #DDD;\n",
              "  }\n",
              "\n",
              "  [theme=dark] .colab-df-quickchart {\n",
              "      --bg-color: #3B4455;\n",
              "      --fill-color: #D2E3FC;\n",
              "      --hover-bg-color: #434B5C;\n",
              "      --hover-fill-color: #FFFFFF;\n",
              "      --disabled-bg-color: #3B4455;\n",
              "      --disabled-fill-color: #666;\n",
              "  }\n",
              "\n",
              "  .colab-df-quickchart {\n",
              "    background-color: var(--bg-color);\n",
              "    border: none;\n",
              "    border-radius: 50%;\n",
              "    cursor: pointer;\n",
              "    display: none;\n",
              "    fill: var(--fill-color);\n",
              "    height: 32px;\n",
              "    padding: 0;\n",
              "    width: 32px;\n",
              "  }\n",
              "\n",
              "  .colab-df-quickchart:hover {\n",
              "    background-color: var(--hover-bg-color);\n",
              "    box-shadow: 0 1px 2px rgba(60, 64, 67, 0.3), 0 1px 3px 1px rgba(60, 64, 67, 0.15);\n",
              "    fill: var(--button-hover-fill-color);\n",
              "  }\n",
              "\n",
              "  .colab-df-quickchart-complete:disabled,\n",
              "  .colab-df-quickchart-complete:disabled:hover {\n",
              "    background-color: var(--disabled-bg-color);\n",
              "    fill: var(--disabled-fill-color);\n",
              "    box-shadow: none;\n",
              "  }\n",
              "\n",
              "  .colab-df-spinner {\n",
              "    border: 2px solid var(--fill-color);\n",
              "    border-color: transparent;\n",
              "    border-bottom-color: var(--fill-color);\n",
              "    animation:\n",
              "      spin 1s steps(1) infinite;\n",
              "  }\n",
              "\n",
              "  @keyframes spin {\n",
              "    0% {\n",
              "      border-color: transparent;\n",
              "      border-bottom-color: var(--fill-color);\n",
              "      border-left-color: var(--fill-color);\n",
              "    }\n",
              "    20% {\n",
              "      border-color: transparent;\n",
              "      border-left-color: var(--fill-color);\n",
              "      border-top-color: var(--fill-color);\n",
              "    }\n",
              "    30% {\n",
              "      border-color: transparent;\n",
              "      border-left-color: var(--fill-color);\n",
              "      border-top-color: var(--fill-color);\n",
              "      border-right-color: var(--fill-color);\n",
              "    }\n",
              "    40% {\n",
              "      border-color: transparent;\n",
              "      border-right-color: var(--fill-color);\n",
              "      border-top-color: var(--fill-color);\n",
              "    }\n",
              "    60% {\n",
              "      border-color: transparent;\n",
              "      border-right-color: var(--fill-color);\n",
              "    }\n",
              "    80% {\n",
              "      border-color: transparent;\n",
              "      border-right-color: var(--fill-color);\n",
              "      border-bottom-color: var(--fill-color);\n",
              "    }\n",
              "    90% {\n",
              "      border-color: transparent;\n",
              "      border-bottom-color: var(--fill-color);\n",
              "    }\n",
              "  }\n",
              "</style>\n",
              "\n",
              "  <script>\n",
              "    async function quickchart(key) {\n",
              "      const quickchartButtonEl =\n",
              "        document.querySelector('#' + key + ' button');\n",
              "      quickchartButtonEl.disabled = true;  // To prevent multiple clicks.\n",
              "      quickchartButtonEl.classList.add('colab-df-spinner');\n",
              "      try {\n",
              "        const charts = await google.colab.kernel.invokeFunction(\n",
              "            'suggestCharts', [key], {});\n",
              "      } catch (error) {\n",
              "        console.error('Error during call to suggestCharts:', error);\n",
              "      }\n",
              "      quickchartButtonEl.classList.remove('colab-df-spinner');\n",
              "      quickchartButtonEl.classList.add('colab-df-quickchart-complete');\n",
              "    }\n",
              "    (() => {\n",
              "      let quickchartButtonEl =\n",
              "        document.querySelector('#df-ccd45eea-e092-46f7-8e82-67a7d7785bdc button');\n",
              "      quickchartButtonEl.style.display =\n",
              "        google.colab.kernel.accessAllowed ? 'block' : 'none';\n",
              "    })();\n",
              "  </script>\n",
              "</div>\n",
              "\n",
              "    </div>\n",
              "  </div>\n"
            ],
            "text/plain": [
              "                                              review sentiment  \\\n",
              "0  one of the other reviewers has mentioned that ...  positive   \n",
              "1  a wonderful little production. <br /><br />the...  positive   \n",
              "2  i thought this was a wonderful way to spend ti...  positive   \n",
              "3  basically there's a family where a little boy ...  negative   \n",
              "4  petter mattei's \"love in the time of money\" is...  positive   \n",
              "\n",
              "                                          clean_text  len_review  \n",
              "0  one of the other reviewers has mentioned that ...        1683  \n",
              "1  a wonderful little production br br the filmin...         954  \n",
              "2  i thought this was a wonderful way to spend ti...         886  \n",
              "3  basically theres a family where a little boy j...         706  \n",
              "4  petter matteis love in the time of money is a ...        1261  "
            ]
          },
          "execution_count": 5,
          "metadata": {},
          "output_type": "execute_result"
        }
      ],
      "source": [
        "df['len_review'] = df['clean_text'].apply(lambda x:len(x))\n",
        "df.head()"
      ]
    },
    {
      "cell_type": "markdown",
      "id": "prQJpP8cL7ye",
      "metadata": {
        "id": "prQJpP8cL7ye"
      },
      "source": [
        "#### Tokenization\n",
        "\n",
        "In this step, we first convert the column `clean_text` to a list, concatenate them to create a list of words, and sort them based on their frequnecy."
      ]
    },
    {
      "cell_type": "code",
      "execution_count": null,
      "id": "buried-customs",
      "metadata": {
        "colab": {
          "base_uri": "https://localhost:8080/"
        },
        "execution": {
          "iopub.execute_input": "2021-05-11T11:07:08.868162Z",
          "iopub.status.busy": "2021-05-11T11:07:08.866737Z",
          "iopub.status.idle": "2021-05-11T11:07:08.869217Z",
          "shell.execute_reply": "2021-05-11T11:07:08.869624Z"
        },
        "id": "buried-customs",
        "outputId": "535da113-9984-4b9a-b378-b99f316f42c9",
        "papermill": {
          "duration": 0.040968,
          "end_time": "2021-05-11T11:07:08.869754",
          "exception": false,
          "start_time": "2021-05-11T11:07:08.828786",
          "status": "completed"
        },
        "tags": []
      },
      "outputs": [
        {
          "name": "stdout",
          "output_type": "stream",
          "text": [
            "[('the', 663815), ('and', 320663), ('a', 320517), ('of', 288382), ('to', 266773), ('is', 210161), ('in', 184861), ('it', 152899), ('i', 152092), ('this', 149405)]\n"
          ]
        }
      ],
      "source": [
        "# Tokenization\n",
        "\n",
        "from collections import Counter\n",
        "\n",
        "all_text2 = df['clean_text'].tolist()\n",
        "all_text2 = ' '.join(all_text2)\n",
        "\n",
        "# create a list of words\n",
        "words = all_text2.split()\n",
        "\n",
        "# Count all the words using Counter Method\n",
        "count_words = Counter(words)\n",
        "\n",
        "total_words = len(words)\n",
        "sorted_words = count_words.most_common(total_words)\n",
        "\n",
        "print(sorted_words[0:10])"
      ]
    },
    {
      "cell_type": "markdown",
      "id": "pne20o1xM_ad",
      "metadata": {
        "id": "pne20o1xM_ad"
      },
      "source": [
        "#### Encoding the words\n",
        "\n",
        "We now get the index of each word using enumerate function and encode each word in each review with its corresponding index."
      ]
    },
    {
      "cell_type": "code",
      "execution_count": null,
      "id": "graphic-botswana",
      "metadata": {
        "colab": {
          "base_uri": "https://localhost:8080/"
        },
        "execution": {
          "iopub.execute_input": "2021-05-11T11:07:12.428811Z",
          "iopub.status.busy": "2021-05-11T11:07:12.423717Z",
          "iopub.status.idle": "2021-05-11T11:07:12.492254Z",
          "shell.execute_reply": "2021-05-11T11:07:12.491787Z"
        },
        "id": "graphic-botswana",
        "outputId": "a65fd0fb-20a5-4221-97ef-f6e96f222f8e",
        "papermill": {
          "duration": 0.1402,
          "end_time": "2021-05-11T11:07:12.492387",
          "exception": false,
          "start_time": "2021-05-11T11:07:12.352187",
          "status": "completed"
        },
        "tags": []
      },
      "outputs": [
        {
          "name": "stdout",
          "output_type": "stream",
          "text": [
            "[[28, 4, 1, 77, 1941, 44, 1063, 11, 100, 145, 40, 479, 3324, 393, 461, 26, 3190, 34, 23, 205, 14, 10, 6, 601, 48, 590, 15, 2137, 12, 1, 87, 146, 11, 3255, 69, 42, 3324, 13, 29, 5600, 2, 15378, 134, 4, 582, 61, 282, 7, 205, 35, 1, 670, 138, 1707, 69, 10, 6, 21, 3, 118, 16, 1, 8330, 5794, 39, 11861, 10, 118, 2508, 55, 6064, 15, 5636, 5, 1470, 381, 39, 582, 29, 6, 3407, 7, 1, 352, 340, 4, 1, 23503, 12, 8, 6, 469, 3324, 14, 11, 6, 1, 11516, 338, 5, 1, 16023, 6870, 2543, 1061, 61649, 8, 2637, 1375, 20, 25365, 536, 33, 4727, 2520, 4, 1, 1208, 112, 31, 1, 7153, 25, 2992, 13015, 2, 408, 61650, 37, 17529, 6, 21, 319, 20, 1, 5098, 3720, 536, 6, 344, 5, 81744, 8470, 41120, 15379, 5171, 7893, 2461, 2, 18404, 61651, 329, 9265, 7472, 13445, 2, 8721, 34936, 23, 109, 224, 5436, 12, 9, 57, 128, 1, 269, 1303, 4, 1, 118, 6, 668, 5, 1, 187, 11, 8, 262, 112, 77, 257, 548, 3001, 819, 178, 1271, 4349, 16, 2499, 1096, 819, 1412, 819, 81745, 148, 978, 181, 1, 87, 393, 9, 120, 201, 3255, 69, 14, 37, 1574, 8, 13, 2214, 9, 397, 128, 9, 13, 1550, 16, 8, 18, 14, 9, 278, 51, 9, 1463, 3, 1250, 16, 3324, 2, 183, 10277, 5, 1, 319, 2092, 4, 2100, 582, 21, 40, 582, 18, 7965, 7154, 4974, 14178, 26, 2970, 45, 16, 3, 32611, 7035, 14178, 494, 20, 620, 2, 75, 240, 15, 8, 73, 9934, 753, 816, 7035, 106, 660, 81, 1208, 20591, 668, 5, 63, 549, 4, 931, 1996, 39, 1208, 558, 145, 3324, 22, 196, 411, 3778, 15, 48, 6, 3275, 81746, 43, 22, 68, 75, 7, 1211, 15, 122, 4018, 501], [3, 384, 115, 358, 12, 12, 1, 1365, 3015, 6, 52, 18405, 52, 81747, 1628, 2, 391, 3, 13446, 2, 518, 27652, 280, 4, 1881, 5, 1, 421, 407, 12, 12, 1, 150, 23, 546, 73, 2274, 492, 4607, 21, 60, 44, 183, 31, 1, 81748, 18, 27, 44, 31, 1, 2222, 184, 3295, 99, 22, 68, 349, 64, 1, 13906, 797, 10150, 32, 1, 1794, 5, 1664, 7473, 6746, 21, 60, 6, 8, 73, 266, 1, 145, 18, 8, 6, 3, 41121, 427, 2, 2368, 407, 3, 4350, 358, 42, 28, 4, 1, 79, 3208, 4, 213, 2, 24, 119, 12, 12, 1, 1881, 62, 260, 344, 15, 1, 115, 177, 1, 1069, 4, 1, 2983, 61, 241, 70, 340, 1, 2140, 1024, 3160, 1243, 1149, 90, 5052, 8, 288, 20, 249, 1796, 2, 249, 4608, 567, 15, 1, 134, 3605, 19962, 2, 27653, 2, 1, 713, 567, 4, 63, 1094, 15, 81749, 61652, 29081, 166, 2259, 23, 1900, 73, 223], [9, 194, 10, 13, 3, 384, 98, 5, 1110, 59, 20, 3, 99, 905, 1466, 2484, 1192, 7, 1, 946, 16739, 764, 2, 145, 3, 4019, 213, 1, 114, 6, 4053, 18, 1, 405, 6, 1862, 2, 1, 101, 23, 1473, 54, 1, 73, 6602, 6697, 1540, 498, 133, 46, 196, 26, 694, 50, 34, 929, 10, 6, 21, 1030, 221, 283, 2993, 5197, 9, 194, 8, 13, 3032, 11, 2934, 2033, 6, 125, 1377, 7, 1155, 4, 1, 429, 104, 4, 169, 25, 2327, 5, 6196, 12, 10, 13, 1, 86, 452, 1390, 30, 28, 4, 19963, 1294, 7, 151, 3001, 9, 128, 3, 2101, 133, 195, 109, 74, 1481, 15, 9266, 41122, 7, 10, 58, 1268, 5, 1234, 184, 41, 1237, 1393, 2, 5033, 205, 81, 3, 859, 18, 5099, 182, 11078, 12, 10, 196, 21, 26, 1, 7597, 5216, 4, 24, 642, 18, 8, 13, 32612, 70, 2285, 2877, 25366, 2, 51, 218, 70, 2638, 3, 79, 213, 5, 138, 64, 15, 333]]\n"
          ]
        }
      ],
      "source": [
        "vocab_to_int = {w:i+1 for i, (w,c) in enumerate(sorted_words)}\n",
        "reviews_split = df['clean_text'].tolist()\n",
        "\n",
        "# Encoding the words\n",
        "reviews_int = []\n",
        "for review in reviews_split:\n",
        "    r = [vocab_to_int[w] for w in review.split()]\n",
        "    reviews_int.append(r)\n",
        "print (reviews_int[0:3])"
      ]
    },
    {
      "cell_type": "markdown",
      "id": "-yogdLXxO7K0",
      "metadata": {
        "id": "-yogdLXxO7K0"
      },
      "source": [
        "#### Encoding the labels\n",
        "\n",
        "This is a simple step where we encode all positive values to 1 and negatives to 0."
      ]
    },
    {
      "cell_type": "code",
      "execution_count": null,
      "id": "blond-cincinnati",
      "metadata": {
        "colab": {
          "base_uri": "https://localhost:8080/"
        },
        "execution": {
          "iopub.execute_input": "2021-05-11T11:07:16.071101Z",
          "iopub.status.busy": "2021-05-11T11:07:16.070337Z",
          "iopub.status.idle": "2021-05-11T11:07:16.075229Z",
          "shell.execute_reply": "2021-05-11T11:07:16.075683Z"
        },
        "id": "blond-cincinnati",
        "outputId": "70135188-8fab-4fd6-91a4-50dd878f17f3",
        "papermill": {
          "duration": 0.042843,
          "end_time": "2021-05-11T11:07:16.075816",
          "exception": false,
          "start_time": "2021-05-11T11:07:16.032973",
          "status": "completed"
        },
        "tags": []
      },
      "outputs": [
        {
          "name": "stdout",
          "output_type": "stream",
          "text": [
            "[1 1 1 0 1 1 1 0 0 1]\n"
          ]
        }
      ],
      "source": [
        "# Encoding Labels\n",
        "labels_split = df['sentiment'].tolist()\n",
        "encoded_labels = [1 if label =='positive' else 0 for label in labels_split]\n",
        "encoded_labels = np.array(encoded_labels)\n",
        "print(encoded_labels[0:10])"
      ]
    },
    {
      "cell_type": "markdown",
      "id": "KFFp3fsyPWMa",
      "metadata": {
        "id": "KFFp3fsyPWMa"
      },
      "source": [
        "#### Padding\n",
        "\n",
        "In this step, we perform padding to all the encoded reviews where we pad zeros to each and every review such that the length of all the reviews remain the same."
      ]
    },
    {
      "cell_type": "code",
      "execution_count": null,
      "id": "listed-despite",
      "metadata": {
        "colab": {
          "base_uri": "https://localhost:8080/"
        },
        "execution": {
          "iopub.execute_input": "2021-05-11T11:07:17.240476Z",
          "iopub.status.busy": "2021-05-11T11:07:17.239610Z",
          "iopub.status.idle": "2021-05-11T11:07:17.241728Z",
          "shell.execute_reply": "2021-05-11T11:07:17.242154Z"
        },
        "id": "listed-despite",
        "outputId": "6eec2f31-8ea5-4301-dd2e-cdaada5357df",
        "papermill": {
          "duration": 0.044993,
          "end_time": "2021-05-11T11:07:17.242289",
          "exception": false,
          "start_time": "2021-05-11T11:07:17.197296",
          "status": "completed"
        },
        "tags": []
      },
      "outputs": [
        {
          "name": "stdout",
          "output_type": "stream",
          "text": [
            "[[   28     4     1 ...   978   181     1]\n",
            " [    0     0     0 ...  1900    73   223]\n",
            " [    0     0     0 ...    64    15   333]\n",
            " ...\n",
            " [    0     0     0 ...    20     1   946]\n",
            " [    0     0     0 ... 10151 45601    60]\n",
            " [    0     0     0 ...    12    79  1215]]\n"
          ]
        }
      ],
      "source": [
        "# Padding\n",
        "def pad_features(reviews_int, seq_length):\n",
        "    ''' Return features of review_ints, where each review is padded with 0's or truncated to the input seq_length.\n",
        "    '''\n",
        "    features = np.zeros((len(reviews_int), seq_length), dtype = int)\n",
        "\n",
        "    for i, review in enumerate(reviews_int):\n",
        "        review_len = len(review)\n",
        "\n",
        "        if review_len <= seq_length:\n",
        "            zeroes = list(np.zeros(seq_length-review_len))\n",
        "            new = zeroes+review\n",
        "        elif review_len > seq_length:\n",
        "            new = review[0:seq_length]\n",
        "\n",
        "        features[i,:] = np.array(new)\n",
        "\n",
        "    return features\n",
        "\n",
        "features = pad_features(reviews_int,200)\n",
        "print(features[:10,:])"
      ]
    },
    {
      "cell_type": "markdown",
      "id": "827uH4_wRFmm",
      "metadata": {
        "id": "827uH4_wRFmm"
      },
      "source": [
        "## Data Splitting"
      ]
    },
    {
      "cell_type": "markdown",
      "id": "social-beatles",
      "metadata": {
        "id": "social-beatles",
        "papermill": {
          "duration": 0.037473,
          "end_time": "2021-05-11T11:07:20.063993",
          "exception": false,
          "start_time": "2021-05-11T11:07:20.026520",
          "status": "completed"
        },
        "tags": []
      },
      "source": [
        "### TODO 2 (8 points)\n",
        "\n",
        "We shall be dividing our final preprocessed data stored in `features` into train, test, and validation datasets. Follow the steps below.\n",
        "\n",
        "  1. Store the length of the list features into `len_features`.\n",
        "  2. Set `split_frac` to 0.8. We shall be using this variable to partition 80% of our data to training and the remaining 20% for testing.\n",
        "  3. Using these two variables, perform the following steps.\n",
        "    1. Store the first 80% of the data in `features` into `train_x`. Store the remainining data into `remaining_x`.\n",
        "    2. Similarly, store the first 80% of the data in `encoded_labels` into `train_y`. Store the remaining data into `remaining_y`.\n",
        "    3. Store the first half of the data in `remaining_x` and `remaining_y` into `valid_x` and `valid_y` respectively.\n",
        "    4. Similarly, store the remaining half into `test_x` and `test_y`.\n",
        "  4. Convert the lists `train_y`, `test_y`, and `valid_y` into numpy arrays.\n",
        "  5. Set `batch_size` to 50 and load the Tensor Datasets `train_data`, `valid_data`, and `test_data` into `train_loader`, `valid_loader`, and `test_loader` respectively using the function `DataLoader`. Make sure to set the parameter `shuffle` to True and pass the batch_size to the function."
      ]
    },
    {
      "cell_type": "code",
      "execution_count": null,
      "id": "meaningful-substance",
      "metadata": {
        "execution": {
          "iopub.execute_input": "2021-05-11T11:07:19.987695Z",
          "iopub.status.busy": "2021-05-11T11:07:19.986928Z",
          "iopub.status.idle": "2021-05-11T11:07:19.989422Z",
          "shell.execute_reply": "2021-05-11T11:07:19.989811Z"
        },
        "id": "meaningful-substance",
        "papermill": {
          "duration": 0.043404,
          "end_time": "2021-05-11T11:07:19.989940",
          "exception": false,
          "start_time": "2021-05-11T11:07:19.946536",
          "status": "completed"
        },
        "tags": []
      },
      "outputs": [],
      "source": [
        "# TODO 2.1 - 2.2\n",
        "len_features = len(features)\n",
        "split_frac = 0.8"
      ]
    },
    {
      "cell_type": "code",
      "execution_count": null,
      "id": "heated-career",
      "metadata": {
        "execution": {
          "iopub.execute_input": "2021-05-11T11:07:20.145843Z",
          "iopub.status.busy": "2021-05-11T11:07:20.144940Z",
          "iopub.status.idle": "2021-05-11T11:07:20.147894Z",
          "shell.execute_reply": "2021-05-11T11:07:20.147420Z"
        },
        "id": "heated-career",
        "papermill": {
          "duration": 0.04703,
          "end_time": "2021-05-11T11:07:20.148011",
          "exception": false,
          "start_time": "2021-05-11T11:07:20.100981",
          "status": "completed"
        },
        "tags": []
      },
      "outputs": [],
      "source": [
        "# TODO 2.3\n",
        "split_idx = int(len_features * split_frac)\n",
        "train_x, remaining_x = features[:split_idx], features[split_idx:]\n",
        "train_y, remaining_y = encoded_labels[:split_idx], encoded_labels[split_idx:]\n",
        "\n",
        "split_idx_remain = int(len(remaining_x) * 0.5)\n",
        "valid_x, test_x = remaining_x[:split_idx_remain], remaining_x[split_idx_remain:]\n",
        "valid_y, test_y = remaining_y[:split_idx_remain], remaining_y[split_idx_remain:]"
      ]
    },
    {
      "cell_type": "code",
      "execution_count": null,
      "id": "smoking-conflict",
      "metadata": {
        "execution": {
          "iopub.execute_input": "2021-05-11T11:07:20.325533Z",
          "iopub.status.busy": "2021-05-11T11:07:20.324804Z",
          "iopub.status.idle": "2021-05-11T11:07:20.327125Z",
          "shell.execute_reply": "2021-05-11T11:07:20.327516Z"
        },
        "id": "smoking-conflict",
        "papermill": {
          "duration": 0.051267,
          "end_time": "2021-05-11T11:07:20.327656",
          "exception": false,
          "start_time": "2021-05-11T11:07:20.276389",
          "status": "completed"
        },
        "tags": []
      },
      "outputs": [],
      "source": [
        "# TODO 2.4\n",
        "train_y = np.array(train_y)\n",
        "valid_y = np.array(valid_y)\n",
        "test_y = np.array(test_y)"
      ]
    },
    {
      "cell_type": "code",
      "execution_count": null,
      "id": "north-planning",
      "metadata": {
        "execution": {
          "iopub.execute_input": "2021-05-11T11:07:20.482547Z",
          "iopub.status.busy": "2021-05-11T11:07:20.481877Z",
          "iopub.status.idle": "2021-05-11T11:07:21.670480Z",
          "shell.execute_reply": "2021-05-11T11:07:21.669992Z"
        },
        "id": "north-planning",
        "papermill": {
          "duration": 1.23133,
          "end_time": "2021-05-11T11:07:21.670609",
          "exception": false,
          "start_time": "2021-05-11T11:07:20.439279",
          "status": "completed"
        },
        "tags": []
      },
      "outputs": [],
      "source": [
        "from torch.utils.data import DataLoader, TensorDataset\n",
        "\n",
        "# Create Tensor Datasets\n",
        "train_data = TensorDataset(torch.from_numpy(train_x), torch.from_numpy(train_y))\n",
        "valid_data = TensorDataset(torch.from_numpy(valid_x), torch.from_numpy(valid_y))\n",
        "test_data = TensorDataset(torch.from_numpy(test_x), torch.from_numpy(test_y))\n",
        "\n",
        "# TODO 2.5\n",
        "batch_size = 50\n",
        "\n",
        "train_loader = DataLoader(train_data, shuffle=True, batch_size=batch_size)\n",
        "valid_loader = DataLoader(valid_data, shuffle=True, batch_size=batch_size)\n",
        "test_loader = DataLoader(test_data, shuffle=True, batch_size=batch_size)"
      ]
    },
    {
      "cell_type": "code",
      "execution_count": null,
      "id": "zIk3TvqobBFd",
      "metadata": {
        "colab": {
          "base_uri": "https://localhost:8080/"
        },
        "id": "zIk3TvqobBFd",
        "outputId": "0281685c-a9ee-4d9a-a653-b23db24edd47"
      },
      "outputs": [
        {
          "name": "stdout",
          "output_type": "stream",
          "text": [
            "Sample input size:  torch.Size([50, 200])\n",
            "Sample input: \n",
            " tensor([[    0,     0,     0,  ...,    62,   735,    19],\n",
            "        [    0,     0,     0,  ...,     4,     8,    31],\n",
            "        [23305, 21893,  4416,  ...,    44,   208,    99],\n",
            "        ...,\n",
            "        [    9,   419,    10,  ...,    20,   173,   599],\n",
            "        [    0,     0,     0,  ...,     3,  4596,    19],\n",
            "        [16817,    51,   735,  ..., 49998,  8681,     5]])\n",
            "Sample input: \n",
            " tensor([1, 0, 1, 0, 0, 1, 0, 0, 1, 0, 1, 1, 0, 0, 0, 0, 0, 0, 1, 1, 1, 0, 1, 1,\n",
            "        1, 0, 1, 1, 0, 0, 0, 1, 0, 0, 1, 1, 1, 1, 1, 0, 1, 1, 1, 0, 0, 1, 0, 0,\n",
            "        0, 1])\n"
          ]
        }
      ],
      "source": [
        "# obtain one batch of training data\n",
        "for sample_x, sample_y in train_loader:\n",
        "    print('Sample input size: ', sample_x.size())\n",
        "    print('Sample input: \\n', sample_x)\n",
        "    print('Sample input: \\n', sample_y)\n",
        "    break"
      ]
    },
    {
      "cell_type": "markdown",
      "id": "alr1EbG7TNh_",
      "metadata": {
        "id": "alr1EbG7TNh_"
      },
      "source": [
        "## LSTM Model Creation"
      ]
    },
    {
      "cell_type": "markdown",
      "id": "empty-detective",
      "metadata": {
        "id": "empty-detective",
        "papermill": {
          "duration": 0.03763,
          "end_time": "2021-05-11T11:07:21.866713",
          "exception": false,
          "start_time": "2021-05-11T11:07:21.829083",
          "status": "completed"
        },
        "tags": []
      },
      "source": [
        "### TODO 3 (10 points)\n",
        "\n",
        "1. Create an embedding layer using `nn.Embedding` and pass `vocab_size` and `embedding_dim` as parameters. Store the same in `embedding`.\n",
        "2. Create an LSTM layer using `nn.LSTM` and pass the parameters `embedding_dim`, `hidden_dim`, `n_layers`, `dropout=drop_prob`, `batch_first=True`. Store it in `lstm`.\n",
        "3. Create a dropout layer using `nn.Dropout` and set the dropout to 0.3. Store it in `dropout`.\n",
        "4. Create a linear layer using `nn.Linear` and pass `hidden_dim` and `output_size` to it. Store it in `fc`.\n",
        "5. Create an instance of sigmoid activation function using `nn.Sigmoid`. Store  it in `sig`.\n",
        "\n",
        "Hint: Initialize the mentioned variables with the help of `self`.\n"
      ]
    },
    {
      "cell_type": "code",
      "execution_count": null,
      "id": "nominated-corruption",
      "metadata": {
        "execution": {
          "iopub.execute_input": "2021-05-11T11:07:21.955378Z",
          "iopub.status.busy": "2021-05-11T11:07:21.954608Z",
          "iopub.status.idle": "2021-05-11T11:07:21.957346Z",
          "shell.execute_reply": "2021-05-11T11:07:21.956897Z"
        },
        "id": "nominated-corruption",
        "papermill": {
          "duration": 0.052943,
          "end_time": "2021-05-11T11:07:21.957457",
          "exception": false,
          "start_time": "2021-05-11T11:07:21.904514",
          "status": "completed"
        },
        "tags": []
      },
      "outputs": [],
      "source": [
        "import torch.nn as nn\n",
        "\n",
        "class SentimentLSTM(nn.Module):\n",
        "\n",
        "    def __init__(self, vocab_size, output_size, embedding_dim, hidden_dim, n_layers, drop_prob=0.5):\n",
        "\n",
        "        super().__init__()\n",
        "\n",
        "        self.output_size = output_size\n",
        "        self.n_layers = n_layers\n",
        "        self.hidden_dim = hidden_dim\n",
        "\n",
        "        # TODO 3.1 - 3.5\n",
        "        self.embedding = nn.Embedding(vocab_size, embedding_dim)\n",
        "\n",
        "        self.lstm = nn.LSTM(embedding_dim, hidden_dim, n_layers, dropout=drop_prob, batch_first=True)\n",
        "\n",
        "        self.dropout = nn.Dropout(0.3)\n",
        "\n",
        "        self.fc = nn.Linear(hidden_dim, output_size)\n",
        "\n",
        "        self.sig = nn.Sigmoid()\n",
        "\n",
        "    def forward(self, x, hidden):\n",
        "        \"\"\"\n",
        "        Perform a forward pass of our model on some input and hidden state.\n",
        "        \"\"\"\n",
        "        batch_size = x.size(0)\n",
        "\n",
        "        # embeddings and lstm_out\n",
        "        embeds = self.embedding(x)\n",
        "        lstm_out, hidden = self.lstm(embeds, hidden)\n",
        "\n",
        "        # stack up lstm outputs\n",
        "        lstm_out = lstm_out.contiguous().view(-1, self.hidden_dim)\n",
        "\n",
        "        # dropout and fully-connected layer\n",
        "        out = self.dropout(lstm_out)\n",
        "        out = self.fc(out)\n",
        "        # sigmoid function\n",
        "        sig_out = self.sig(out)\n",
        "\n",
        "        # reshape to be batch_size first\n",
        "        sig_out = sig_out.view(batch_size, -1)\n",
        "        sig_out = sig_out[:, -1] # get last batch of labels\n",
        "\n",
        "        # return last sigmoid output and hidden state\n",
        "        return sig_out, hidden\n",
        "\n",
        "\n",
        "    def init_hidden(self, batch_size):\n",
        "        ''' Initializes hidden state '''\n",
        "        # Create two new tensors with sizes n_layers x batch_size x hidden_dim,\n",
        "        # initialized to zero, for hidden state and cell state of LSTM\n",
        "        weight = next(self.parameters()).data\n",
        "\n",
        "        if (train_on_gpu):\n",
        "            hidden = (weight.new(self.n_layers, batch_size, self.hidden_dim).zero_().cuda(),\n",
        "                  weight.new(self.n_layers, batch_size, self.hidden_dim).zero_().cuda())\n",
        "        else:\n",
        "            hidden = (weight.new(self.n_layers, batch_size, self.hidden_dim).zero_(),\n",
        "                      weight.new(self.n_layers, batch_size, self.hidden_dim).zero_())\n",
        "\n",
        "        return hidden\n"
      ]
    },
    {
      "cell_type": "markdown",
      "id": "b3yz-H-4Wqe4",
      "metadata": {
        "id": "b3yz-H-4Wqe4"
      },
      "source": [
        "## Training and Testing"
      ]
    },
    {
      "cell_type": "markdown",
      "id": "finite-interim",
      "metadata": {
        "id": "finite-interim",
        "papermill": {
          "duration": 0.038079,
          "end_time": "2021-05-11T11:07:22.033620",
          "exception": false,
          "start_time": "2021-05-11T11:07:21.995541",
          "status": "completed"
        },
        "tags": []
      },
      "source": [
        "### TODO 4 (10 points)\n",
        "\n",
        "Now that we are ready with our model architecture, lets go to the training part. Follow the steps below.\n",
        "\n",
        "1. Initialize `vocab_size` with length of the list `vocab_to_int` + 1. We are adding 1 for zero padding.\n",
        "2. Set `output_size` to 1, `embedding_dim` to 400, `hidden_dim` to 256, and `n_layers` to 2.\n",
        "3. Call the LSTM Model using the class name `SentimentLSTM` and pass all the attributes created above. Store it in `net`.\n",
        "4. Set the learning rate `lr` to 0.001.\n",
        "5. Create a binary crossentropy loss using `nn.BCELoss()` and store it in `criterion`.\n",
        "6. Similarly, create an `Adam` optimizer using `torch.optimizer.Adam` and pass the parameters of the model `net` and learning rate. Store it in `optimizer`.\n",
        "  * Hint: You can get the parameters of the model using `model.parameters()` where model is the variable where you store your model."
      ]
    },
    {
      "cell_type": "code",
      "execution_count": null,
      "id": "engaging-approval",
      "metadata": {
        "colab": {
          "base_uri": "https://localhost:8080/"
        },
        "execution": {
          "iopub.execute_input": "2021-05-11T11:07:22.190384Z",
          "iopub.status.busy": "2021-05-11T11:07:22.189836Z",
          "iopub.status.idle": "2021-05-11T11:07:23.457621Z",
          "shell.execute_reply": "2021-05-11T11:07:23.458284Z"
        },
        "id": "engaging-approval",
        "outputId": "2e40cf82-852b-4c46-cd34-a15b2c799c93",
        "papermill": {
          "duration": 1.310603,
          "end_time": "2021-05-11T11:07:23.458497",
          "exception": false,
          "start_time": "2021-05-11T11:07:22.147894",
          "status": "completed"
        },
        "tags": []
      },
      "outputs": [
        {
          "name": "stdout",
          "output_type": "stream",
          "text": [
            "SentimentLSTM(\n",
            "  (embedding): Embedding(181686, 400)\n",
            "  (lstm): LSTM(400, 256, num_layers=2, batch_first=True, dropout=0.5)\n",
            "  (dropout): Dropout(p=0.3, inplace=False)\n",
            "  (fc): Linear(in_features=256, out_features=1, bias=True)\n",
            "  (sig): Sigmoid()\n",
            ")\n"
          ]
        }
      ],
      "source": [
        "# TODO 4.1\n",
        "vocab_size = len(vocab_to_int) + 1\n",
        "\n",
        "# TODO 4.2\n",
        "output_size = 1\n",
        "embedding_dim = 400\n",
        "hidden_dim = 256\n",
        "n_layers = 2\n",
        "\n",
        "# TODO 4.3\n",
        "net = SentimentLSTM(vocab_size, output_size, embedding_dim, hidden_dim, n_layers)\n",
        "\n",
        "\n",
        "print(net)"
      ]
    },
    {
      "cell_type": "code",
      "execution_count": null,
      "id": "loved-assignment",
      "metadata": {
        "colab": {
          "base_uri": "https://localhost:8080/"
        },
        "execution": {
          "iopub.execute_input": "2021-05-11T11:07:24.019143Z",
          "iopub.status.busy": "2021-05-11T11:07:24.018481Z",
          "iopub.status.idle": "2021-05-11T11:07:24.022662Z",
          "shell.execute_reply": "2021-05-11T11:07:24.022239Z"
        },
        "id": "loved-assignment",
        "outputId": "990613d6-f9bd-42d3-df08-c368a65f2f3d",
        "papermill": {
          "duration": 0.525349,
          "end_time": "2021-05-11T11:07:24.022783",
          "exception": false,
          "start_time": "2021-05-11T11:07:23.497434",
          "status": "completed"
        },
        "tags": []
      },
      "outputs": [
        {
          "name": "stdout",
          "output_type": "stream",
          "text": [
            "Training on GPU.\n"
          ]
        }
      ],
      "source": [
        "train_on_gpu=torch.cuda.is_available()\n",
        "\n",
        "if(train_on_gpu):\n",
        "    print('Training on GPU.')\n",
        "else:\n",
        "    print('No GPU available, training on CPU.')"
      ]
    },
    {
      "cell_type": "code",
      "execution_count": null,
      "id": "radio-party",
      "metadata": {
        "execution": {
          "iopub.execute_input": "2021-05-11T11:07:24.183035Z",
          "iopub.status.busy": "2021-05-11T11:07:24.182529Z",
          "iopub.status.idle": "2021-05-11T11:07:24.185780Z",
          "shell.execute_reply": "2021-05-11T11:07:24.186690Z"
        },
        "id": "radio-party",
        "papermill": {
          "duration": 0.046974,
          "end_time": "2021-05-11T11:07:24.186847",
          "exception": false,
          "start_time": "2021-05-11T11:07:24.139873",
          "status": "completed"
        },
        "tags": []
      },
      "outputs": [],
      "source": [
        "# TODO 4.4 - 4.6\n",
        "lr = 0.001\n",
        "criterion = nn.BCELoss()\n",
        "optimizer = torch.optim.Adam(net.parameters(), lr=lr)"
      ]
    },
    {
      "cell_type": "markdown",
      "id": "MjQVP6iauFY0",
      "metadata": {
        "id": "MjQVP6iauFY0"
      },
      "source": [
        "Run the below cell to start training. This cell takes some time to complete execution."
      ]
    },
    {
      "cell_type": "code",
      "execution_count": null,
      "id": "medieval-tampa",
      "metadata": {
        "colab": {
          "base_uri": "https://localhost:8080/"
        },
        "execution": {
          "iopub.execute_input": "2021-05-11T11:07:24.324876Z",
          "iopub.status.busy": "2021-05-11T11:07:24.323272Z",
          "iopub.status.idle": "2021-05-11T11:11:02.165714Z",
          "shell.execute_reply": "2021-05-11T11:11:02.166336Z"
        },
        "id": "medieval-tampa",
        "outputId": "346f391a-8398-4309-841a-7bb01d68d076",
        "papermill": {
          "duration": 217.934012,
          "end_time": "2021-05-11T11:11:02.166541",
          "exception": false,
          "start_time": "2021-05-11T11:07:24.232529",
          "status": "completed"
        },
        "tags": []
      },
      "outputs": [
        {
          "name": "stdout",
          "output_type": "stream",
          "text": [
            "Epoch: 1/4... Step: 100... Loss: 0.756197... Val Loss: 0.633313\n",
            "Epoch: 1/4... Step: 200... Loss: 0.677240... Val Loss: 0.615632\n",
            "Epoch: 1/4... Step: 300... Loss: 0.642994... Val Loss: 0.645617\n",
            "Epoch: 1/4... Step: 400... Loss: 0.635839... Val Loss: 0.624594\n",
            "Epoch: 1/4... Step: 500... Loss: 0.551680... Val Loss: 0.558921\n",
            "Epoch: 1/4... Step: 600... Loss: 0.504906... Val Loss: 0.627360\n",
            "Epoch: 1/4... Step: 700... Loss: 0.642265... Val Loss: 0.635954\n",
            "Epoch: 1/4... Step: 800... Loss: 0.648666... Val Loss: 0.588789\n",
            "Epoch: 2/4... Step: 900... Loss: 0.474583... Val Loss: 0.481583\n",
            "Epoch: 2/4... Step: 1000... Loss: 0.518187... Val Loss: 0.510514\n",
            "Epoch: 2/4... Step: 1100... Loss: 0.261357... Val Loss: 0.434894\n",
            "Epoch: 2/4... Step: 1200... Loss: 0.345364... Val Loss: 0.433102\n",
            "Epoch: 2/4... Step: 1300... Loss: 0.272879... Val Loss: 0.421709\n",
            "Epoch: 2/4... Step: 1400... Loss: 0.403814... Val Loss: 0.401397\n",
            "Epoch: 2/4... Step: 1500... Loss: 0.419764... Val Loss: 0.409779\n",
            "Epoch: 2/4... Step: 1600... Loss: 0.522212... Val Loss: 0.373672\n",
            "Epoch: 3/4... Step: 1700... Loss: 0.304327... Val Loss: 0.361213\n",
            "Epoch: 3/4... Step: 1800... Loss: 0.254343... Val Loss: 0.350732\n",
            "Epoch: 3/4... Step: 1900... Loss: 0.286548... Val Loss: 0.347342\n",
            "Epoch: 3/4... Step: 2000... Loss: 0.186102... Val Loss: 0.347295\n",
            "Epoch: 3/4... Step: 2100... Loss: 0.288969... Val Loss: 0.383722\n",
            "Epoch: 3/4... Step: 2200... Loss: 0.222339... Val Loss: 0.364812\n",
            "Epoch: 3/4... Step: 2300... Loss: 0.225006... Val Loss: 0.345831\n",
            "Epoch: 3/4... Step: 2400... Loss: 0.334880... Val Loss: 0.331895\n",
            "Epoch: 4/4... Step: 2500... Loss: 0.149594... Val Loss: 0.420535\n",
            "Epoch: 4/4... Step: 2600... Loss: 0.164845... Val Loss: 0.380217\n",
            "Epoch: 4/4... Step: 2700... Loss: 0.057589... Val Loss: 0.367266\n",
            "Epoch: 4/4... Step: 2800... Loss: 0.170339... Val Loss: 0.445953\n",
            "Epoch: 4/4... Step: 2900... Loss: 0.176903... Val Loss: 0.372771\n",
            "Epoch: 4/4... Step: 3000... Loss: 0.079397... Val Loss: 0.472070\n",
            "Epoch: 4/4... Step: 3100... Loss: 0.193246... Val Loss: 0.362238\n",
            "Epoch: 4/4... Step: 3200... Loss: 0.305533... Val Loss: 0.398800\n"
          ]
        }
      ],
      "source": [
        "epochs = 4\n",
        "\n",
        "counter = 0\n",
        "print_every = 100\n",
        "clip=5\n",
        "\n",
        "if(train_on_gpu):\n",
        "    net.cuda()\n",
        "\n",
        "net.train()\n",
        "# train for some number of epochs\n",
        "for e in range(epochs):\n",
        "    # initialize hidden state\n",
        "    h = net.init_hidden(batch_size)\n",
        "\n",
        "    # batch loop\n",
        "    for inputs, labels in train_loader:\n",
        "        counter += 1\n",
        "\n",
        "        if(train_on_gpu):\n",
        "            inputs, labels = inputs.cuda(), labels.cuda()\n",
        "\n",
        "        # Creating new variables for the hidden state, otherwise\n",
        "        # we'd backprop through the entire training history\n",
        "        h = tuple([each.data for each in h])\n",
        "\n",
        "        # zero accumulated gradients\n",
        "        net.zero_grad()\n",
        "\n",
        "        # get the output from the model\n",
        "        output, h = net(inputs, h)\n",
        "\n",
        "        # calculate the loss and perform backprop\n",
        "        loss = criterion(output.squeeze(), labels.float())\n",
        "        loss.backward()\n",
        "        # `clip_grad_norm` helps prevent the exploding gradient problem in RNNs / LSTMs.\n",
        "        nn.utils.clip_grad_norm_(net.parameters(), clip)\n",
        "        optimizer.step()\n",
        "\n",
        "        # loss stats\n",
        "        if counter % print_every == 0:\n",
        "            # Get validation loss\n",
        "            val_h = net.init_hidden(batch_size)\n",
        "            val_losses = []\n",
        "            net.eval()\n",
        "            for inputs, labels in valid_loader:\n",
        "\n",
        "                # Creating new variables for the hidden state, otherwise\n",
        "                # we'd backprop through the entire training history\n",
        "                val_h = tuple([each.data for each in val_h])\n",
        "\n",
        "                if(train_on_gpu):\n",
        "                    inputs, labels = inputs.cuda(), labels.cuda()\n",
        "\n",
        "                output, val_h = net(inputs, val_h)\n",
        "                val_loss = criterion(output.squeeze(), labels.float())\n",
        "\n",
        "                val_losses.append(val_loss.item())\n",
        "\n",
        "            net.train()\n",
        "            print(\"Epoch: {}/{}...\".format(e+1, epochs),\n",
        "                  \"Step: {}...\".format(counter),\n",
        "                  \"Loss: {:.6f}...\".format(loss.item()),\n",
        "                  \"Val Loss: {:.6f}\".format(np.mean(val_losses)))"
      ]
    },
    {
      "cell_type": "markdown",
      "id": "elegant-concord",
      "metadata": {
        "id": "elegant-concord",
        "papermill": {
          "duration": 0.046758,
          "end_time": "2021-05-11T11:11:02.262502",
          "exception": false,
          "start_time": "2021-05-11T11:11:02.215744",
          "status": "completed"
        },
        "tags": []
      },
      "source": [
        "### TODO 5 (10 points)\n",
        "\n",
        "After completion of training, its time for testing the performance of the model. Follow the steps below.\n",
        "1. Retrieve the predicted outputs by passing the `input` data and the current hidden state `h` through the neural network `net`. Store the outputs and the updated hidden state into `outputs` and `h` respectively.\n",
        "\n",
        "2. Calculate the loss by using specified loss `criterion`. Make sure to squeeze the `output` using `squeeze()` function and convert the `labels` to float type.\n",
        "\n",
        "3. After calculating the loss, add it to the list named `test_losses`.\n",
        "You can use the `.item()` method to get the scalar value of the loss and append it to the list.\n",
        "\n",
        "4. Since the output of the model is in the form of probabilities, we need to convert them into discrete classes. Round the output probabilities to the nearest integer using the `torch.round()` function. Store it in `pred`. Make sure to squeeze the rounded output to remove any unnecessary dimensions.\n",
        "\n",
        "5. Compare these predicted classes to the true labels using `.eq()` method. Ensure that both tensors have the same shape by using `.view_as(pred)` on the true `labels` tensor. Store the results in `correct_tensor`."
      ]
    },
    {
      "cell_type": "code",
      "execution_count": null,
      "id": "modern-crack",
      "metadata": {
        "colab": {
          "base_uri": "https://localhost:8080/"
        },
        "execution": {
          "iopub.execute_input": "2021-05-11T11:11:02.364729Z",
          "iopub.status.busy": "2021-05-11T11:11:02.363961Z",
          "iopub.status.idle": "2021-05-11T11:11:03.592287Z",
          "shell.execute_reply": "2021-05-11T11:11:03.592972Z"
        },
        "id": "modern-crack",
        "outputId": "bdfcea16-b161-4cdf-c4f4-b54b1a491ff8",
        "papermill": {
          "duration": 1.283659,
          "end_time": "2021-05-11T11:11:03.593198",
          "exception": false,
          "start_time": "2021-05-11T11:11:02.309539",
          "status": "completed"
        },
        "tags": []
      },
      "outputs": [
        {
          "name": "stdout",
          "output_type": "stream",
          "text": [
            "Test loss: 0.409\n",
            "Test accuracy: 0.854\n"
          ]
        }
      ],
      "source": [
        "test_losses = []\n",
        "num_correct = 0\n",
        "\n",
        "h = net.init_hidden(batch_size)\n",
        "\n",
        "net.eval()\n",
        "# iterate over test data\n",
        "for inputs, labels in test_loader:\n",
        "\n",
        "    # Creating new variables for the hidden state, otherwise\n",
        "    # we'd backprop through the entire training history\n",
        "    h = tuple([each.data for each in h])\n",
        "\n",
        "    if(train_on_gpu):\n",
        "        inputs, labels = inputs.cuda(), labels.cuda()\n",
        "\n",
        "    # TODO 5.1: Get predicted outputs\n",
        "    outputs, h = net(inputs, h)\n",
        "\n",
        "    # TODO 5.2 - 5.3: Calculate loss\n",
        "    loss = criterion(outputs.squeeze(), labels.float())\n",
        "    test_losses.append(loss.item())\n",
        "\n",
        "    # TODO 5.4: Convert output probabilities to predicted class (0 or 1)\n",
        "    pred = torch.round(outputs.squeeze())\n",
        "\n",
        "    # TODO 5.5: Compare predictions to true label\n",
        "    correct_tensor = pred.eq(labels.float().view_as(pred))\n",
        "    correct = np.squeeze(correct_tensor.numpy()) if not train_on_gpu else np.squeeze(correct_tensor.cpu().numpy())\n",
        "    num_correct += np.sum(correct)\n",
        "\n",
        "print(\"Test loss: {:.3f}\".format(np.mean(test_losses)))\n",
        "\n",
        "test_acc = num_correct/len(test_loader.dataset)\n",
        "print(\"Test accuracy: {:.3f}\".format(test_acc))"
      ]
    },
    {
      "cell_type": "markdown",
      "id": "0J-fxgJCU_qg",
      "metadata": {
        "id": "0J-fxgJCU_qg"
      },
      "source": [
        "## Inference"
      ]
    },
    {
      "cell_type": "markdown",
      "id": "heavy-presentation",
      "metadata": {
        "id": "heavy-presentation",
        "papermill": {
          "duration": 0.049479,
          "end_time": "2021-05-11T11:11:03.693643",
          "exception": false,
          "start_time": "2021-05-11T11:11:03.644164",
          "status": "completed"
        },
        "tags": []
      },
      "source": [
        "### TODO 6 (5 points)\n",
        "\n",
        "1. Make inference on the trained model by passing the model and a review-like sentence of your choice to the `predict()` function created below. Explore various sentences of both positive and negative types."
      ]
    },
    {
      "cell_type": "code",
      "execution_count": null,
      "id": "offensive-humanitarian",
      "metadata": {
        "execution": {
          "iopub.execute_input": "2021-05-11T11:11:03.898434Z",
          "iopub.status.busy": "2021-05-11T11:11:03.897559Z",
          "iopub.status.idle": "2021-05-11T11:11:03.900248Z",
          "shell.execute_reply": "2021-05-11T11:11:03.899681Z"
        },
        "id": "offensive-humanitarian",
        "papermill": {
          "duration": 0.056187,
          "end_time": "2021-05-11T11:11:03.900364",
          "exception": false,
          "start_time": "2021-05-11T11:11:03.844177",
          "status": "completed"
        },
        "tags": []
      },
      "outputs": [],
      "source": [
        "def preprocess(review, vocab_to_int):\n",
        "    review = review.lower()\n",
        "    word_list = review.split()\n",
        "    num_list = []\n",
        "    reviews_int = []\n",
        "    for word in word_list:\n",
        "        if word in vocab_to_int.keys():\n",
        "            num_list.append(vocab_to_int[word])\n",
        "    reviews_int.append(num_list)\n",
        "    return reviews_int"
      ]
    },
    {
      "cell_type": "code",
      "execution_count": null,
      "id": "abandoned-maryland",
      "metadata": {
        "execution": {
          "iopub.execute_input": "2021-05-11T11:11:04.003841Z",
          "iopub.status.busy": "2021-05-11T11:11:04.002843Z",
          "iopub.status.idle": "2021-05-11T11:11:04.005566Z",
          "shell.execute_reply": "2021-05-11T11:11:04.005163Z"
        },
        "id": "abandoned-maryland",
        "papermill": {
          "duration": 0.057158,
          "end_time": "2021-05-11T11:11:04.005678",
          "exception": false,
          "start_time": "2021-05-11T11:11:03.948520",
          "status": "completed"
        },
        "tags": []
      },
      "outputs": [],
      "source": [
        "def predict(net, test_review, sequence_length=200):\n",
        "\n",
        "    #change the reviews to sequence of integers\n",
        "    int_rev = preprocess(test_review, vocab_to_int)\n",
        "    #pad the reviews as per the sequence length of the feature\n",
        "    features = pad_features(int_rev, seq_length=sequence_length)\n",
        "\n",
        "    #changing the features to PyTorch tensor\n",
        "    features = torch.from_numpy(features)\n",
        "\n",
        "    #pass the features to the model to get prediction\n",
        "    net.eval()\n",
        "    val_h = net.init_hidden(1)\n",
        "    val_h = tuple([each.data for each in val_h])\n",
        "\n",
        "    if(train_on_gpu):\n",
        "        features = features.cuda()\n",
        "\n",
        "    output, val_h = net(features, val_h)\n",
        "\n",
        "    #rounding the output to nearest 0 or 1\n",
        "    pred = torch.round(output)\n",
        "\n",
        "    #mapping the numeric values to postive or negative\n",
        "    output = [\"Positive\" if pred.item() == 1 else \"Negative\"]\n",
        "\n",
        "    # print custom response based on whether test_review is pos/neg\n",
        "    print(output)"
      ]
    },
    {
      "cell_type": "code",
      "execution_count": null,
      "id": "coated-postcard",
      "metadata": {
        "colab": {
          "base_uri": "https://localhost:8080/"
        },
        "execution": {
          "iopub.execute_input": "2021-05-11T11:11:04.105721Z",
          "iopub.status.busy": "2021-05-11T11:11:04.104716Z",
          "iopub.status.idle": "2021-05-11T11:11:04.107534Z",
          "shell.execute_reply": "2021-05-11T11:11:04.107000Z"
        },
        "id": "coated-postcard",
        "outputId": "ba5a1ba0-9d23-4636-a8a8-bdc08e0fcd98",
        "papermill": {
          "duration": 0.054021,
          "end_time": "2021-05-11T11:11:04.107640",
          "exception": false,
          "start_time": "2021-05-11T11:11:04.053619",
          "status": "completed"
        },
        "tags": []
      },
      "outputs": [
        {
          "name": "stdout",
          "output_type": "stream",
          "text": [
            "['Negative']\n",
            "['Positive']\n",
            "['Negative']\n"
          ]
        }
      ],
      "source": [
        "# TODO 6.1 - 6.3\n",
        "test_reviews = [\n",
        "    \"This movie was super mid. I never want to watch it again\",\n",
        "    \"The movie was super entertaining to watch and very funny.\",\n",
        "    \"This is was definitly THE movie of all time.\",\n",
        "]\n",
        "\n",
        "for review in test_reviews:\n",
        "    predict(net, review, sequence_length=200)"
      ]
    },
    {
      "cell_type": "markdown",
      "id": "n1qiOH1_5hf8",
      "metadata": {
        "id": "n1qiOH1_5hf8"
      },
      "source": [
        "# Time Series Data\n",
        "\n",
        "We will be considering IBM Stock Pricing Dataset for performing machine learning tasks on Time-Series Data. This dataset consists of stock value of IBM at various instances of a day like open and closing times, high and low value in a particular day. For training and testing pruposes, we consider only the data from the year 2010 and discard the previous data."
      ]
    },
    {
      "cell_type": "markdown",
      "id": "Lwmy9Hkq_lzH",
      "metadata": {
        "id": "Lwmy9Hkq_lzH"
      },
      "source": [
        "## Reading the data"
      ]
    },
    {
      "cell_type": "markdown",
      "id": "Gk4dlzBU83fF",
      "metadata": {
        "id": "Gk4dlzBU83fF"
      },
      "source": [
        "### TODO 7 (5 points)\n",
        "\n",
        "1. Load the IBM Stock Pricing Dataset using `read_csv` function and set `parse_dates` to True, and `index_col` to 0. Store the dataframe in `df_ibm`.\n",
        "2. Join the dataframes `df1` and `df_ibm` using `join` function. Store the resulting dataframe into `df_ibm`.\n",
        "3. Display the dataframe"
      ]
    },
    {
      "cell_type": "code",
      "execution_count": null,
      "id": "8UwQPs6ujW3L",
      "metadata": {
        "colab": {
          "base_uri": "https://localhost:8080/",
          "height": 423
        },
        "id": "8UwQPs6ujW3L",
        "outputId": "44b128c3-26a5-4cdd-f68d-b7cbf61d56a4"
      },
      "outputs": [
        {
          "data": {
            "application/vnd.google.colaboratory.intrinsic+json": {
              "summary": "{\n  \"name\": \"df_ibm\",\n  \"rows\": 2028,\n  \"fields\": [\n    {\n      \"column\": \"Open\",\n      \"properties\": {\n        \"dtype\": \"number\",\n        \"std\": 20.47356962680369,\n        \"min\": 101.42,\n        \"max\": 186.01,\n        \"num_unique_values\": 1632,\n        \"samples\": [\n          163.72,\n          143.68,\n          170.46\n        ],\n        \"semantic_type\": \"\",\n        \"description\": \"\"\n      }\n    },\n    {\n      \"column\": \"High\",\n      \"properties\": {\n        \"dtype\": \"number\",\n        \"std\": 20.52102006709996,\n        \"min\": 102.89,\n        \"max\": 186.46,\n        \"num_unique_values\": 1656,\n        \"samples\": [\n          151.09,\n          157.55,\n          169.3\n        ],\n        \"semantic_type\": \"\",\n        \"description\": \"\"\n      }\n    },\n    {\n      \"column\": \"Low\",\n      \"properties\": {\n        \"dtype\": \"number\",\n        \"std\": 20.43054932388816,\n        \"min\": 96.852,\n        \"max\": 185.06,\n        \"num_unique_values\": 1669,\n        \"samples\": [\n          155.37,\n          161.67,\n          142.27\n        ],\n        \"semantic_type\": \"\",\n        \"description\": \"\"\n      }\n    },\n    {\n      \"column\": \"Close\",\n      \"properties\": {\n        \"dtype\": \"number\",\n        \"std\": 20.453513217184465,\n        \"min\": 101.74,\n        \"max\": 186.36,\n        \"num_unique_values\": 1683,\n        \"samples\": [\n          139.81,\n          175.24,\n          147.87\n        ],\n        \"semantic_type\": \"\",\n        \"description\": \"\"\n      }\n    },\n    {\n      \"column\": \"Volume\",\n      \"properties\": {\n        \"dtype\": \"number\",\n        \"std\": 2720267.070239281,\n        \"min\": 0.0,\n        \"max\": 26249417.0,\n        \"num_unique_values\": 1957,\n        \"samples\": [\n          2822563.0,\n          4446579.0,\n          2665334.0\n        ],\n        \"semantic_type\": \"\",\n        \"description\": \"\"\n      }\n    },\n    {\n      \"column\": \"OpenInt\",\n      \"properties\": {\n        \"dtype\": \"number\",\n        \"std\": 0.0,\n        \"min\": 0.0,\n        \"max\": 0.0,\n        \"num_unique_values\": 1,\n        \"samples\": [\n          0.0\n        ],\n        \"semantic_type\": \"\",\n        \"description\": \"\"\n      }\n    }\n  ]\n}",
              "type": "dataframe",
              "variable_name": "df_ibm"
            },
            "text/html": [
              "\n",
              "  <div id=\"df-1c2d655a-9bff-452d-ae75-42a2b7a48b6c\" class=\"colab-df-container\">\n",
              "    <div>\n",
              "<style scoped>\n",
              "    .dataframe tbody tr th:only-of-type {\n",
              "        vertical-align: middle;\n",
              "    }\n",
              "\n",
              "    .dataframe tbody tr th {\n",
              "        vertical-align: top;\n",
              "    }\n",
              "\n",
              "    .dataframe thead th {\n",
              "        text-align: right;\n",
              "    }\n",
              "</style>\n",
              "<table border=\"1\" class=\"dataframe\">\n",
              "  <thead>\n",
              "    <tr style=\"text-align: right;\">\n",
              "      <th></th>\n",
              "      <th>Open</th>\n",
              "      <th>High</th>\n",
              "      <th>Low</th>\n",
              "      <th>Close</th>\n",
              "      <th>Volume</th>\n",
              "      <th>OpenInt</th>\n",
              "    </tr>\n",
              "  </thead>\n",
              "  <tbody>\n",
              "    <tr>\n",
              "      <th>2010-01-04</th>\n",
              "      <td>109.55</td>\n",
              "      <td>111.03</td>\n",
              "      <td>109.26</td>\n",
              "      <td>110.59</td>\n",
              "      <td>7371472.0</td>\n",
              "      <td>0.0</td>\n",
              "    </tr>\n",
              "    <tr>\n",
              "      <th>2010-01-05</th>\n",
              "      <td>109.95</td>\n",
              "      <td>110.11</td>\n",
              "      <td>108.65</td>\n",
              "      <td>109.26</td>\n",
              "      <td>8193158.0</td>\n",
              "      <td>0.0</td>\n",
              "    </tr>\n",
              "    <tr>\n",
              "      <th>2010-01-06</th>\n",
              "      <td>109.12</td>\n",
              "      <td>109.81</td>\n",
              "      <td>108.39</td>\n",
              "      <td>108.56</td>\n",
              "      <td>6712810.0</td>\n",
              "      <td>0.0</td>\n",
              "    </tr>\n",
              "    <tr>\n",
              "      <th>2010-01-07</th>\n",
              "      <td>108.45</td>\n",
              "      <td>108.77</td>\n",
              "      <td>107.65</td>\n",
              "      <td>108.19</td>\n",
              "      <td>6995459.0</td>\n",
              "      <td>0.0</td>\n",
              "    </tr>\n",
              "    <tr>\n",
              "      <th>2010-01-08</th>\n",
              "      <td>107.76</td>\n",
              "      <td>109.31</td>\n",
              "      <td>107.75</td>\n",
              "      <td>109.26</td>\n",
              "      <td>5019238.0</td>\n",
              "      <td>0.0</td>\n",
              "    </tr>\n",
              "    <tr>\n",
              "      <th>...</th>\n",
              "      <td>...</td>\n",
              "      <td>...</td>\n",
              "      <td>...</td>\n",
              "      <td>...</td>\n",
              "      <td>...</td>\n",
              "      <td>...</td>\n",
              "    </tr>\n",
              "    <tr>\n",
              "      <th>2017-10-05</th>\n",
              "      <td>145.23</td>\n",
              "      <td>146.08</td>\n",
              "      <td>145.03</td>\n",
              "      <td>145.27</td>\n",
              "      <td>2713337.0</td>\n",
              "      <td>0.0</td>\n",
              "    </tr>\n",
              "    <tr>\n",
              "      <th>2017-10-06</th>\n",
              "      <td>145.19</td>\n",
              "      <td>145.40</td>\n",
              "      <td>144.87</td>\n",
              "      <td>145.03</td>\n",
              "      <td>2647099.0</td>\n",
              "      <td>0.0</td>\n",
              "    </tr>\n",
              "    <tr>\n",
              "      <th>2017-10-09</th>\n",
              "      <td>145.05</td>\n",
              "      <td>146.33</td>\n",
              "      <td>144.90</td>\n",
              "      <td>145.93</td>\n",
              "      <td>2709319.0</td>\n",
              "      <td>0.0</td>\n",
              "    </tr>\n",
              "    <tr>\n",
              "      <th>2017-10-10</th>\n",
              "      <td>146.25</td>\n",
              "      <td>147.48</td>\n",
              "      <td>146.19</td>\n",
              "      <td>147.03</td>\n",
              "      <td>4069894.0</td>\n",
              "      <td>0.0</td>\n",
              "    </tr>\n",
              "    <tr>\n",
              "      <th>2017-10-11</th>\n",
              "      <td>146.93</td>\n",
              "      <td>147.00</td>\n",
              "      <td>145.82</td>\n",
              "      <td>146.16</td>\n",
              "      <td>3738253.0</td>\n",
              "      <td>0.0</td>\n",
              "    </tr>\n",
              "  </tbody>\n",
              "</table>\n",
              "<p>2028 rows × 6 columns</p>\n",
              "</div>\n",
              "    <div class=\"colab-df-buttons\">\n",
              "\n",
              "  <div class=\"colab-df-container\">\n",
              "    <button class=\"colab-df-convert\" onclick=\"convertToInteractive('df-1c2d655a-9bff-452d-ae75-42a2b7a48b6c')\"\n",
              "            title=\"Convert this dataframe to an interactive table.\"\n",
              "            style=\"display:none;\">\n",
              "\n",
              "  <svg xmlns=\"http://www.w3.org/2000/svg\" height=\"24px\" viewBox=\"0 -960 960 960\">\n",
              "    <path d=\"M120-120v-720h720v720H120Zm60-500h600v-160H180v160Zm220 220h160v-160H400v160Zm0 220h160v-160H400v160ZM180-400h160v-160H180v160Zm440 0h160v-160H620v160ZM180-180h160v-160H180v160Zm440 0h160v-160H620v160Z\"/>\n",
              "  </svg>\n",
              "    </button>\n",
              "\n",
              "  <style>\n",
              "    .colab-df-container {\n",
              "      display:flex;\n",
              "      gap: 12px;\n",
              "    }\n",
              "\n",
              "    .colab-df-convert {\n",
              "      background-color: #E8F0FE;\n",
              "      border: none;\n",
              "      border-radius: 50%;\n",
              "      cursor: pointer;\n",
              "      display: none;\n",
              "      fill: #1967D2;\n",
              "      height: 32px;\n",
              "      padding: 0 0 0 0;\n",
              "      width: 32px;\n",
              "    }\n",
              "\n",
              "    .colab-df-convert:hover {\n",
              "      background-color: #E2EBFA;\n",
              "      box-shadow: 0px 1px 2px rgba(60, 64, 67, 0.3), 0px 1px 3px 1px rgba(60, 64, 67, 0.15);\n",
              "      fill: #174EA6;\n",
              "    }\n",
              "\n",
              "    .colab-df-buttons div {\n",
              "      margin-bottom: 4px;\n",
              "    }\n",
              "\n",
              "    [theme=dark] .colab-df-convert {\n",
              "      background-color: #3B4455;\n",
              "      fill: #D2E3FC;\n",
              "    }\n",
              "\n",
              "    [theme=dark] .colab-df-convert:hover {\n",
              "      background-color: #434B5C;\n",
              "      box-shadow: 0px 1px 3px 1px rgba(0, 0, 0, 0.15);\n",
              "      filter: drop-shadow(0px 1px 2px rgba(0, 0, 0, 0.3));\n",
              "      fill: #FFFFFF;\n",
              "    }\n",
              "  </style>\n",
              "\n",
              "    <script>\n",
              "      const buttonEl =\n",
              "        document.querySelector('#df-1c2d655a-9bff-452d-ae75-42a2b7a48b6c button.colab-df-convert');\n",
              "      buttonEl.style.display =\n",
              "        google.colab.kernel.accessAllowed ? 'block' : 'none';\n",
              "\n",
              "      async function convertToInteractive(key) {\n",
              "        const element = document.querySelector('#df-1c2d655a-9bff-452d-ae75-42a2b7a48b6c');\n",
              "        const dataTable =\n",
              "          await google.colab.kernel.invokeFunction('convertToInteractive',\n",
              "                                                    [key], {});\n",
              "        if (!dataTable) return;\n",
              "\n",
              "        const docLinkHtml = 'Like what you see? Visit the ' +\n",
              "          '<a target=\"_blank\" href=https://colab.research.google.com/notebooks/data_table.ipynb>data table notebook</a>'\n",
              "          + ' to learn more about interactive tables.';\n",
              "        element.innerHTML = '';\n",
              "        dataTable['output_type'] = 'display_data';\n",
              "        await google.colab.output.renderOutput(dataTable, element);\n",
              "        const docLink = document.createElement('div');\n",
              "        docLink.innerHTML = docLinkHtml;\n",
              "        element.appendChild(docLink);\n",
              "      }\n",
              "    </script>\n",
              "  </div>\n",
              "\n",
              "\n",
              "<div id=\"df-dc39df2f-88b2-404f-acda-cec25160393b\">\n",
              "  <button class=\"colab-df-quickchart\" onclick=\"quickchart('df-dc39df2f-88b2-404f-acda-cec25160393b')\"\n",
              "            title=\"Suggest charts\"\n",
              "            style=\"display:none;\">\n",
              "\n",
              "<svg xmlns=\"http://www.w3.org/2000/svg\" height=\"24px\"viewBox=\"0 0 24 24\"\n",
              "     width=\"24px\">\n",
              "    <g>\n",
              "        <path d=\"M19 3H5c-1.1 0-2 .9-2 2v14c0 1.1.9 2 2 2h14c1.1 0 2-.9 2-2V5c0-1.1-.9-2-2-2zM9 17H7v-7h2v7zm4 0h-2V7h2v10zm4 0h-2v-4h2v4z\"/>\n",
              "    </g>\n",
              "</svg>\n",
              "  </button>\n",
              "\n",
              "<style>\n",
              "  .colab-df-quickchart {\n",
              "      --bg-color: #E8F0FE;\n",
              "      --fill-color: #1967D2;\n",
              "      --hover-bg-color: #E2EBFA;\n",
              "      --hover-fill-color: #174EA6;\n",
              "      --disabled-fill-color: #AAA;\n",
              "      --disabled-bg-color: #DDD;\n",
              "  }\n",
              "\n",
              "  [theme=dark] .colab-df-quickchart {\n",
              "      --bg-color: #3B4455;\n",
              "      --fill-color: #D2E3FC;\n",
              "      --hover-bg-color: #434B5C;\n",
              "      --hover-fill-color: #FFFFFF;\n",
              "      --disabled-bg-color: #3B4455;\n",
              "      --disabled-fill-color: #666;\n",
              "  }\n",
              "\n",
              "  .colab-df-quickchart {\n",
              "    background-color: var(--bg-color);\n",
              "    border: none;\n",
              "    border-radius: 50%;\n",
              "    cursor: pointer;\n",
              "    display: none;\n",
              "    fill: var(--fill-color);\n",
              "    height: 32px;\n",
              "    padding: 0;\n",
              "    width: 32px;\n",
              "  }\n",
              "\n",
              "  .colab-df-quickchart:hover {\n",
              "    background-color: var(--hover-bg-color);\n",
              "    box-shadow: 0 1px 2px rgba(60, 64, 67, 0.3), 0 1px 3px 1px rgba(60, 64, 67, 0.15);\n",
              "    fill: var(--button-hover-fill-color);\n",
              "  }\n",
              "\n",
              "  .colab-df-quickchart-complete:disabled,\n",
              "  .colab-df-quickchart-complete:disabled:hover {\n",
              "    background-color: var(--disabled-bg-color);\n",
              "    fill: var(--disabled-fill-color);\n",
              "    box-shadow: none;\n",
              "  }\n",
              "\n",
              "  .colab-df-spinner {\n",
              "    border: 2px solid var(--fill-color);\n",
              "    border-color: transparent;\n",
              "    border-bottom-color: var(--fill-color);\n",
              "    animation:\n",
              "      spin 1s steps(1) infinite;\n",
              "  }\n",
              "\n",
              "  @keyframes spin {\n",
              "    0% {\n",
              "      border-color: transparent;\n",
              "      border-bottom-color: var(--fill-color);\n",
              "      border-left-color: var(--fill-color);\n",
              "    }\n",
              "    20% {\n",
              "      border-color: transparent;\n",
              "      border-left-color: var(--fill-color);\n",
              "      border-top-color: var(--fill-color);\n",
              "    }\n",
              "    30% {\n",
              "      border-color: transparent;\n",
              "      border-left-color: var(--fill-color);\n",
              "      border-top-color: var(--fill-color);\n",
              "      border-right-color: var(--fill-color);\n",
              "    }\n",
              "    40% {\n",
              "      border-color: transparent;\n",
              "      border-right-color: var(--fill-color);\n",
              "      border-top-color: var(--fill-color);\n",
              "    }\n",
              "    60% {\n",
              "      border-color: transparent;\n",
              "      border-right-color: var(--fill-color);\n",
              "    }\n",
              "    80% {\n",
              "      border-color: transparent;\n",
              "      border-right-color: var(--fill-color);\n",
              "      border-bottom-color: var(--fill-color);\n",
              "    }\n",
              "    90% {\n",
              "      border-color: transparent;\n",
              "      border-bottom-color: var(--fill-color);\n",
              "    }\n",
              "  }\n",
              "</style>\n",
              "\n",
              "  <script>\n",
              "    async function quickchart(key) {\n",
              "      const quickchartButtonEl =\n",
              "        document.querySelector('#' + key + ' button');\n",
              "      quickchartButtonEl.disabled = true;  // To prevent multiple clicks.\n",
              "      quickchartButtonEl.classList.add('colab-df-spinner');\n",
              "      try {\n",
              "        const charts = await google.colab.kernel.invokeFunction(\n",
              "            'suggestCharts', [key], {});\n",
              "      } catch (error) {\n",
              "        console.error('Error during call to suggestCharts:', error);\n",
              "      }\n",
              "      quickchartButtonEl.classList.remove('colab-df-spinner');\n",
              "      quickchartButtonEl.classList.add('colab-df-quickchart-complete');\n",
              "    }\n",
              "    (() => {\n",
              "      let quickchartButtonEl =\n",
              "        document.querySelector('#df-dc39df2f-88b2-404f-acda-cec25160393b button');\n",
              "      quickchartButtonEl.style.display =\n",
              "        google.colab.kernel.accessAllowed ? 'block' : 'none';\n",
              "    })();\n",
              "  </script>\n",
              "</div>\n",
              "\n",
              "  <div id=\"id_77fcc86c-ebbb-400e-b479-1447f411a5de\">\n",
              "    <style>\n",
              "      .colab-df-generate {\n",
              "        background-color: #E8F0FE;\n",
              "        border: none;\n",
              "        border-radius: 50%;\n",
              "        cursor: pointer;\n",
              "        display: none;\n",
              "        fill: #1967D2;\n",
              "        height: 32px;\n",
              "        padding: 0 0 0 0;\n",
              "        width: 32px;\n",
              "      }\n",
              "\n",
              "      .colab-df-generate:hover {\n",
              "        background-color: #E2EBFA;\n",
              "        box-shadow: 0px 1px 2px rgba(60, 64, 67, 0.3), 0px 1px 3px 1px rgba(60, 64, 67, 0.15);\n",
              "        fill: #174EA6;\n",
              "      }\n",
              "\n",
              "      [theme=dark] .colab-df-generate {\n",
              "        background-color: #3B4455;\n",
              "        fill: #D2E3FC;\n",
              "      }\n",
              "\n",
              "      [theme=dark] .colab-df-generate:hover {\n",
              "        background-color: #434B5C;\n",
              "        box-shadow: 0px 1px 3px 1px rgba(0, 0, 0, 0.15);\n",
              "        filter: drop-shadow(0px 1px 2px rgba(0, 0, 0, 0.3));\n",
              "        fill: #FFFFFF;\n",
              "      }\n",
              "    </style>\n",
              "    <button class=\"colab-df-generate\" onclick=\"generateWithVariable('df_ibm')\"\n",
              "            title=\"Generate code using this dataframe.\"\n",
              "            style=\"display:none;\">\n",
              "\n",
              "  <svg xmlns=\"http://www.w3.org/2000/svg\" height=\"24px\"viewBox=\"0 0 24 24\"\n",
              "       width=\"24px\">\n",
              "    <path d=\"M7,19H8.4L18.45,9,17,7.55,7,17.6ZM5,21V16.75L18.45,3.32a2,2,0,0,1,2.83,0l1.4,1.43a1.91,1.91,0,0,1,.58,1.4,1.91,1.91,0,0,1-.58,1.4L9.25,21ZM18.45,9,17,7.55Zm-12,3A5.31,5.31,0,0,0,4.9,8.1,5.31,5.31,0,0,0,1,6.5,5.31,5.31,0,0,0,4.9,4.9,5.31,5.31,0,0,0,6.5,1,5.31,5.31,0,0,0,8.1,4.9,5.31,5.31,0,0,0,12,6.5,5.46,5.46,0,0,0,6.5,12Z\"/>\n",
              "  </svg>\n",
              "    </button>\n",
              "    <script>\n",
              "      (() => {\n",
              "      const buttonEl =\n",
              "        document.querySelector('#id_77fcc86c-ebbb-400e-b479-1447f411a5de button.colab-df-generate');\n",
              "      buttonEl.style.display =\n",
              "        google.colab.kernel.accessAllowed ? 'block' : 'none';\n",
              "\n",
              "      buttonEl.onclick = () => {\n",
              "        google.colab.notebook.generateWithVariable('df_ibm');\n",
              "      }\n",
              "      })();\n",
              "    </script>\n",
              "  </div>\n",
              "\n",
              "    </div>\n",
              "  </div>\n"
            ],
            "text/plain": [
              "              Open    High     Low   Close     Volume  OpenInt\n",
              "2010-01-04  109.55  111.03  109.26  110.59  7371472.0      0.0\n",
              "2010-01-05  109.95  110.11  108.65  109.26  8193158.0      0.0\n",
              "2010-01-06  109.12  109.81  108.39  108.56  6712810.0      0.0\n",
              "2010-01-07  108.45  108.77  107.65  108.19  6995459.0      0.0\n",
              "2010-01-08  107.76  109.31  107.75  109.26  5019238.0      0.0\n",
              "...            ...     ...     ...     ...        ...      ...\n",
              "2017-10-05  145.23  146.08  145.03  145.27  2713337.0      0.0\n",
              "2017-10-06  145.19  145.40  144.87  145.03  2647099.0      0.0\n",
              "2017-10-09  145.05  146.33  144.90  145.93  2709319.0      0.0\n",
              "2017-10-10  146.25  147.48  146.19  147.03  4069894.0      0.0\n",
              "2017-10-11  146.93  147.00  145.82  146.16  3738253.0      0.0\n",
              "\n",
              "[2028 rows x 6 columns]"
            ]
          },
          "execution_count": 26,
          "metadata": {},
          "output_type": "execute_result"
        }
      ],
      "source": [
        "dates = pd.date_range('2010-01-02','2017-10-11',freq='B')\n",
        "df1=pd.DataFrame(index=dates)\n",
        "\n",
        "# TODO 7.1 - 7.3\n",
        "df_ibm = pd.read_csv('/content/ibm.csv', parse_dates=True, index_col=0)\n",
        "df_ibm = df1.join(df_ibm, how='left')\n",
        "\n",
        "df_ibm"
      ]
    },
    {
      "cell_type": "markdown",
      "id": "F7kaf5OC_cP3",
      "metadata": {
        "id": "F7kaf5OC_cP3"
      },
      "source": [
        "## Visualization"
      ]
    },
    {
      "cell_type": "markdown",
      "id": "vINVuRReHgeM",
      "metadata": {
        "id": "vINVuRReHgeM"
      },
      "source": [
        "### TODO 8 (3 points)\n",
        "\n",
        "Plot the line plot of the column `Close` for the considered range of dates"
      ]
    },
    {
      "cell_type": "code",
      "execution_count": null,
      "id": "u12Bt-5b5lvD",
      "metadata": {
        "colab": {
          "base_uri": "https://localhost:8080/",
          "height": 452
        },
        "id": "u12Bt-5b5lvD",
        "outputId": "e617a512-e936-4457-d2fe-62224ae017a5"
      },
      "outputs": [
        {
          "data": {
            "image/png": "[encoded data removed]",
            "text/plain": [
              "<Figure size 640x480 with 1 Axes>"
            ]
          },
          "metadata": {},
          "output_type": "display_data"
        }
      ],
      "source": [
        "# TODO 8\n",
        "plt.plot(df_ibm['Close'], label='Close Price')\n",
        "plt.title('IBM Stock')\n",
        "plt.ylabel('stock_price')\n",
        "plt.legend()\n",
        "plt.show()"
      ]
    },
    {
      "cell_type": "markdown",
      "id": "m1wNzfpr_uqa",
      "metadata": {
        "id": "m1wNzfpr_uqa"
      },
      "source": [
        "## Data Preprocessing"
      ]
    },
    {
      "cell_type": "markdown",
      "id": "PZHPq_GR88Bz",
      "metadata": {
        "id": "PZHPq_GR88Bz"
      },
      "source": [
        "### TODO 9 (6 points)\n",
        "\n",
        "For our lab purposes, let us perform analysis only on the column `Close` and discard the remaining.\n",
        "\n",
        "1. Restructure the dataframe such that it contains only the column `Close`. Make sure that the index that we've set previously doesn't get changed. Store it into `df_ibm` itself.\n",
        "2. Fill all the null values in the column using `fillna` function.\n",
        "3. Standardize the column using `MinMaxScaler` with a feature range (-1, 1). Store it in a variable `scaler` and use it to transform the `Close` column values in the DataFrame `df_ibm` by fitting and transforming them into the scaled values"
      ]
    },
    {
      "cell_type": "code",
      "execution_count": null,
      "id": "k0REKlKv5nsD",
      "metadata": {
        "colab": {
          "base_uri": "https://localhost:8080/"
        },
        "id": "k0REKlKv5nsD",
        "outputId": "69638d03-9cc8-4780-8242-eff6667cce28"
      },
      "outputs": [
        {
          "name": "stdout",
          "output_type": "stream",
          "text": [
            "<class 'pandas.core.frame.DataFrame'>\n",
            "DatetimeIndex: 2028 entries, 2010-01-04 to 2017-10-11\n",
            "Freq: B\n",
            "Data columns (total 1 columns):\n",
            " #   Column  Non-Null Count  Dtype  \n",
            "---  ------  --------------  -----  \n",
            " 0   Close   1958 non-null   float64\n",
            "dtypes: float64(1)\n",
            "memory usage: 96.2 KB\n"
          ]
        }
      ],
      "source": [
        "# TODO 9.1\n",
        "df_ibm = df_ibm[['Close']]\n",
        "\n",
        "df_ibm.info()"
      ]
    },
    {
      "cell_type": "code",
      "execution_count": null,
      "id": "NmM7oIgr5pry",
      "metadata": {
        "colab": {
          "base_uri": "https://localhost:8080/",
          "height": 632
        },
        "id": "NmM7oIgr5pry",
        "outputId": "51784674-7454-43de-b648-af84107dd69a"
      },
      "outputs": [
        {
          "name": "stderr",
          "output_type": "stream",
          "text": [
            "<ipython-input-29-5bde5cf6069d>:2: SettingWithCopyWarning: \n",
            "A value is trying to be set on a copy of a slice from a DataFrame.\n",
            "Try using .loc[row_indexer,col_indexer] = value instead\n",
            "\n",
            "See the caveats in the documentation: https://pandas.pydata.org/pandas-docs/stable/user_guide/indexing.html#returning-a-view-versus-a-copy\n",
            "  df_ibm['Close'] = df_ibm['Close'].fillna(method='ffill')\n",
            "<ipython-input-29-5bde5cf6069d>:6: SettingWithCopyWarning: \n",
            "A value is trying to be set on a copy of a slice from a DataFrame.\n",
            "Try using .loc[row_indexer,col_indexer] = value instead\n",
            "\n",
            "See the caveats in the documentation: https://pandas.pydata.org/pandas-docs/stable/user_guide/indexing.html#returning-a-view-versus-a-copy\n",
            "  df_ibm['Close'] = scaler.fit_transform(df_ibm[['Close']])\n"
          ]
        },
        {
          "data": {
            "application/vnd.google.colaboratory.intrinsic+json": {
              "summary": "{\n  \"name\": \"df_ibm\",\n  \"rows\": 2028,\n  \"fields\": [\n    {\n      \"column\": \"Close\",\n      \"properties\": {\n        \"dtype\": \"number\",\n        \"std\": 0.48313205177959434,\n        \"min\": -1.0,\n        \"max\": 0.9999999999999996,\n        \"num_unique_values\": 1683,\n        \"samples\": [\n          -0.1002127156700543,\n          0.737177972110612,\n          0.09028598440085078\n        ],\n        \"semantic_type\": \"\",\n        \"description\": \"\"\n      }\n    }\n  ]\n}",
              "type": "dataframe",
              "variable_name": "df_ibm"
            },
            "text/html": [
              "\n",
              "  <div id=\"df-d666a34d-1bd2-482d-bcdf-6c30dcc75455\" class=\"colab-df-container\">\n",
              "    <div>\n",
              "<style scoped>\n",
              "    .dataframe tbody tr th:only-of-type {\n",
              "        vertical-align: middle;\n",
              "    }\n",
              "\n",
              "    .dataframe tbody tr th {\n",
              "        vertical-align: top;\n",
              "    }\n",
              "\n",
              "    .dataframe thead th {\n",
              "        text-align: right;\n",
              "    }\n",
              "</style>\n",
              "<table border=\"1\" class=\"dataframe\">\n",
              "  <thead>\n",
              "    <tr style=\"text-align: right;\">\n",
              "      <th></th>\n",
              "      <th>Close</th>\n",
              "    </tr>\n",
              "  </thead>\n",
              "  <tbody>\n",
              "    <tr>\n",
              "      <th>2010-01-04</th>\n",
              "      <td>-0.790830</td>\n",
              "    </tr>\n",
              "    <tr>\n",
              "      <th>2010-01-05</th>\n",
              "      <td>-0.822264</td>\n",
              "    </tr>\n",
              "    <tr>\n",
              "      <th>2010-01-06</th>\n",
              "      <td>-0.838809</td>\n",
              "    </tr>\n",
              "    <tr>\n",
              "      <th>2010-01-07</th>\n",
              "      <td>-0.847554</td>\n",
              "    </tr>\n",
              "    <tr>\n",
              "      <th>2010-01-08</th>\n",
              "      <td>-0.822264</td>\n",
              "    </tr>\n",
              "    <tr>\n",
              "      <th>...</th>\n",
              "      <td>...</td>\n",
              "    </tr>\n",
              "    <tr>\n",
              "      <th>2017-10-05</th>\n",
              "      <td>0.028835</td>\n",
              "    </tr>\n",
              "    <tr>\n",
              "      <th>2017-10-06</th>\n",
              "      <td>0.023162</td>\n",
              "    </tr>\n",
              "    <tr>\n",
              "      <th>2017-10-09</th>\n",
              "      <td>0.044434</td>\n",
              "    </tr>\n",
              "    <tr>\n",
              "      <th>2017-10-10</th>\n",
              "      <td>0.070433</td>\n",
              "    </tr>\n",
              "    <tr>\n",
              "      <th>2017-10-11</th>\n",
              "      <td>0.049870</td>\n",
              "    </tr>\n",
              "  </tbody>\n",
              "</table>\n",
              "<p>2028 rows × 1 columns</p>\n",
              "</div>\n",
              "    <div class=\"colab-df-buttons\">\n",
              "\n",
              "  <div class=\"colab-df-container\">\n",
              "    <button class=\"colab-df-convert\" onclick=\"convertToInteractive('df-d666a34d-1bd2-482d-bcdf-6c30dcc75455')\"\n",
              "            title=\"Convert this dataframe to an interactive table.\"\n",
              "            style=\"display:none;\">\n",
              "\n",
              "  <svg xmlns=\"http://www.w3.org/2000/svg\" height=\"24px\" viewBox=\"0 -960 960 960\">\n",
              "    <path d=\"M120-120v-720h720v720H120Zm60-500h600v-160H180v160Zm220 220h160v-160H400v160Zm0 220h160v-160H400v160ZM180-400h160v-160H180v160Zm440 0h160v-160H620v160ZM180-180h160v-160H180v160Zm440 0h160v-160H620v160Z\"/>\n",
              "  </svg>\n",
              "    </button>\n",
              "\n",
              "  <style>\n",
              "    .colab-df-container {\n",
              "      display:flex;\n",
              "      gap: 12px;\n",
              "    }\n",
              "\n",
              "    .colab-df-convert {\n",
              "      background-color: #E8F0FE;\n",
              "      border: none;\n",
              "      border-radius: 50%;\n",
              "      cursor: pointer;\n",
              "      display: none;\n",
              "      fill: #1967D2;\n",
              "      height: 32px;\n",
              "      padding: 0 0 0 0;\n",
              "      width: 32px;\n",
              "    }\n",
              "\n",
              "    .colab-df-convert:hover {\n",
              "      background-color: #E2EBFA;\n",
              "      box-shadow: 0px 1px 2px rgba(60, 64, 67, 0.3), 0px 1px 3px 1px rgba(60, 64, 67, 0.15);\n",
              "      fill: #174EA6;\n",
              "    }\n",
              "\n",
              "    .colab-df-buttons div {\n",
              "      margin-bottom: 4px;\n",
              "    }\n",
              "\n",
              "    [theme=dark] .colab-df-convert {\n",
              "      background-color: #3B4455;\n",
              "      fill: #D2E3FC;\n",
              "    }\n",
              "\n",
              "    [theme=dark] .colab-df-convert:hover {\n",
              "      background-color: #434B5C;\n",
              "      box-shadow: 0px 1px 3px 1px rgba(0, 0, 0, 0.15);\n",
              "      filter: drop-shadow(0px 1px 2px rgba(0, 0, 0, 0.3));\n",
              "      fill: #FFFFFF;\n",
              "    }\n",
              "  </style>\n",
              "\n",
              "    <script>\n",
              "      const buttonEl =\n",
              "        document.querySelector('#df-d666a34d-1bd2-482d-bcdf-6c30dcc75455 button.colab-df-convert');\n",
              "      buttonEl.style.display =\n",
              "        google.colab.kernel.accessAllowed ? 'block' : 'none';\n",
              "\n",
              "      async function convertToInteractive(key) {\n",
              "        const element = document.querySelector('#df-d666a34d-1bd2-482d-bcdf-6c30dcc75455');\n",
              "        const dataTable =\n",
              "          await google.colab.kernel.invokeFunction('convertToInteractive',\n",
              "                                                    [key], {});\n",
              "        if (!dataTable) return;\n",
              "\n",
              "        const docLinkHtml = 'Like what you see? Visit the ' +\n",
              "          '<a target=\"_blank\" href=https://colab.research.google.com/notebooks/data_table.ipynb>data table notebook</a>'\n",
              "          + ' to learn more about interactive tables.';\n",
              "        element.innerHTML = '';\n",
              "        dataTable['output_type'] = 'display_data';\n",
              "        await google.colab.output.renderOutput(dataTable, element);\n",
              "        const docLink = document.createElement('div');\n",
              "        docLink.innerHTML = docLinkHtml;\n",
              "        element.appendChild(docLink);\n",
              "      }\n",
              "    </script>\n",
              "  </div>\n",
              "\n",
              "\n",
              "<div id=\"df-701cd45b-9de4-44e2-b703-84dbe1f8db20\">\n",
              "  <button class=\"colab-df-quickchart\" onclick=\"quickchart('df-701cd45b-9de4-44e2-b703-84dbe1f8db20')\"\n",
              "            title=\"Suggest charts\"\n",
              "            style=\"display:none;\">\n",
              "\n",
              "<svg xmlns=\"http://www.w3.org/2000/svg\" height=\"24px\"viewBox=\"0 0 24 24\"\n",
              "     width=\"24px\">\n",
              "    <g>\n",
              "        <path d=\"M19 3H5c-1.1 0-2 .9-2 2v14c0 1.1.9 2 2 2h14c1.1 0 2-.9 2-2V5c0-1.1-.9-2-2-2zM9 17H7v-7h2v7zm4 0h-2V7h2v10zm4 0h-2v-4h2v4z\"/>\n",
              "    </g>\n",
              "</svg>\n",
              "  </button>\n",
              "\n",
              "<style>\n",
              "  .colab-df-quickchart {\n",
              "      --bg-color: #E8F0FE;\n",
              "      --fill-color: #1967D2;\n",
              "      --hover-bg-color: #E2EBFA;\n",
              "      --hover-fill-color: #174EA6;\n",
              "      --disabled-fill-color: #AAA;\n",
              "      --disabled-bg-color: #DDD;\n",
              "  }\n",
              "\n",
              "  [theme=dark] .colab-df-quickchart {\n",
              "      --bg-color: #3B4455;\n",
              "      --fill-color: #D2E3FC;\n",
              "      --hover-bg-color: #434B5C;\n",
              "      --hover-fill-color: #FFFFFF;\n",
              "      --disabled-bg-color: #3B4455;\n",
              "      --disabled-fill-color: #666;\n",
              "  }\n",
              "\n",
              "  .colab-df-quickchart {\n",
              "    background-color: var(--bg-color);\n",
              "    border: none;\n",
              "    border-radius: 50%;\n",
              "    cursor: pointer;\n",
              "    display: none;\n",
              "    fill: var(--fill-color);\n",
              "    height: 32px;\n",
              "    padding: 0;\n",
              "    width: 32px;\n",
              "  }\n",
              "\n",
              "  .colab-df-quickchart:hover {\n",
              "    background-color: var(--hover-bg-color);\n",
              "    box-shadow: 0 1px 2px rgba(60, 64, 67, 0.3), 0 1px 3px 1px rgba(60, 64, 67, 0.15);\n",
              "    fill: var(--button-hover-fill-color);\n",
              "  }\n",
              "\n",
              "  .colab-df-quickchart-complete:disabled,\n",
              "  .colab-df-quickchart-complete:disabled:hover {\n",
              "    background-color: var(--disabled-bg-color);\n",
              "    fill: var(--disabled-fill-color);\n",
              "    box-shadow: none;\n",
              "  }\n",
              "\n",
              "  .colab-df-spinner {\n",
              "    border: 2px solid var(--fill-color);\n",
              "    border-color: transparent;\n",
              "    border-bottom-color: var(--fill-color);\n",
              "    animation:\n",
              "      spin 1s steps(1) infinite;\n",
              "  }\n",
              "\n",
              "  @keyframes spin {\n",
              "    0% {\n",
              "      border-color: transparent;\n",
              "      border-bottom-color: var(--fill-color);\n",
              "      border-left-color: var(--fill-color);\n",
              "    }\n",
              "    20% {\n",
              "      border-color: transparent;\n",
              "      border-left-color: var(--fill-color);\n",
              "      border-top-color: var(--fill-color);\n",
              "    }\n",
              "    30% {\n",
              "      border-color: transparent;\n",
              "      border-left-color: var(--fill-color);\n",
              "      border-top-color: var(--fill-color);\n",
              "      border-right-color: var(--fill-color);\n",
              "    }\n",
              "    40% {\n",
              "      border-color: transparent;\n",
              "      border-right-color: var(--fill-color);\n",
              "      border-top-color: var(--fill-color);\n",
              "    }\n",
              "    60% {\n",
              "      border-color: transparent;\n",
              "      border-right-color: var(--fill-color);\n",
              "    }\n",
              "    80% {\n",
              "      border-color: transparent;\n",
              "      border-right-color: var(--fill-color);\n",
              "      border-bottom-color: var(--fill-color);\n",
              "    }\n",
              "    90% {\n",
              "      border-color: transparent;\n",
              "      border-bottom-color: var(--fill-color);\n",
              "    }\n",
              "  }\n",
              "</style>\n",
              "\n",
              "  <script>\n",
              "    async function quickchart(key) {\n",
              "      const quickchartButtonEl =\n",
              "        document.querySelector('#' + key + ' button');\n",
              "      quickchartButtonEl.disabled = true;  // To prevent multiple clicks.\n",
              "      quickchartButtonEl.classList.add('colab-df-spinner');\n",
              "      try {\n",
              "        const charts = await google.colab.kernel.invokeFunction(\n",
              "            'suggestCharts', [key], {});\n",
              "      } catch (error) {\n",
              "        console.error('Error during call to suggestCharts:', error);\n",
              "      }\n",
              "      quickchartButtonEl.classList.remove('colab-df-spinner');\n",
              "      quickchartButtonEl.classList.add('colab-df-quickchart-complete');\n",
              "    }\n",
              "    (() => {\n",
              "      let quickchartButtonEl =\n",
              "        document.querySelector('#df-701cd45b-9de4-44e2-b703-84dbe1f8db20 button');\n",
              "      quickchartButtonEl.style.display =\n",
              "        google.colab.kernel.accessAllowed ? 'block' : 'none';\n",
              "    })();\n",
              "  </script>\n",
              "</div>\n",
              "\n",
              "  <div id=\"id_aea8fc0c-eee9-4749-bbb4-8966345e3f9f\">\n",
              "    <style>\n",
              "      .colab-df-generate {\n",
              "        background-color: #E8F0FE;\n",
              "        border: none;\n",
              "        border-radius: 50%;\n",
              "        cursor: pointer;\n",
              "        display: none;\n",
              "        fill: #1967D2;\n",
              "        height: 32px;\n",
              "        padding: 0 0 0 0;\n",
              "        width: 32px;\n",
              "      }\n",
              "\n",
              "      .colab-df-generate:hover {\n",
              "        background-color: #E2EBFA;\n",
              "        box-shadow: 0px 1px 2px rgba(60, 64, 67, 0.3), 0px 1px 3px 1px rgba(60, 64, 67, 0.15);\n",
              "        fill: #174EA6;\n",
              "      }\n",
              "\n",
              "      [theme=dark] .colab-df-generate {\n",
              "        background-color: #3B4455;\n",
              "        fill: #D2E3FC;\n",
              "      }\n",
              "\n",
              "      [theme=dark] .colab-df-generate:hover {\n",
              "        background-color: #434B5C;\n",
              "        box-shadow: 0px 1px 3px 1px rgba(0, 0, 0, 0.15);\n",
              "        filter: drop-shadow(0px 1px 2px rgba(0, 0, 0, 0.3));\n",
              "        fill: #FFFFFF;\n",
              "      }\n",
              "    </style>\n",
              "    <button class=\"colab-df-generate\" onclick=\"generateWithVariable('df_ibm')\"\n",
              "            title=\"Generate code using this dataframe.\"\n",
              "            style=\"display:none;\">\n",
              "\n",
              "  <svg xmlns=\"http://www.w3.org/2000/svg\" height=\"24px\"viewBox=\"0 0 24 24\"\n",
              "       width=\"24px\">\n",
              "    <path d=\"M7,19H8.4L18.45,9,17,7.55,7,17.6ZM5,21V16.75L18.45,3.32a2,2,0,0,1,2.83,0l1.4,1.43a1.91,1.91,0,0,1,.58,1.4,1.91,1.91,0,0,1-.58,1.4L9.25,21ZM18.45,9,17,7.55Zm-12,3A5.31,5.31,0,0,0,4.9,8.1,5.31,5.31,0,0,0,1,6.5,5.31,5.31,0,0,0,4.9,4.9,5.31,5.31,0,0,0,6.5,1,5.31,5.31,0,0,0,8.1,4.9,5.31,5.31,0,0,0,12,6.5,5.46,5.46,0,0,0,6.5,12Z\"/>\n",
              "  </svg>\n",
              "    </button>\n",
              "    <script>\n",
              "      (() => {\n",
              "      const buttonEl =\n",
              "        document.querySelector('#id_aea8fc0c-eee9-4749-bbb4-8966345e3f9f button.colab-df-generate');\n",
              "      buttonEl.style.display =\n",
              "        google.colab.kernel.accessAllowed ? 'block' : 'none';\n",
              "\n",
              "      buttonEl.onclick = () => {\n",
              "        google.colab.notebook.generateWithVariable('df_ibm');\n",
              "      }\n",
              "      })();\n",
              "    </script>\n",
              "  </div>\n",
              "\n",
              "    </div>\n",
              "  </div>\n"
            ],
            "text/plain": [
              "               Close\n",
              "2010-01-04 -0.790830\n",
              "2010-01-05 -0.822264\n",
              "2010-01-06 -0.838809\n",
              "2010-01-07 -0.847554\n",
              "2010-01-08 -0.822264\n",
              "...              ...\n",
              "2017-10-05  0.028835\n",
              "2017-10-06  0.023162\n",
              "2017-10-09  0.044434\n",
              "2017-10-10  0.070433\n",
              "2017-10-11  0.049870\n",
              "\n",
              "[2028 rows x 1 columns]"
            ]
          },
          "execution_count": 29,
          "metadata": {},
          "output_type": "execute_result"
        }
      ],
      "source": [
        "# TODO 9.2\n",
        "df_ibm['Close'] = df_ibm['Close'].fillna(method='ffill')\n",
        "\n",
        "# TODO 9.3\n",
        "scaler = MinMaxScaler(feature_range=(-1, 1))\n",
        "df_ibm['Close'] = scaler.fit_transform(df_ibm[['Close']])\n",
        "\n",
        "df_ibm"
      ]
    },
    {
      "cell_type": "markdown",
      "id": "y2hoI_FE_2FD",
      "metadata": {
        "id": "y2hoI_FE_2FD"
      },
      "source": [
        "## Data Splitting\n"
      ]
    },
    {
      "cell_type": "markdown",
      "id": "aiLPhv8M8-Pj",
      "metadata": {
        "id": "aiLPhv8M8-Pj"
      },
      "source": [
        "### TODO 10 (6 points)\n",
        "\n",
        "1. Set the size of the test set to 20% of the total number of rows present in `data`. Store it in `test_set_size`. Then, compute the size of the training set by subtracting the size of the test set from the total number of rows in `data`. Store it in `train_test_size`.\n",
        "2. Set `look_back` to 60. This helps in creating batches of 60 sequences each.\n",
        "3. Split the standardized dataset into `x_train`, `y_train`, `x_test`, `y_test` by passing the dataset and the value of `look_back` to `load_data` function.\n",
        "4. Print the shapes of each of these subsets."
      ]
    },
    {
      "cell_type": "code",
      "execution_count": null,
      "id": "Z2HSGBJk5re-",
      "metadata": {
        "colab": {
          "base_uri": "https://localhost:8080/"
        },
        "id": "Z2HSGBJk5re-",
        "outputId": "27f26662-0d9c-4299-8a0a-b51d4f0964fe"
      },
      "outputs": [
        {
          "name": "stdout",
          "output_type": "stream",
          "text": [
            "x_train shape: (1623, 59, 1)\n",
            "y_train shape: (1623, 1)\n",
            "x_test shape: (345, 59, 1)\n",
            "y_test shape: (345, 1)\n"
          ]
        }
      ],
      "source": [
        "data = df_ibm\n",
        "\n",
        "test_set_size = int(len(data) * 0.2)\n",
        "train_set_size = len(data) - test_set_size\n",
        "\n",
        "def load_data(stock, look_back):\n",
        "    data_raw = stock.values\n",
        "    data = []\n",
        "\n",
        "    # create all possible sequences of length look_back\n",
        "    for index in range(len(data_raw) - look_back):\n",
        "        data.append(data_raw[index: index + look_back])\n",
        "\n",
        "    data = np.array(data);\n",
        "\n",
        "    x_train = data[:train_set_size,:-1,:]\n",
        "    y_train = data[:train_set_size,-1,:]\n",
        "\n",
        "    x_test = data[train_set_size:,:-1]\n",
        "    y_test = data[train_set_size:,-1,:]\n",
        "\n",
        "    return [x_train, y_train, x_test, y_test]\n",
        "\n",
        "# TODO 10.2 - 10.4\n",
        "look_back = 60\n",
        "x_train, y_train, x_test, y_test = load_data(data, look_back)\n",
        "\n",
        "print(\"x_train shape:\", x_train.shape)\n",
        "print(\"y_train shape:\", y_train.shape)\n",
        "print(\"x_test shape:\", x_test.shape)\n",
        "print(\"y_test shape:\", y_test.shape)"
      ]
    },
    {
      "cell_type": "markdown",
      "id": "3v2_r_hB-y_N",
      "metadata": {
        "id": "3v2_r_hB-y_N"
      },
      "source": [
        "Since the data is a time series data, we dont split the data into training and testing parts randomly. While training, the model requires the training data that has some sort of continuity. Hence, we donot perform shuffling on this data unlike the one we have done on sentimental analysis data. Also, since the main goal of time series data is to predict future actions based on past actions, we seperate the last part of data into testing and set the remaining top part of the data to training.\n",
        "\n",
        "The below cell converts `x_train`, `y_train`, `x_test`, `y_test` from NumPy arrays to PyTorch Tensors that remain suitable to feed for our model."
      ]
    },
    {
      "cell_type": "code",
      "execution_count": null,
      "id": "rJ86F3eh5tuU",
      "metadata": {
        "id": "rJ86F3eh5tuU"
      },
      "outputs": [],
      "source": [
        "# Make training and test sets in torch\n",
        "x_train = torch.from_numpy(x_train).type(torch.Tensor)\n",
        "x_test = torch.from_numpy(x_test).type(torch.Tensor)\n",
        "y_train = torch.from_numpy(y_train).type(torch.Tensor)\n",
        "y_test = torch.from_numpy(y_test).type(torch.Tensor)"
      ]
    },
    {
      "cell_type": "markdown",
      "id": "yri4J1m7BvYg",
      "metadata": {
        "id": "yri4J1m7BvYg"
      },
      "source": [
        "## LSTM Model Creation"
      ]
    },
    {
      "cell_type": "markdown",
      "id": "EDZI3gHT9GeG",
      "metadata": {
        "id": "EDZI3gHT9GeG"
      },
      "source": [
        "### TODO 11 (10 points)\n",
        "\n",
        "1. Create an LSTM layer using `nn.LSTM` and pass the parameters `input_dim`, `hidden_dim`, `num_layers`, `output_dim`, and `Batch_first`. Set `batch_first` to True.  Store the whole layer in `lstm`.\n",
        "2. Create a linear layer using `nn.Linear` and pass `hidden_dim` and `output_dim` to it. Store it in `fc`.\n",
        "3. Call the LSTM class and pass `input_dim`, `hidden_dim`, `num_layers`, `output_dim`. Store the model in the variable `model`.\n",
        "4. Set MSE Loss as loss function using `nn.MSELoss` and store it in `loss_fn`.\n",
        "5. Set `optimizer` to `Adam` and pass the model parameters using `model.parameters()` and learning rate that is set to 0.01.\n",
        "\n",
        "Hint: Initialize the variables in 1&2 with the help of `self`."
      ]
    },
    {
      "cell_type": "code",
      "execution_count": null,
      "id": "0JVIgzrR5wyq",
      "metadata": {
        "colab": {
          "base_uri": "https://localhost:8080/"
        },
        "id": "0JVIgzrR5wyq",
        "outputId": "ee92324d-e25f-4418-9bc6-0574eb8216e8"
      },
      "outputs": [
        {
          "name": "stdout",
          "output_type": "stream",
          "text": [
            "LSTM(\n",
            "  (lstm): LSTM(1, 32, num_layers=2, batch_first=True)\n",
            "  (fc): Linear(in_features=32, out_features=1, bias=True)\n",
            ")\n"
          ]
        }
      ],
      "source": [
        "import torch.optim as optim\n",
        "\n",
        "input_dim = 1\n",
        "hidden_dim = 32\n",
        "num_layers = 2\n",
        "output_dim = 1\n",
        "\n",
        "\n",
        "class LSTM(nn.Module):\n",
        "\n",
        "    def __init__(self, input_dim, hidden_dim, num_layers, output_dim):\n",
        "\n",
        "        super(LSTM, self).__init__()\n",
        "\n",
        "       # Hidden dimensions\n",
        "        self.hidden_dim = hidden_dim\n",
        "\n",
        "        # Number of hidden layers\n",
        "        self.num_layers = num_layers\n",
        "\n",
        "        # TODO 11.1 - 11.2\n",
        "        self.lstm = nn.LSTM(input_dim, hidden_dim, num_layers, batch_first=True)\n",
        "\n",
        "        self.fc = nn.Linear(hidden_dim, output_dim)\n",
        "\n",
        "    def forward(self, x):\n",
        "\n",
        "        # Initialize hidden state with zeros\n",
        "        h0 = torch.zeros(self.num_layers, x.size(0), self.hidden_dim).requires_grad_()\n",
        "\n",
        "        # Initialize cell state\n",
        "        c0 = torch.zeros(self.num_layers, x.size(0), self.hidden_dim).requires_grad_()\n",
        "\n",
        "        # We need to detach as we are doing truncated backpropagation through time (BPTT)\n",
        "        # If we don't, we'll backprop all the way to the start even after going through another batch\n",
        "        out, (hn, cn) = self.lstm(x, (h0.detach(), c0.detach()))\n",
        "\n",
        "        # Index hidden state of last time step\n",
        "        out = self.fc(out[:, -1, :])\n",
        "\n",
        "        return out\n",
        "\n",
        "# TODO 11.3 - 11.5\n",
        "model = LSTM(input_dim, hidden_dim, num_layers, output_dim)\n",
        "loss_fn = nn.MSELoss()\n",
        "optimizer = optim.Adam(model.parameters(), lr=0.01)\n",
        "\n",
        "print(model)"
      ]
    },
    {
      "cell_type": "code",
      "execution_count": null,
      "id": "AfoyzVAdkoIT",
      "metadata": {
        "colab": {
          "base_uri": "https://localhost:8080/"
        },
        "id": "AfoyzVAdkoIT",
        "outputId": "afa2522b-07f3-431d-ed1a-cc75ec6fe9ef"
      },
      "outputs": [
        {
          "name": "stderr",
          "output_type": "stream",
          "text": [
            "<ipython-input-57-9493a9b831f3>:1: UserWarning: To copy construct from a tensor, it is recommended to use sourceTensor.clone().detach() or sourceTensor.clone().detach().requires_grad_(True), rather than torch.tensor(sourceTensor).\n",
            "  x_train_tensor = torch.tensor(x_train, dtype=torch.float32).unsqueeze(-1)\n",
            "<ipython-input-57-9493a9b831f3>:2: UserWarning: To copy construct from a tensor, it is recommended to use sourceTensor.clone().detach() or sourceTensor.clone().detach().requires_grad_(True), rather than torch.tensor(sourceTensor).\n",
            "  y_train_tensor = torch.tensor(y_train, dtype=torch.float32).unsqueeze(-1)\n"
          ]
        }
      ],
      "source": [
        "x_train_tensor = torch.tensor(x_train, dtype=torch.float32).unsqueeze(-1)\n",
        "y_train_tensor = torch.tensor(y_train, dtype=torch.float32).unsqueeze(-1)"
      ]
    },
    {
      "cell_type": "markdown",
      "id": "f6jM7ZmAB55q",
      "metadata": {
        "id": "f6jM7ZmAB55q"
      },
      "source": [
        "## Training and Testing"
      ]
    },
    {
      "cell_type": "markdown",
      "id": "vWObCZ_C9MPO",
      "metadata": {
        "id": "vWObCZ_C9MPO"
      },
      "source": [
        "### TODO 12 (10 points)\n",
        "\n",
        "In this stage, we now focus on training the model using the training data that we've prepared in TODO 10.\n",
        "\n",
        "1. Set number of epochs to 100 in `num_epochs`.\n",
        "2. Pass the training data `x_train` to `model` and store the predictions in `y_train_pred`.\n",
        "3. Compute the loss function by passing `y_train_pred` and `y_train` to the loss function declared in `loss_fn` and store it in `loss`.\n",
        "4. Zero out the gradient in `optimizer` using `zero_grad()` function.\n",
        "5. Implement backward loss on `loss` using `backward()` function.\n",
        "6. Update the parameters in optimizer using `step()` function.\n",
        "7. Plot the training loss stored in `hist` and comment on it.\n",
        "\n",
        "Note: This cell takes some time to compute execution."
      ]
    },
    {
      "cell_type": "code",
      "execution_count": null,
      "id": "Qc115tZQ5yvX",
      "metadata": {
        "colab": {
          "base_uri": "https://localhost:8080/"
        },
        "id": "Qc115tZQ5yvX",
        "outputId": "299ede7d-3215-4ac1-eb10-69b4f490e13d"
      },
      "outputs": [
        {
          "name": "stdout",
          "output_type": "stream",
          "text": [
            "Epoch  10 MSE:  0.040519725531339645\n",
            "Epoch  20 MSE:  0.0164091307669878\n",
            "Epoch  30 MSE:  0.013361544348299503\n",
            "Epoch  40 MSE:  0.009568815119564533\n",
            "Epoch  50 MSE:  0.006280362140387297\n",
            "Epoch  60 MSE:  0.004882153123617172\n",
            "Epoch  70 MSE:  0.00440862076357007\n",
            "Epoch  80 MSE:  0.004088068846613169\n",
            "Epoch  90 MSE:  0.003889309009537101\n",
            "Epoch  100 MSE:  0.003766012843698263\n"
          ]
        }
      ],
      "source": [
        "# TODO 12.1\n",
        "num_epochs = 100\n",
        "\n",
        "hist = np.zeros(num_epochs)\n",
        "\n",
        "# Number of steps to unroll\n",
        "seq_dim =look_back-1\n",
        "\n",
        "for t in range(num_epochs):\n",
        "\n",
        "    # TODO 12.2: Forward pass\n",
        "    y_train_pred = model(x_train)\n",
        "\n",
        "\n",
        "    # TODO 12.3: Loss Function\n",
        "    loss = loss_fn(y_train_pred, y_train)\n",
        "\n",
        "    if (t+1) % 10 == 0 and t !=0:\n",
        "        print(\"Epoch \", t+1, \"MSE: \", loss.item())\n",
        "    hist[t] = loss.item()\n",
        "\n",
        "    # TODO 12.4: Zero out gradient, else they will accumulate between epochs\n",
        "    optimizer.zero_grad()\n",
        "\n",
        "    # TODO 12.5: Backward pass\n",
        "    loss.backward()\n",
        "\n",
        "    # TODO 12.6: Update parameters\n",
        "    optimizer.step()\n"
      ]
    },
    {
      "cell_type": "code",
      "execution_count": null,
      "id": "mBTFfuEM505F",
      "metadata": {
        "colab": {
          "base_uri": "https://localhost:8080/",
          "height": 445
        },
        "id": "mBTFfuEM505F",
        "outputId": "dedc1b18-0745-4558-bc0a-d64f7951c8ba"
      },
      "outputs": [
        {
          "data": {
            "image/png": "[encoded data removed]",
            "text/plain": [
              "<Figure size 1000x500 with 1 Axes>"
            ]
          },
          "metadata": {},
          "output_type": "display_data"
        }
      ],
      "source": [
        "# TODO 12.7: Plotting the Training loss\n",
        "plt.figure(figsize=(10, 5))\n",
        "plt.plot(hist, label='Training loss')\n",
        "plt.legend()\n",
        "plt.show()"
      ]
    },
    {
      "cell_type": "markdown",
      "id": "Uyz-qadKCE6C",
      "metadata": {
        "id": "Uyz-qadKCE6C"
      },
      "source": [
        "`TODO 12.7`: Comment on the graph that you achieved."
      ]
    },
    {
      "cell_type": "markdown",
      "id": "maP9QYwgCM7l",
      "metadata": {
        "id": "maP9QYwgCM7l"
      },
      "source": [
        "`ANSWER:` There's a sharp decline in loss at the very beginning which means that the model quickly learned from the initial data. There is also a couple of early spikes which could mean that the model had some trouble getting patterns from the data. After 10 epochs the model declines signifigantly"
      ]
    },
    {
      "cell_type": "code",
      "execution_count": null,
      "id": "hHdaWvXXqVXd",
      "metadata": {
        "colab": {
          "base_uri": "https://localhost:8080/"
        },
        "id": "hHdaWvXXqVXd",
        "outputId": "0b2701e2-288d-4d48-82b1-9bc3425fe1c3"
      },
      "outputs": [
        {
          "name": "stderr",
          "output_type": "stream",
          "text": [
            "<ipython-input-38-8e725b855603>:1: UserWarning: To copy construct from a tensor, it is recommended to use sourceTensor.clone().detach() or sourceTensor.clone().detach().requires_grad_(True), rather than torch.tensor(sourceTensor).\n",
            "  x_test_tensor = torch.tensor(x_test, dtype=torch.float32).unsqueeze(-1)\n"
          ]
        }
      ],
      "source": [
        "x_test_tensor = torch.tensor(x_test, dtype=torch.float32).unsqueeze(-1)"
      ]
    },
    {
      "cell_type": "markdown",
      "id": "EU73j_io9YJl",
      "metadata": {
        "id": "EU73j_io9YJl"
      },
      "source": [
        "### TODO 13 (5 points)\n",
        "\n",
        "After completion of training, we now focus on testing the performance of our model.\n",
        "\n",
        "1. Make predictions from the model by passing `x_test` to `model` and store it in `y_test_pred`.\n",
        "2. Note the we have scaled all the values in our target column `Close` using MinMaxScaler. For making predictions, lets revert back by using `inverse_transform` function. The first one for `y_train_pred` is done for you. Repeat the same with `y_train`, `y_test_pred`, and `y_test`.\n",
        "3. Calculate the Root Mean Squared Error for training data by considering only the target column of `y_train` and `y_train_pred`.\n",
        "4. Perform the previous step with testing data by considering `y_test` and `y_test_pred`."
      ]
    },
    {
      "cell_type": "code",
      "execution_count": null,
      "id": "kwjHfzFA54Ls",
      "metadata": {
        "colab": {
          "base_uri": "https://localhost:8080/"
        },
        "id": "kwjHfzFA54Ls",
        "outputId": "bf222319-2979-4513-de05-05644b26494b"
      },
      "outputs": [
        {
          "name": "stdout",
          "output_type": "stream",
          "text": [
            "Train Score: 2.60 RMSE\n",
            "Test Score: 1.98 RMSE\n"
          ]
        }
      ],
      "source": [
        "# TODO 13.1: Make predictions\n",
        "y_test_pred = model(x_test)\n",
        "\n",
        "# TODO 13.2: Invert predictions\n",
        "y_train_pred = scaler.inverse_transform(y_train_pred.detach().numpy())\n",
        "y_train = scaler.inverse_transform(y_train.reshape(-1, 1))\n",
        "y_test_pred = scaler.inverse_transform(y_test_pred.detach().numpy())\n",
        "y_test = scaler.inverse_transform(y_test.reshape(-1, 1))\n",
        "\n",
        "# TODO 13.3 - 13.4: Calculate root mean squared error\n",
        "trainScore = sqrt(mean_squared_error(y_train[:,0], y_train_pred[:,0]))\n",
        "testScore = sqrt(mean_squared_error(y_test[:,0], y_test_pred[:,0]))\n",
        "\n",
        "print('Train Score: %.2f RMSE' % (trainScore))\n",
        "print('Test Score: %.2f RMSE' % (testScore))"
      ]
    },
    {
      "cell_type": "markdown",
      "id": "0Hq3AAYF9fL8",
      "metadata": {
        "id": "0Hq3AAYF9fL8"
      },
      "source": [
        "### TODO 14 (7 points)\n",
        "\n",
        "Let us now visualize the results.\n",
        "1. Plot a line graph to compare the original values `y_test` with the predicted values `y_test_pred`.\n",
        "  * Set the colour red to the original data and blue for predicted data.\n",
        "2. Set the corresponding dates in x-axis.\n",
        "  * Hint: `df_ibm[len(df_ibm)-len(y_test):]` gives you the list of dates that we've considered for testing purposes.\n",
        "3. Comment on the metrics and the graph that you achieved."
      ]
    },
    {
      "cell_type": "code",
      "execution_count": null,
      "id": "kOgFsH-456kg",
      "metadata": {
        "colab": {
          "base_uri": "https://localhost:8080/",
          "height": 564
        },
        "id": "kOgFsH-456kg",
        "outputId": "0ed1c9af-a358-4319-b223-aa2aa2baea71"
      },
      "outputs": [
        {
          "data": {
            "image/png": "[encoded data removed]",
            "text/plain": [
              "<Figure size 1200x600 with 1 Axes>"
            ]
          },
          "metadata": {},
          "output_type": "display_data"
        }
      ],
      "source": [
        "# TODO 14.1 - 14.2\n",
        "test_dates = df_ibm[len(df_ibm) - len(y_test):].index\n",
        "\n",
        "\n",
        "plt.figure(figsize=(12, 6))\n",
        "plt.plot(test_dates, y_test, color='red', label='Real IBM Stock Price')\n",
        "plt.plot(test_dates, y_test_pred, color='blue', label='Predicted IBM Stock Price')\n",
        "plt.title('IBM Stock Price Prediction')\n",
        "plt.xlabel('Date')\n",
        "plt.ylabel('Close Price')\n",
        "plt.legend()\n",
        "plt.show()"
      ]
    },
    {
      "cell_type": "markdown",
      "id": "Oc9LGKURClmh",
      "metadata": {
        "id": "Oc9LGKURClmh"
      },
      "source": [
        "`TODO 14.3`: Comment on the graph that you achieved."
      ]
    },
    {
      "cell_type": "markdown",
      "id": "CTCW-MBdCo6x",
      "metadata": {
        "id": "CTCW-MBdCo6x"
      },
      "source": [
        "`ANSWER:` the predictied model follow the actual price very closly which means the general pattern in the stock's movement over time. Obviously the model is not one to one and there is a slight delay that real model hits its target a little bit earlier than predicted. Extreme Drops and Rises in the Close price are predicted but to the point of that extent"
      ]
    },
    {
      "cell_type": "markdown",
      "id": "czumomxrC80Y",
      "metadata": {
        "id": "czumomxrC80Y"
      },
      "source": [
        "\n",
        "# Feedback (3 points)\n",
        "\n",
        "Did you enjoy the lab?\n",
        "\n",
        "Please take time to answer the following feedback qustions to help us further improve these labs! Your feedback is crucial to making these labs more useful!\n",
        "    \n"
      ]
    },
    {
      "cell_type": "markdown",
      "id": "G18VZ7xNDBgw",
      "metadata": {
        "id": "G18VZ7xNDBgw"
      },
      "source": [
        "* How do you rate the overall experience in this lab? (5 likert scale. i.e., 1 - poor ... 5 - amazing)  \n",
        "Why do you think so? What was most/least useful?\n",
        "\n"
      ]
    },
    {
      "cell_type": "markdown",
      "id": "DSGHaFvADErv",
      "metadata": {
        "id": "DSGHaFvADErv"
      },
      "source": [
        "`ANSWER:` N/A"
      ]
    },
    {
      "cell_type": "markdown",
      "id": "y6XD6_SYDJUX",
      "metadata": {
        "id": "y6XD6_SYDJUX"
      },
      "source": [
        "* What did you find difficult about the lab? Were there any TODOs that were unclear? If so, what specfically did not make sense about it?"
      ]
    },
    {
      "cell_type": "markdown",
      "id": "Lu0evIkxDQ57",
      "metadata": {
        "id": "Lu0evIkxDQ57"
      },
      "source": [
        "`ANSWER:` N/A"
      ]
    },
    {
      "cell_type": "markdown",
      "id": "kV4vt524DNgd",
      "metadata": {
        "id": "kV4vt524DNgd"
      },
      "source": [
        "* Which concepts, if any, within the lab do you feel could use more explanation?"
      ]
    },
    {
      "cell_type": "markdown",
      "id": "EoB4SBT9DROD",
      "metadata": {
        "id": "EoB4SBT9DROD"
      },
      "source": [
        "`ANSWER:` N/A"
      ]
    }
  ],
  "metadata": {
    "accelerator": "GPU",
    "colab": {
      "gpuType": "T4",
      "include_colab_link": true,
      "provenance": []
    },
    "kernelspec": {
      "display_name": "Python 3",
      "name": "python3"
    },
    "language_info": {
      "codemirror_mode": {
        "name": "ipython",
        "version": 3
      },
      "file_extension": ".py",
      "mimetype": "text/x-python",
      "name": "python",
      "nbconvert_exporter": "python",
      "pygments_lexer": "ipython3",
      "version": "3.7.10"
    },
    "papermill": {
      "default_parameters": {},
      "duration": 253.966236,
      "end_time": "2021-05-11T11:11:07.205562",
      "environment_variables": {},
      "exception": null,
      "input_path": "__notebook__.ipynb",
      "output_path": "__notebook__.ipynb",
      "parameters": {},
      "start_time": "2021-05-11T11:06:53.239326",
      "version": "2.3.3"
    }
  },
  "nbformat": 4,
  "nbformat_minor": 5
}
