{
  "cells": [
    {
      "cell_type": "markdown",
      "metadata": {
        "colab_type": "text",
        "id": "view-in-github"
      },
      "source": [
        "<a href=\"https://colab.research.google.com/github/AdamNur422/ITCS-5156/blob/main/13_Transformers.ipynb\" target=\"_parent\"><img src=\"https://colab.research.google.com/assets/colab-badge.svg\" alt=\"Open In Colab\"/></a>"
      ]
    },
    {
      "cell_type": "markdown",
      "metadata": {
        "id": "FVEXIr5Cu4EY"
      },
      "source": [
        "# Transformers\n",
        "\n",
        "\n",
        "### ITCS 5156\n",
        "### Minwoo \"Jake\" Lee\n",
        "\n",
        "<br/>\n",
        "<font color=\"blue\"><b>\n",
        "\n",
        "NAME: Adam Nur \n",
        "\n",
        "</b> </font>"
      ]
    },
    {
      "cell_type": "markdown",
      "metadata": {
        "id": "t6gNsAMdvFpr"
      },
      "source": [
        "# Goal\n",
        "\n",
        "The goal of this lab is to make you get familiar with Transformers. We will be using the IMDB Movie Review Dataset to implement the transformer architecture and achieve tasks related to sentimental analysis. Follow the TODO titles and comments to finish the activity!"
      ]
    },
    {
      "cell_type": "markdown",
      "metadata": {
        "id": "a4WWepxSvtzu"
      },
      "source": [
        "# Agenda\n",
        "\n",
        "* Reading the Data\n",
        "* Data Preprocessing\n",
        "* Data Splitting\n",
        "* Tokenization\n",
        "* Dataloaders\n",
        "* Transformer Initialization\n",
        "* Training\n",
        "* Testing\n",
        "* Evaluation\n",
        "* Inference"
      ]
    },
    {
      "cell_type": "markdown",
      "metadata": {
        "id": "00OhCSgxwI4o"
      },
      "source": [
        "# Tables of TODO's\n",
        "\n",
        "\n",
        "1. [TODO1 (5 points)](#TODO1)\n",
        "2. [TODO2 (10 points)](#TODO2)\n",
        "3. [TODO3 (5 points)](#TODO3)\n",
        "4. [TODO4 (5 points)](#TODO4)  \n",
        "5. [TODO5 (10 points)](#TODO5)\n",
        "6. [TODO6 (15 points)](#TODO6)\n",
        "7. [TODO7 (5 points)](#TODO7)\n",
        "8. [TODO8 (15 points)](#TODO8)\n",
        "9. [TODO9 (10 points)](#TODO9)\n",
        "10. [TODO10 (15 points)](#TODO10)\n",
        "11. [Feedback (5 points)](#Feedback)\n",
        "\n",
        "\n",
        "Well, let us start the lab with importing the common libraries first."
      ]
    },
    {
      "cell_type": "code",
      "execution_count": 3,
      "metadata": {
        "id": "Y99QZEQpkFzo"
      },
      "outputs": [],
      "source": [
        "import pandas as pd\n",
        "import re\n",
        "import torch\n",
        "from torch.utils.data import TensorDataset, DataLoader, RandomSampler, SequentialSampler\n",
        "from sklearn.model_selection import train_test_split\n",
        "from transformers import BertTokenizer, BertForSequenceClassification, AdamW, get_linear_schedule_with_warmup\n",
        "import numpy as np\n",
        "import time\n",
        "import datetime"
      ]
    },
    {
      "cell_type": "code",
      "execution_count": 4,
      "metadata": {
        "colab": {
          "base_uri": "https://localhost:8080/"
        },
        "id": "toH6F_MZkI7e",
        "outputId": "b9595269-0ec3-4ea2-f61f-6a659c5ff282"
      },
      "outputs": [
        {
          "name": "stdout",
          "output_type": "stream",
          "text": [
            "GPU is being used\n"
          ]
        }
      ],
      "source": [
        "# Checking GPU availability\n",
        "if torch.cuda.is_available():\n",
        "    device = torch.device(\"cuda\")\n",
        "    print(\"GPU is being used\")\n",
        "else:\n",
        "    print('No GPU available, using the CPU instead.')\n",
        "    device = torch.device(\"cpu\")"
      ]
    },
    {
      "cell_type": "markdown",
      "metadata": {
        "id": "HuT5nVkWwnVa"
      },
      "source": [
        "# Sentimental Analysis\n",
        "\n",
        "We will be considering IMDB Movie Reviews Dataset for performing machine learning tasks on Sentimental Analysis Data. This dataset consists of 50,000 movie reviews stored in the column `review` and each review is assignned a label as either positive or negative, stored in the column `sentiment`.\n",
        "\n",
        "<br>\n",
        "\n",
        "Sample Row:\n",
        "\n",
        "**Review:**\n",
        "`A wonderful little production. <br /><br />The filming technique is very unassuming- very old-time-BBC fashion and gives a comforting, and sometimes discomforting, sense of realism to the entire piece. <br /><br />The actors are extremely well chosen- Michael Sheen not only \"has got all the polari\" but he has all the voices down pat too! You can truly see the seamless editing guided by the references to Williams\\' diary entries, not only is it well worth the watching but it is a terrificly written and performed piece. A masterful production about one of the great master\\'s of comedy and his life. <br /><br />The realism really comes home with the little things: the fantasy of the guard which, rather than use the traditional \\'dream\\' techniques remains solid then disappears. It plays on our knowledge and our senses, particularly with the scenes concerning Orton and Halliwell and the sets (particularly of their flat with Halliwell\\'s murals decorating every surface) are terribly well done.`\n",
        "\n",
        "**Sentiment:** Positive\n",
        "\n",
        "<br>\n",
        "\n",
        "**You can download the dataset from this Lab Submission page on Canvas. We suggest you to place the dataset in the same directory where this notebook is located.**"
      ]
    },
    {
      "cell_type": "markdown",
      "metadata": {
        "id": "GqKZE8kAwwQ4"
      },
      "source": [
        "## Reading the data"
      ]
    },
    {
      "cell_type": "markdown",
      "metadata": {
        "id": "I5TpUYwjwzjP"
      },
      "source": [
        "### TODO 1 (5 points)\n",
        "\n",
        "1. Load the IMDB Movie Reviews Dataset  using `read_csv` function. Store the dataframe in `df`.\n",
        "2. Redefine the dataframe `df` to have only the first 15000 rows of the dataset.\n",
        "3. Print the dataframe and the shape of the dataframe `df`."
      ]
    },
    {
      "cell_type": "code",
      "execution_count": 8,
      "metadata": {
        "colab": {
          "base_uri": "https://localhost:8080/"
        },
        "id": "0bnSTTz0kJpd",
        "outputId": "51ba81d2-cff3-4bb1-b32b-b2432f631c4b"
      },
      "outputs": [
        {
          "name": "stdout",
          "output_type": "stream",
          "text": [
            "                                                  review sentiment\n",
            "0      One of the other reviewers has mentioned that ...  positive\n",
            "1      A wonderful little production. <br /><br />The...  positive\n",
            "2      I thought this was a wonderful way to spend ti...  positive\n",
            "3      Basically there's a family where a little boy ...  negative\n",
            "4      Petter Mattei's \"Love in the Time of Money\" is...  positive\n",
            "...                                                  ...       ...\n",
            "14995  Bobcat Goldthwait should be commended for atte...  negative\n",
            "14996  And it's not because since her days on \"Claris...  positive\n",
            "14997  A traveling couple (Horton and Hamilton)stumbl...  negative\n",
            "14998  This film is deeply disappointing. Not only th...  negative\n",
            "14999  The revelation here is Lana Turner's dancing a...  positive\n",
            "\n",
            "[15000 rows x 2 columns]\n",
            "(15000, 2)\n"
          ]
        }
      ],
      "source": [
        "# TODO 1\n",
        "df = pd.read_csv('/content/IMDB Dataset.csv')\n",
        "df = df.head(15000)\n",
        "print(df)\n",
        "print(df.shape)"
      ]
    },
    {
      "cell_type": "markdown",
      "metadata": {
        "id": "WlKdz9JtxH-j"
      },
      "source": [
        "## Data preprocessing"
      ]
    },
    {
      "cell_type": "markdown",
      "metadata": {
        "id": "6x5K92IiCWU0"
      },
      "source": [
        "Preprocessing the data is essential for effectively analyzing and modeling sentiment in the IMDb movie review dataset. If you look at the sample example review provided at the start, there are HTML tags `(\"<br />\")` and special characters like apostrophes (\"'\") that need to be removed or handled appropriately. Additionally, the review contains punctuation and capitalization variations that should be standardized for consistency. Furthermore, stopwords (common words like \"the\", \"is\", \"and\") may need to be removed to focus on meaningful content. Tokenization is also necessary to break down the text into individual words or tokens for analysis. By preprocessing the data, we can ensure that the text is in a clean and consistent format, which helps improve the accuracy and effectiveness of sentiment analysis models trained on this dataset. Follow the below steps to preprocess the data.\n"
      ]
    },
    {
      "cell_type": "markdown",
      "metadata": {
        "id": "7J3uwuc_xLbQ"
      },
      "source": [
        "### TODO 2 (10 points)\n",
        "\n",
        "1. Encode the sentiments positive and negative to 1 and 0 respectively. Store it in `df.sentiment`.\n",
        "2. Complete the process_text function below to remove any specific characters and patterns in each review. Use the method `re.sub` to\n",
        "   - Replace characters like `[,\\.!?:()\"]` with an empty string ('').\n",
        "   - Remove HTML tags by replacing any content between < and > with a space (' ').\n",
        "   - Replace URLs starting with `http` followed by any non-whitespace characters with a space (' ').\n",
        "   - Replace any characters that are not alphanumeric or whitespace with a space.\n",
        "   - Replace multiple consecutive whitespace characters with a single space.\n",
        "   - Convert the processed text to lowercase using the `lower()` method.\n",
        "   - Use the `strip()` method to remove leading and trailing whitespace.\n",
        "   - Return the processed text.\n",
        "      "
      ]
    },
    {
      "cell_type": "code",
      "execution_count": 9,
      "metadata": {
        "colab": {
          "base_uri": "https://localhost:8080/",
          "height": 206
        },
        "id": "Y6W-ZBtGkLch",
        "outputId": "0b422b13-cce4-4a01-d634-76073f591fa8"
      },
      "outputs": [
        {
          "data": {
            "application/vnd.google.colaboratory.intrinsic+json": {
              "summary": "{\n  \"name\": \"df\",\n  \"rows\": 15000,\n  \"fields\": [\n    {\n      \"column\": \"review\",\n      \"properties\": {\n        \"dtype\": \"string\",\n        \"num_unique_values\": 14961,\n        \"samples\": [\n          \"i tried i really really tried to think of something that would merit rating this higher than a two it s not that i don t get it i m a big fan of asian cinema the truth is the movie is infantile in construction long winded and painfully disjointed i suppose that if you are of alfred hitchcock s school of thought don t tell them show them then you could try to appreciate this movie but you would still be hard pressed first of all the terrorizers tries stream of consciousness in the style of jean luc godard and fails in this edward yang seems to understand the basics of the technique but he s very unskilled at it perhaps he gets better with age i don t know as i haven t yet attempted other yang films the point is he uses a dearth of show don t tell that really only serves to interrupt the procession of the story sure he gets in some visually arresting images but they don t draw the story together and they don t help to make it any better additionally the major concept behind stream of consciousness and show don t tell is that with the right images the right drama repetition and tight correlation the viewer will be able to make his or her own inferences not to say that these will be the correct inferences but those can be amended as the story progresses and every director should strive for some of this type of audience interaction in this edward yang sorely disappoints the viewer is constantly on the periphery there is no reason to be drawn in no reason to consider the characters or their motives no reason to get emotionally involved and really no reason to stay alert finally yang gets lost in the story that he wants to tell not the story that the movie itself is telling his art moves in one direction but like a large dog he can t control he s constantly yanking the lead trying to get it back onto the course he wants not the one that it is naturally following the most egregious example of this is the ending the ending really should have occurred at the moment of the husband s revelation the ending of the book that the movie is focusing on and by extension a possible ending for the movie has already been told to us if yang had chosen to end at that point he would have had a much more powerful piece leaving the watcher in suspense does the story play out as the book says or does yang s real world play out differently asking the viewer to think about this is the sort of viewer interaction that yang painfully needs instead he continues to tell the story he wants to tell straining the natural conclusion for the sake of what for the sheer sake of lingering on a main character we didn t need to know more about her superficially and yang wouldn t feel the need to tell us if he hadn t made her into a veneer instead of bothering to make her a more engaging and deep character to begin with why else does yang prolong and torture his movie to get in some more of those visually arresting images the movie truly suffers for it it wants to end it has a conclusion that feels natural and leaves the viewer unsettled but instead yang pushes on instead yang constructs a complex ending that leads the viewer on causing him or her to constantly ask so what the first ending the one that yang ignored that was good the second ending well my thought wasso what who cares because it s not as if it is introducing something that hasn t been put forth in the storyline already but the last ending that really was a waste of time not only did the real ending leave me disengaged but i also felt it was an affront to what the story could have been yang sacrificed a potentially good story for the bubblegum melancholy noir tinged conclusion that he had insisted upon all along my last problem with the movie has nothing to do with the movie itself but rather its post production the subbing if you see it subbed is horrible long sentences stay up for a second or two while short ones stay up far too long also as yang quickly changes images the subtitles are removed from the screen this is one of those rare instances that subtitles should be able to stay on the screen even as the image has changed because there s not much dialog going on anyway\",\n          \"supposedly director william shatner had in mind a much darker film when it came to star trek v the final frontier but the suits at paramount looking at the huge box office receipts taken in by its humor filled predecessor insisted the new film have plenty of laughs too so what we get is arguably the weakest and goofiest of the six star trek movies with the original cast there are bad ideas aplenty along with a few good ones and if you re in a charitable mood you could look at the final frontier the same way you would a so so episode of the tv series on the plus side laurence luckenbill is a fine actor and gives one of the best guest star performances in any star trek big or small screen ranking right up there with william windom s commodore decker his portrayal of sybok spock s half brother consistently lifts the film when it threatens to sink which happens all too frequently charles cooper is good too as the fat old klingon general korrd too bad his role isn t as large as he is if the story about shatner s intentions is true then i owe him an apology because i was prepared to lay the blame for the incessant silliness and not very convincing action scenes squarely at his directorial feet the reason is i ve always felt that of all the trek regulars shatner was the least tuned in to everything that makes star trek work and what makes it special to its fans having read his trek memoirs it s very apparent to me that he considered the show another action adventure series that just happened to have a science fiction setting he preferred the vision of gene coon over that of gene roddenberry coon was known for his work on the popular western series the wild wild west shatner also mentioned that a favorite star trek episode of his was a piece of the action a silly second season episode co written by coon so finally given an opportunity to direct a star trek feature film would not shatner follow his instincts and produce an action filled flick with lots of tongue in cheek humor well somebody did because that s what the final frontier ended up being shatner himself definitely returns to form as the great ham and as leonard maltin points out the film suffers from a bad case of the cutes in the opening scene at yosemite national park it s hard to say which is worse the super cheesy special effects or the godawful dialogue running gags about equipment malfunctioning on the enterprise have run all the way from wrath of khan and by this the fifth trek movie have run themselves into the ground so has the idea of a skeleton crew one new development is an apparent romantic relationship between scotty and uhura and suffice it to say one does not exactly sense flames of passion burning between the two it s a pointless subplot and adds nothing the climactic scene where god is encountered doesn t add much either whether or not this was a good idea in the first place is debatable but the scene itself doesn t make much sense the god creature s abilities seem to vary according to what is needed at the moment roughly half of this is a tired retread of the climax from the search for spock leonard nimoy manages to salvage spock s integrity even while spouting such un spock like lines as get a grip on yourself doctor and deforest kelley as usual outperforms both shatner and nimoy he really came on as an actor in the final trek films so this trek outing isn t terrible it just isn t very good there was to be one more original cast trek movie before the baton was passed to the next generation and it was far better suited to the task than star trek v the final frontier\",\n          \"pretty twisted horror film that has a few good moments here and there with some creepy blood transfusion scenes however it s just too dull for it s own good all the characters are ok and the story while had a lot of potential is rather dull however the blood transfusion scenes looked frighteningly real and as a result they were extremely disturbing it s well made and decently written and it started out really interesting but it just couldn t keep up the pace plus i found the ending to be disappointing linnea quigley has no more then a very small role in this so i was also disappointed about that and stephen knight does a good job as the lead as he was pretty twisted plus i got this in a dvd horror set called a taste of evil along with a bunch of other horror films there is lots of bloodhowever it s not all that gory and for it s low budget it was pretty well done however as i said it just couldn t sustain it s interest this is a pretty twisted horror film that has a few good moments here and there with some creepy blood transfusion scenes however it s just too dull for it s own good i would passbut i guess it s worth a watch if you have nothing better to do the direction is ok elly kenner norman thaddeus vane do an ok job here with decent camera work and doing a good job on it s low budget however the pace is too inconsistent for my liking the acting is actually alright stephen knight is great as the lead he was creepy twisted sick and gave a very creepy performance the most creepy thing about it though was he seemed like a normal person linnea quigley did well in her small role christopher mcdonald is ok i guess sin his short time rest of the cast are ok as well overall i would pass but i guess it s worth a watch if you have nothing absolutely better to do 1 2 out of 5\"\n        ],\n        \"semantic_type\": \"\",\n        \"description\": \"\"\n      }\n    },\n    {\n      \"column\": \"sentiment\",\n      \"properties\": {\n        \"dtype\": \"number\",\n        \"std\": 0,\n        \"min\": 0,\n        \"max\": 1,\n        \"num_unique_values\": 2,\n        \"samples\": [\n          0,\n          1\n        ],\n        \"semantic_type\": \"\",\n        \"description\": \"\"\n      }\n    }\n  ]\n}",
              "type": "dataframe",
              "variable_name": "df"
            },
            "text/html": [
              "\n",
              "  <div id=\"df-8fadd986-f9aa-4847-a599-bb6c679471c3\" class=\"colab-df-container\">\n",
              "    <div>\n",
              "<style scoped>\n",
              "    .dataframe tbody tr th:only-of-type {\n",
              "        vertical-align: middle;\n",
              "    }\n",
              "\n",
              "    .dataframe tbody tr th {\n",
              "        vertical-align: top;\n",
              "    }\n",
              "\n",
              "    .dataframe thead th {\n",
              "        text-align: right;\n",
              "    }\n",
              "</style>\n",
              "<table border=\"1\" class=\"dataframe\">\n",
              "  <thead>\n",
              "    <tr style=\"text-align: right;\">\n",
              "      <th></th>\n",
              "      <th>review</th>\n",
              "      <th>sentiment</th>\n",
              "    </tr>\n",
              "  </thead>\n",
              "  <tbody>\n",
              "    <tr>\n",
              "      <th>0</th>\n",
              "      <td>one of the other reviewers has mentioned that ...</td>\n",
              "      <td>1</td>\n",
              "    </tr>\n",
              "    <tr>\n",
              "      <th>1</th>\n",
              "      <td>a wonderful little production the filming tech...</td>\n",
              "      <td>1</td>\n",
              "    </tr>\n",
              "    <tr>\n",
              "      <th>2</th>\n",
              "      <td>i thought this was a wonderful way to spend ti...</td>\n",
              "      <td>1</td>\n",
              "    </tr>\n",
              "    <tr>\n",
              "      <th>3</th>\n",
              "      <td>basically there s a family where a little boy ...</td>\n",
              "      <td>0</td>\n",
              "    </tr>\n",
              "    <tr>\n",
              "      <th>4</th>\n",
              "      <td>petter mattei s love in the time of money is a...</td>\n",
              "      <td>1</td>\n",
              "    </tr>\n",
              "  </tbody>\n",
              "</table>\n",
              "</div>\n",
              "    <div class=\"colab-df-buttons\">\n",
              "\n",
              "  <div class=\"colab-df-container\">\n",
              "    <button class=\"colab-df-convert\" onclick=\"convertToInteractive('df-8fadd986-f9aa-4847-a599-bb6c679471c3')\"\n",
              "            title=\"Convert this dataframe to an interactive table.\"\n",
              "            style=\"display:none;\">\n",
              "\n",
              "  <svg xmlns=\"http://www.w3.org/2000/svg\" height=\"24px\" viewBox=\"0 -960 960 960\">\n",
              "    <path d=\"M120-120v-720h720v720H120Zm60-500h600v-160H180v160Zm220 220h160v-160H400v160Zm0 220h160v-160H400v160ZM180-400h160v-160H180v160Zm440 0h160v-160H620v160ZM180-180h160v-160H180v160Zm440 0h160v-160H620v160Z\"/>\n",
              "  </svg>\n",
              "    </button>\n",
              "\n",
              "  <style>\n",
              "    .colab-df-container {\n",
              "      display:flex;\n",
              "      gap: 12px;\n",
              "    }\n",
              "\n",
              "    .colab-df-convert {\n",
              "      background-color: #E8F0FE;\n",
              "      border: none;\n",
              "      border-radius: 50%;\n",
              "      cursor: pointer;\n",
              "      display: none;\n",
              "      fill: #1967D2;\n",
              "      height: 32px;\n",
              "      padding: 0 0 0 0;\n",
              "      width: 32px;\n",
              "    }\n",
              "\n",
              "    .colab-df-convert:hover {\n",
              "      background-color: #E2EBFA;\n",
              "      box-shadow: 0px 1px 2px rgba(60, 64, 67, 0.3), 0px 1px 3px 1px rgba(60, 64, 67, 0.15);\n",
              "      fill: #174EA6;\n",
              "    }\n",
              "\n",
              "    .colab-df-buttons div {\n",
              "      margin-bottom: 4px;\n",
              "    }\n",
              "\n",
              "    [theme=dark] .colab-df-convert {\n",
              "      background-color: #3B4455;\n",
              "      fill: #D2E3FC;\n",
              "    }\n",
              "\n",
              "    [theme=dark] .colab-df-convert:hover {\n",
              "      background-color: #434B5C;\n",
              "      box-shadow: 0px 1px 3px 1px rgba(0, 0, 0, 0.15);\n",
              "      filter: drop-shadow(0px 1px 2px rgba(0, 0, 0, 0.3));\n",
              "      fill: #FFFFFF;\n",
              "    }\n",
              "  </style>\n",
              "\n",
              "    <script>\n",
              "      const buttonEl =\n",
              "        document.querySelector('#df-8fadd986-f9aa-4847-a599-bb6c679471c3 button.colab-df-convert');\n",
              "      buttonEl.style.display =\n",
              "        google.colab.kernel.accessAllowed ? 'block' : 'none';\n",
              "\n",
              "      async function convertToInteractive(key) {\n",
              "        const element = document.querySelector('#df-8fadd986-f9aa-4847-a599-bb6c679471c3');\n",
              "        const dataTable =\n",
              "          await google.colab.kernel.invokeFunction('convertToInteractive',\n",
              "                                                    [key], {});\n",
              "        if (!dataTable) return;\n",
              "\n",
              "        const docLinkHtml = 'Like what you see? Visit the ' +\n",
              "          '<a target=\"_blank\" href=https://colab.research.google.com/notebooks/data_table.ipynb>data table notebook</a>'\n",
              "          + ' to learn more about interactive tables.';\n",
              "        element.innerHTML = '';\n",
              "        dataTable['output_type'] = 'display_data';\n",
              "        await google.colab.output.renderOutput(dataTable, element);\n",
              "        const docLink = document.createElement('div');\n",
              "        docLink.innerHTML = docLinkHtml;\n",
              "        element.appendChild(docLink);\n",
              "      }\n",
              "    </script>\n",
              "  </div>\n",
              "\n",
              "\n",
              "<div id=\"df-14490929-0d73-4def-b685-9f566f5f374f\">\n",
              "  <button class=\"colab-df-quickchart\" onclick=\"quickchart('df-14490929-0d73-4def-b685-9f566f5f374f')\"\n",
              "            title=\"Suggest charts\"\n",
              "            style=\"display:none;\">\n",
              "\n",
              "<svg xmlns=\"http://www.w3.org/2000/svg\" height=\"24px\"viewBox=\"0 0 24 24\"\n",
              "     width=\"24px\">\n",
              "    <g>\n",
              "        <path d=\"M19 3H5c-1.1 0-2 .9-2 2v14c0 1.1.9 2 2 2h14c1.1 0 2-.9 2-2V5c0-1.1-.9-2-2-2zM9 17H7v-7h2v7zm4 0h-2V7h2v10zm4 0h-2v-4h2v4z\"/>\n",
              "    </g>\n",
              "</svg>\n",
              "  </button>\n",
              "\n",
              "<style>\n",
              "  .colab-df-quickchart {\n",
              "      --bg-color: #E8F0FE;\n",
              "      --fill-color: #1967D2;\n",
              "      --hover-bg-color: #E2EBFA;\n",
              "      --hover-fill-color: #174EA6;\n",
              "      --disabled-fill-color: #AAA;\n",
              "      --disabled-bg-color: #DDD;\n",
              "  }\n",
              "\n",
              "  [theme=dark] .colab-df-quickchart {\n",
              "      --bg-color: #3B4455;\n",
              "      --fill-color: #D2E3FC;\n",
              "      --hover-bg-color: #434B5C;\n",
              "      --hover-fill-color: #FFFFFF;\n",
              "      --disabled-bg-color: #3B4455;\n",
              "      --disabled-fill-color: #666;\n",
              "  }\n",
              "\n",
              "  .colab-df-quickchart {\n",
              "    background-color: var(--bg-color);\n",
              "    border: none;\n",
              "    border-radius: 50%;\n",
              "    cursor: pointer;\n",
              "    display: none;\n",
              "    fill: var(--fill-color);\n",
              "    height: 32px;\n",
              "    padding: 0;\n",
              "    width: 32px;\n",
              "  }\n",
              "\n",
              "  .colab-df-quickchart:hover {\n",
              "    background-color: var(--hover-bg-color);\n",
              "    box-shadow: 0 1px 2px rgba(60, 64, 67, 0.3), 0 1px 3px 1px rgba(60, 64, 67, 0.15);\n",
              "    fill: var(--button-hover-fill-color);\n",
              "  }\n",
              "\n",
              "  .colab-df-quickchart-complete:disabled,\n",
              "  .colab-df-quickchart-complete:disabled:hover {\n",
              "    background-color: var(--disabled-bg-color);\n",
              "    fill: var(--disabled-fill-color);\n",
              "    box-shadow: none;\n",
              "  }\n",
              "\n",
              "  .colab-df-spinner {\n",
              "    border: 2px solid var(--fill-color);\n",
              "    border-color: transparent;\n",
              "    border-bottom-color: var(--fill-color);\n",
              "    animation:\n",
              "      spin 1s steps(1) infinite;\n",
              "  }\n",
              "\n",
              "  @keyframes spin {\n",
              "    0% {\n",
              "      border-color: transparent;\n",
              "      border-bottom-color: var(--fill-color);\n",
              "      border-left-color: var(--fill-color);\n",
              "    }\n",
              "    20% {\n",
              "      border-color: transparent;\n",
              "      border-left-color: var(--fill-color);\n",
              "      border-top-color: var(--fill-color);\n",
              "    }\n",
              "    30% {\n",
              "      border-color: transparent;\n",
              "      border-left-color: var(--fill-color);\n",
              "      border-top-color: var(--fill-color);\n",
              "      border-right-color: var(--fill-color);\n",
              "    }\n",
              "    40% {\n",
              "      border-color: transparent;\n",
              "      border-right-color: var(--fill-color);\n",
              "      border-top-color: var(--fill-color);\n",
              "    }\n",
              "    60% {\n",
              "      border-color: transparent;\n",
              "      border-right-color: var(--fill-color);\n",
              "    }\n",
              "    80% {\n",
              "      border-color: transparent;\n",
              "      border-right-color: var(--fill-color);\n",
              "      border-bottom-color: var(--fill-color);\n",
              "    }\n",
              "    90% {\n",
              "      border-color: transparent;\n",
              "      border-bottom-color: var(--fill-color);\n",
              "    }\n",
              "  }\n",
              "</style>\n",
              "\n",
              "  <script>\n",
              "    async function quickchart(key) {\n",
              "      const quickchartButtonEl =\n",
              "        document.querySelector('#' + key + ' button');\n",
              "      quickchartButtonEl.disabled = true;  // To prevent multiple clicks.\n",
              "      quickchartButtonEl.classList.add('colab-df-spinner');\n",
              "      try {\n",
              "        const charts = await google.colab.kernel.invokeFunction(\n",
              "            'suggestCharts', [key], {});\n",
              "      } catch (error) {\n",
              "        console.error('Error during call to suggestCharts:', error);\n",
              "      }\n",
              "      quickchartButtonEl.classList.remove('colab-df-spinner');\n",
              "      quickchartButtonEl.classList.add('colab-df-quickchart-complete');\n",
              "    }\n",
              "    (() => {\n",
              "      let quickchartButtonEl =\n",
              "        document.querySelector('#df-14490929-0d73-4def-b685-9f566f5f374f button');\n",
              "      quickchartButtonEl.style.display =\n",
              "        google.colab.kernel.accessAllowed ? 'block' : 'none';\n",
              "    })();\n",
              "  </script>\n",
              "</div>\n",
              "    </div>\n",
              "  </div>\n"
            ],
            "text/plain": [
              "                                              review  sentiment\n",
              "0  one of the other reviewers has mentioned that ...          1\n",
              "1  a wonderful little production the filming tech...          1\n",
              "2  i thought this was a wonderful way to spend ti...          1\n",
              "3  basically there s a family where a little boy ...          0\n",
              "4  petter mattei s love in the time of money is a...          1"
            ]
          },
          "execution_count": 9,
          "metadata": {},
          "output_type": "execute_result"
        }
      ],
      "source": [
        "# TODO 2.1\n",
        "df['sentiment'] = df['sentiment'].map({'positive': 1, 'negative': 0})\n",
        "\n",
        "def process_text(x):\n",
        "    # TODO 2.2\n",
        "    x = re.sub(r'[,\\.!?:()\"]', '', x)\n",
        "    x = re.sub(r'<[^>]+>', ' ', x)\n",
        "    x = re.sub(r'http\\S+', ' ', x)\n",
        "    x = re.sub(r'[^a-zA-Z0-9\\s]', ' ', x)\n",
        "    x = re.sub(r'\\s+', ' ', x)\n",
        "    x = x.lower().strip()\n",
        "    return x\n",
        "\n",
        "df['review'] = df['review'].apply(lambda x: process_text(x))\n",
        "df.head()"
      ]
    },
    {
      "cell_type": "markdown",
      "metadata": {
        "id": "j-hFVSv50FR7"
      },
      "source": [
        "## Data Splitting"
      ]
    },
    {
      "cell_type": "markdown",
      "metadata": {
        "id": "aztUuex70NXB"
      },
      "source": [
        "### TODO 3 (5 points)\n",
        "\n",
        "1. Using `train_test_split`, split the dataframe to `train` and `test` data with a `test_size` of 0.2.\n",
        "2. Repeat the same with `train` by splitting into `train` and `validation` with `test_size` set to 0.1."
      ]
    },
    {
      "cell_type": "code",
      "execution_count": 10,
      "metadata": {
        "id": "KjxCKx0vkQMI"
      },
      "outputs": [],
      "source": [
        "# TODO 3.1 - 3.2\n",
        "train, test = train_test_split(df, test_size=0.2, random_state=42)\n",
        "train, validation = train_test_split(train, test_size=0.1, random_state=42)"
      ]
    },
    {
      "cell_type": "code",
      "execution_count": 11,
      "metadata": {
        "id": "Dp8-h3E11ZBp"
      },
      "outputs": [],
      "source": [
        "train_sentences = train.review.values\n",
        "train_labels = train.sentiment.values\n",
        "test_sentences = test.review.values\n",
        "test_labels = test.sentiment.values\n",
        "validation_sentences = validation.review.values\n",
        "validation_labels = validation.sentiment.values"
      ]
    },
    {
      "cell_type": "markdown",
      "metadata": {
        "id": "BeTECOmJLnOk"
      },
      "source": [
        "## Transformers\n",
        "\n",
        "<img src=\"https://machinelearningmastery.com/wp-content/uploads/2021/08/attention_research_1-727x1024.png\" alt=\"Transformer Model Architecture\" height=\"500\"/>\n",
        "\n",
        "\n",
        "The transformer architecture adopts an encoder-decoder framework. The encoder, positioned on the left, converts input sequences into continuous representations. Meanwhile, the decoder, situated on the right, utilizes both the encoder output and its own previous output to generate an output sequence. This setup enables transformers to handle sequence-to-sequence tasks like translation. Removing the encoder component from the transformer yields insights into contextual information, leading to intriguing applications."
      ]
    },
    {
      "cell_type": "markdown",
      "metadata": {
        "id": "404EcVpgPgQJ"
      },
      "source": [
        "## Bidirectional Encoder Representation from Transformer (BERT)\n",
        "\n",
        "<img src=\"https://huggingface.co/blog/assets/52_bert_101/BERT-size-and-architecture.png\" alt=\"BERT Model Architecture\" height=\"300\"/>\n",
        "\n",
        "BERT (Bidirectional Encoder Representation from Transformer) harnesses attention mechanisms for a nuanced understanding of language context. Comprising numerous encoder blocks, BERT processes input text by tokenizing it into tokens, akin to the transformer model. Each token undergoes transformation into a vector, forming the output of BERT."
      ]
    },
    {
      "cell_type": "markdown",
      "metadata": {
        "id": "TrJ0bjr_0l0v"
      },
      "source": [
        "## Tokenization"
      ]
    },
    {
      "cell_type": "markdown",
      "metadata": {
        "id": "KZkK_mrf1BsG"
      },
      "source": [
        "### TODO 4 (5 points)\n",
        "\n",
        "1. Initialize BERT Tokenizer by using `BertTokenizer.from_pretrained()` with the model name `bert-base-uncased` and set `do_lower_case=True`.\n",
        "2. Pass `train_sentences` and `train_labels` to `generate_data` function. Store the resulting output from function in `train_input_ids, train_attention_masks, train_labels`.\n",
        "3. Repeat the same for test and validation sentences and labels. Store them in:\n",
        "  - Test: `test_input_ids, test_attention_masks, test_labels`\n",
        "  - Validation: `validation_input_ids, validation_attention_masks, validation_labels`."
      ]
    },
    {
      "cell_type": "code",
      "execution_count": 12,
      "metadata": {
        "colab": {
          "base_uri": "https://localhost:8080/",
          "height": 274,
          "referenced_widgets": [
            "9e0c49578a7c42f486e7b43597f16ff1",
            "0e487960a67e48d085c5cb66364a32e5",
            "2f428c78c46b4e60acc970e083864815",
            "7b43a20b04e940b9abacef3228613cb3",
            "7d61ef948e3a440ca4061947ee5cf631",
            "a6f1229d8fb6417ba59ef4b0eabe38f0",
            "5d064db9c70b4487bf04301c712415b5",
            "362e0968eb38461eba09e5ce37fa5461",
            "9700da3d36f04f80a067708f5950184d",
            "164ed22d2e8241f187a64963277d08b7",
            "923e5264ebe841ad90388219b1a78f8a",
            "3d85bfa1aec343439d68d397de55055d",
            "c765db9a673f496c88158de17ef48b29",
            "dad01bb79f21428bbeff8de2de2ee180",
            "a48db84aff6b4dab8636f1302c61262b",
            "a81d72ea63cc462a9acbd98183cc6940",
            "f233e3d172a04bb5b95bf05ff2ad5f5b",
            "7e78bb082b2445558ee301e4e6280477",
            "23f8fb55701247318f84473062379576",
            "5d39770c6f2244cf946362c685cff076",
            "a527fe9eb3f043558d90eefc7ccc989e",
            "fd0a522d030e4fd58644e80a65d9173b",
            "d4a527e4cd314eb5ad90a318446765c7",
            "c38801f991164802bb104be63d04134d",
            "4ac9e73be4034352a458f8463397055c",
            "8405720497884f91b3f353c572dd0a6f",
            "a0f163926833438f84b387dc84b1b138",
            "c0c29bd37cde426d949ed419e9b4f3ea",
            "7e659b03d6054992aced39d9206fc1f4",
            "12de90d68ec149c6bbaede34c7b460f6",
            "8a1128c480694748a42a47f8d674a332",
            "7e812879b3934dbb902e1ef6ce50ca64",
            "0c0ae42390bd44679ded416ba561c91c",
            "0bfafe986ca544bca7910c5124a56640",
            "abad1d814ead48e099d91f178a66fde3",
            "ff2d87c267de4df2a868deeaa0aeb1d3",
            "0670dcaa60c642f59b10e85b6be5f2a6",
            "f74f223d083a4a0792f79fe9f054251e",
            "5d19ad5f4deb4976a885bb6c0ba8a077",
            "a3147485b3564bc694f5579e92c7d217",
            "3f8f97acdee64e69b2f6d6908ef7c23d",
            "2dab07ec4dfb4608aa29bcbc5758ccd0",
            "42487c24cfa24caab87d749cc6e21d7f",
            "9fd078bb9e814b5594400c0784a4959d"
          ]
        },
        "id": "4W6Z4wGhkTkD",
        "outputId": "cf55cb25-636e-4a11-a0ec-25a8ad58f1aa"
      },
      "outputs": [
        {
          "name": "stderr",
          "output_type": "stream",
          "text": [
            "/usr/local/lib/python3.10/dist-packages/huggingface_hub/utils/_token.py:88: UserWarning: \n",
            "The secret `HF_TOKEN` does not exist in your Colab secrets.\n",
            "To authenticate with the Hugging Face Hub, create a token in your settings tab (https://huggingface.co/settings/tokens), set it as secret in your Google Colab and restart your session.\n",
            "You will be able to reuse this secret in all of your notebooks.\n",
            "Please note that authentication is recommended but still optional to access public models or datasets.\n",
            "  warnings.warn(\n"
          ]
        },
        {
          "data": {
            "application/vnd.jupyter.widget-view+json": {
              "model_id": "9e0c49578a7c42f486e7b43597f16ff1",
              "version_major": 2,
              "version_minor": 0
            },
            "text/plain": [
              "tokenizer_config.json:   0%|          | 0.00/48.0 [00:00<?, ?B/s]"
            ]
          },
          "metadata": {},
          "output_type": "display_data"
        },
        {
          "data": {
            "application/vnd.jupyter.widget-view+json": {
              "model_id": "3d85bfa1aec343439d68d397de55055d",
              "version_major": 2,
              "version_minor": 0
            },
            "text/plain": [
              "vocab.txt:   0%|          | 0.00/232k [00:00<?, ?B/s]"
            ]
          },
          "metadata": {},
          "output_type": "display_data"
        },
        {
          "data": {
            "application/vnd.jupyter.widget-view+json": {
              "model_id": "d4a527e4cd314eb5ad90a318446765c7",
              "version_major": 2,
              "version_minor": 0
            },
            "text/plain": [
              "tokenizer.json:   0%|          | 0.00/466k [00:00<?, ?B/s]"
            ]
          },
          "metadata": {},
          "output_type": "display_data"
        },
        {
          "data": {
            "application/vnd.jupyter.widget-view+json": {
              "model_id": "0bfafe986ca544bca7910c5124a56640",
              "version_major": 2,
              "version_minor": 0
            },
            "text/plain": [
              "config.json:   0%|          | 0.00/570 [00:00<?, ?B/s]"
            ]
          },
          "metadata": {},
          "output_type": "display_data"
        }
      ],
      "source": [
        "# TODO 4.1\n",
        "tokenizer = BertTokenizer.from_pretrained('bert-base-uncased', do_lower_case=True)"
      ]
    },
    {
      "cell_type": "markdown",
      "metadata": {
        "id": "e-pCMmdsF26K"
      },
      "source": [
        "The above piece of code initializes a BERT tokenizer from the Hugging Face Transformers library pretrained on the 'bert-base-uncased' model. By setting `do_lower_case=True`, the tokenizer converts all input text to lowercase, consistent with the model's training. This tokenizer enables the conversion of raw text input into numerical tokens compatible with BERT-based models, facilitating various downstream NLP tasks."
      ]
    },
    {
      "cell_type": "code",
      "execution_count": 13,
      "metadata": {
        "id": "5Ucq9q6dkXMy"
      },
      "outputs": [],
      "source": [
        "def generate_data(data, labels):\n",
        "    input_ids = []\n",
        "    attention_masks = []\n",
        "\n",
        "    for sent in data:\n",
        "        encoded_dict = tokenizer.encode_plus(\n",
        "                          sent,\n",
        "                          add_special_tokens=True,\n",
        "                          max_length=64,\n",
        "                          padding='max_length',\n",
        "                          return_attention_mask=True,\n",
        "                          truncation=True,\n",
        "                          return_tensors='pt')\n",
        "\n",
        "        input_ids.append(encoded_dict['input_ids'])\n",
        "        attention_masks.append(encoded_dict['attention_mask'])\n",
        "\n",
        "    input_ids = torch.cat(input_ids, dim=0)\n",
        "    attention_masks = torch.cat(attention_masks, dim=0)\n",
        "    labels = torch.tensor(labels)\n",
        "\n",
        "    return input_ids, attention_masks, labels"
      ]
    },
    {
      "cell_type": "markdown",
      "metadata": {
        "id": "-tXG6Rl9Fiji"
      },
      "source": [
        "The function `generate_data` above takes a list of text data (`data`) and corresponding labels (`labels`) as input. It iterates over each text sample in the data, encoding it using the BERT tokenizer (`tokenizer.encode_plus`). The encoded text is processed to include special tokens, ensure a maximum sequence length of 64 tokens, and pad shorter sequences to match the maximum length. Additionally, attention masks are generated to differentiate between actual tokens and padded tokens. The function then returns the encoded input IDs, attention masks, and labels as PyTorch tensors, ready to be used for training or evaluation in a BERT-based model."
      ]
    },
    {
      "cell_type": "code",
      "execution_count": 14,
      "metadata": {
        "id": "KsHeclP8kaB3"
      },
      "outputs": [],
      "source": [
        "# TODO 4.2 - 4.3\n",
        "train_input_ids, train_attention_masks, train_labels = generate_data(train_sentences, train_labels)\n",
        "test_input_ids, test_attention_masks, test_labels = generate_data(test_sentences, test_labels)\n",
        "validation_input_ids, validation_attention_masks, validation_labels = generate_data(validation_sentences, validation_labels)"
      ]
    },
    {
      "cell_type": "markdown",
      "metadata": {
        "id": "K6MQdNW4pDuc"
      },
      "source": [
        "## Dataloaders"
      ]
    },
    {
      "cell_type": "markdown",
      "metadata": {
        "id": "-3TsJPodpG0p"
      },
      "source": [
        "### TODO 5 (10 points)\n",
        "\n",
        "1. Set `batch_size` to 32.\n",
        "2. Create tensor datasets for train, test, and validation datasets using `TensorDataset` function. Pass the corresponding `input_ids, attention_masks, labels` to the function and store them in `train_dataset`, `test_dataset`, and `validation_dataset` for train, test, and validation data respectively.\n",
        "3. Use `DataLoader` and pass the train/validation/test datasets (`train_dataset, validation_dataset, test_dataset`) as arguments.\n",
        "\n",
        "   - Set the `sampler` parameter to `RandomSampler(train_dataset)` for the training data loader, and `SequentialSampler(validation_dataset)` and `SequentialSampler(test_dataset)` for the validation and test data loaders respectively.\n",
        "   - Specify the batch size using the `batch_size` parameter."
      ]
    },
    {
      "cell_type": "code",
      "execution_count": 15,
      "metadata": {
        "id": "QnrTT-CRkdA7"
      },
      "outputs": [],
      "source": [
        "# TODO 5.1 - 5.3\n",
        "batch_size = 32\n",
        "\n",
        "train_dataset = TensorDataset(train_input_ids, train_attention_masks, train_labels)\n",
        "test_dataset = TensorDataset(test_input_ids, test_attention_masks, test_labels)\n",
        "validation_dataset = TensorDataset(validation_input_ids, validation_attention_masks, validation_labels)\n",
        "\n",
        "train_dataloader = DataLoader(\n",
        "    train_dataset,\n",
        "    sampler=RandomSampler(train_dataset),\n",
        "    batch_size=batch_size\n",
        ")\n",
        "\n",
        "validation_dataloader = DataLoader(\n",
        "    validation_dataset,\n",
        "    sampler=SequentialSampler(validation_dataset),\n",
        "    batch_size=batch_size\n",
        ")\n",
        "\n",
        "test_dataloader = DataLoader(\n",
        "    test_dataset,\n",
        "    sampler=SequentialSampler(test_dataset),\n",
        "    batch_size=batch_size\n",
        ")"
      ]
    },
    {
      "cell_type": "markdown",
      "metadata": {
        "id": "EXdfGBp4QCd7"
      },
      "source": [
        "## How to use BERT for our downstream tasks?\n",
        "\n",
        "<img src=\"https://webpages.charlotte.edu/mlee173/teach/ml/images/class/BERT_classify.png\" alt=\"Applying BERT on our data\" height=\"300\" />\n",
        "\n",
        "\n",
        "This flowchart depicts the application of BERT for sentiment analysis of movie reviews from the IMDB dataset. BERT, a pre-trained deep learning model, excels at understanding contextual meaning in text. The process leverages BERT's knowledge to build a sentiment analysis model:\n",
        "\n",
        "1. **Data Acquisition:** The process begins with the IMDB movie review dataset, a collection of labeled reviews categorized as positive or negative.\n",
        "\n",
        "2. **Pre-trained BERT Model:** A pre-trained BERT model, trained on massive amounts of text data, serves as the foundation. This model possesses the ability to capture complex relationships between words and sentences, providing a strong base for sentiment analysis.\n",
        "\n",
        "3. **New Head Layer:**  A new head layer specifically designed for sentiment classification is added on top of the pre-trained BERT model. This head layer acts as the final decision layer, taking the contextual information extracted by BERT and translating it into sentiment categories (positive or negative).\n",
        "\n",
        "4. **Model Fine-Tuning:** The entire system, including the pre-trained BERT model and the newly added sentiment classification head, undergoes fine-tuning using the IMDB dataset. This fine-tuning process adjusts the weights within the model to optimize its performance for the specific task of sentiment analysis in movie reviews.\n",
        "\n",
        "5. **Sentiment Prediction:** Once fine-tuned, the model can be used for sentiment prediction on new, unseen movie reviews. By processing the review text through the BERT layers and the sentiment classification head, the model predicts the overall sentiment of the review.\n"
      ]
    },
    {
      "cell_type": "markdown",
      "metadata": {
        "id": "orUVpGjaGt_1"
      },
      "source": [
        "## Model Initialization"
      ]
    },
    {
      "cell_type": "markdown",
      "metadata": {
        "id": "Ejq2OnqS3oO3"
      },
      "source": [
        "For this lab, we will be using the `BertForSequenceClassification`, a pre-trained BERT model fine-tuned for sequence classification tasks. It consists of the BERT architecture followed by a classification layer. The BERT model encodes input sequences into contextualized representations, capturing intricate semantic and syntactic information. The classification layer then predicts the sequence's label based on these representations. During fine-tuning, the classification layer is trained on task-specific labeled data while the BERT parameters are fine-tuned. You can refer to this [link](https://huggingface.co/docs/transformers/en/model_doc/bert#transformers.BertForSequenceClassification) to learn more about the same."
      ]
    },
    {
      "cell_type": "markdown",
      "metadata": {
        "id": "DuobqRWMI9dk"
      },
      "source": [
        "### TODO 6 (15 points)\n",
        "\n",
        "1. Initialize BERT for Sequence Classification Model by using `BertForSequenceClassification.from_pretrained()` method from the Hugging Face Transformers library. Store it in `model`.\n",
        "\n",
        "   - Pass the model name `bert-base-uncased` as the first argument.\n",
        "   - Specify the number of labels using the `num_labels` parameter (in this case, 2 for binary classification).\n",
        "2. Use the `to()` method of the `model` to move it to the specified device (`device`).\n",
        "3. Write a brief explanation on the structure of the model."
      ]
    },
    {
      "cell_type": "code",
      "execution_count": 16,
      "metadata": {
        "colab": {
          "base_uri": "https://localhost:8080/",
          "height": 926,
          "referenced_widgets": [
            "6b27a6dc7ec44772a224c361bac6d0e8",
            "3589784ba6364664a43ebf8962ff3da0",
            "af97a4b040c24b22856a0c2981688519",
            "f3699e79ef884fa8a92c7c88c93c1b6c",
            "729957b539104c75a740ec9ca946414d",
            "16fd37c5b6de47959a8c620f019b6ac5",
            "cf08ccf8ee524656b3eeb605d66ae101",
            "c250110a827547f3abed803c7075707a",
            "44d7a10c9c4344c7b9ddf02ed5ab2463",
            "8b36a60d43f940218275dd3f686ddcb3",
            "87aa1c9dc68e46adbb409a85e18c7de4"
          ]
        },
        "id": "yTxbJ-rskdqI",
        "outputId": "e7739f37-e22a-4d5a-ed63-f5dfeacb6b4c"
      },
      "outputs": [
        {
          "data": {
            "application/vnd.jupyter.widget-view+json": {
              "model_id": "6b27a6dc7ec44772a224c361bac6d0e8",
              "version_major": 2,
              "version_minor": 0
            },
            "text/plain": [
              "model.safetensors:   0%|          | 0.00/440M [00:00<?, ?B/s]"
            ]
          },
          "metadata": {},
          "output_type": "display_data"
        },
        {
          "name": "stderr",
          "output_type": "stream",
          "text": [
            "Some weights of BertForSequenceClassification were not initialized from the model checkpoint at bert-base-uncased and are newly initialized: ['classifier.bias', 'classifier.weight']\n",
            "You should probably TRAIN this model on a down-stream task to be able to use it for predictions and inference.\n"
          ]
        },
        {
          "data": {
            "text/plain": [
              "BertForSequenceClassification(\n",
              "  (bert): BertModel(\n",
              "    (embeddings): BertEmbeddings(\n",
              "      (word_embeddings): Embedding(30522, 768, padding_idx=0)\n",
              "      (position_embeddings): Embedding(512, 768)\n",
              "      (token_type_embeddings): Embedding(2, 768)\n",
              "      (LayerNorm): LayerNorm((768,), eps=1e-12, elementwise_affine=True)\n",
              "      (dropout): Dropout(p=0.1, inplace=False)\n",
              "    )\n",
              "    (encoder): BertEncoder(\n",
              "      (layer): ModuleList(\n",
              "        (0-11): 12 x BertLayer(\n",
              "          (attention): BertAttention(\n",
              "            (self): BertSelfAttention(\n",
              "              (query): Linear(in_features=768, out_features=768, bias=True)\n",
              "              (key): Linear(in_features=768, out_features=768, bias=True)\n",
              "              (value): Linear(in_features=768, out_features=768, bias=True)\n",
              "              (dropout): Dropout(p=0.1, inplace=False)\n",
              "            )\n",
              "            (output): BertSelfOutput(\n",
              "              (dense): Linear(in_features=768, out_features=768, bias=True)\n",
              "              (LayerNorm): LayerNorm((768,), eps=1e-12, elementwise_affine=True)\n",
              "              (dropout): Dropout(p=0.1, inplace=False)\n",
              "            )\n",
              "          )\n",
              "          (intermediate): BertIntermediate(\n",
              "            (dense): Linear(in_features=768, out_features=3072, bias=True)\n",
              "            (intermediate_act_fn): GELUActivation()\n",
              "          )\n",
              "          (output): BertOutput(\n",
              "            (dense): Linear(in_features=3072, out_features=768, bias=True)\n",
              "            (LayerNorm): LayerNorm((768,), eps=1e-12, elementwise_affine=True)\n",
              "            (dropout): Dropout(p=0.1, inplace=False)\n",
              "          )\n",
              "        )\n",
              "      )\n",
              "    )\n",
              "    (pooler): BertPooler(\n",
              "      (dense): Linear(in_features=768, out_features=768, bias=True)\n",
              "      (activation): Tanh()\n",
              "    )\n",
              "  )\n",
              "  (dropout): Dropout(p=0.1, inplace=False)\n",
              "  (classifier): Linear(in_features=768, out_features=2, bias=True)\n",
              ")"
            ]
          },
          "execution_count": 16,
          "metadata": {},
          "output_type": "execute_result"
        }
      ],
      "source": [
        "# TODO 6.1 - 6.2\n",
        "model = BertForSequenceClassification.from_pretrained(\n",
        "    'bert-base-uncased',\n",
        "    num_labels = 2,\n",
        ")\n",
        "\n",
        "model.to(device)"
      ]
    },
    {
      "cell_type": "markdown",
      "metadata": {
        "id": "kib6q2McJt6t"
      },
      "source": [
        "`TODO 6.3:` Explain the structure of the model in brief."
      ]
    },
    {
      "cell_type": "markdown",
      "metadata": {
        "id": "osT9b2IwJ2X5"
      },
      "source": [
        "`ANSWER:` The first layer is a Embeddings Layer that converts input text tokens into vectors for the model to understand the context better. After that is 12 encoder layers that process the embeddings so the model foxuses on different part of a ssentence to understand contect better. After that is an outer layer  to make a choice if the movie is good or bad. Finally the output from the last encoder layer is pooled and passed through a classifier to predicts the label of the sequence."
      ]
    },
    {
      "cell_type": "markdown",
      "metadata": {
        "id": "0TbTvGqtKvfA"
      },
      "source": [
        "## Training"
      ]
    },
    {
      "cell_type": "markdown",
      "metadata": {
        "id": "_O3Fa76tM6GE"
      },
      "source": [
        "### TODO 7 (5 points)\n",
        "\n",
        "1. Set the number of epochs to train the model to 4. Store it in `epochs`.\n",
        "\n",
        "2. **Initialize Optimizer**:\n",
        "   - Use `AdamW` optimizer from the Hugging Face Transformers library.\n",
        "   - Pass the model parameters (`model.parameters()`) to optimize.\n",
        "   - Set the learning rate (`lr`) to 2e-5 and epsilon (`eps`) to 1e-8.\n",
        "   - Assign the initialized optimizer to the variable `optimizer`.\n",
        "\n",
        "\n",
        "3. **Calculate Total Steps**:\n",
        "   - Compute the total number of training steps.\n",
        "   - Multiply the number of batches in the training data loader by the number of epochs.\n",
        "   - Store it in `total_steps`.\n",
        "\n",
        "4. **Initialize Scheduler**:\n",
        "   - Use `get_linear_schedule_with_warmup` method from the Hugging Face Transformers library.\n",
        "   - Pass the initialized optimizer, setting `num_warmup_steps=0` and `num_training_steps=total_steps`.\n",
        "   - Assign the initialized scheduler to the variable `scheduler`."
      ]
    },
    {
      "cell_type": "code",
      "execution_count": 17,
      "metadata": {
        "colab": {
          "base_uri": "https://localhost:8080/"
        },
        "id": "_MAH0wvAHMMz",
        "outputId": "25b71280-7757-406a-a4c5-bd5997a5f7ba"
      },
      "outputs": [
        {
          "name": "stderr",
          "output_type": "stream",
          "text": [
            "/usr/local/lib/python3.10/dist-packages/transformers/optimization.py:429: FutureWarning: This implementation of AdamW is deprecated and will be removed in a future version. Use the PyTorch implementation torch.optim.AdamW instead, or set `no_deprecation_warning=True` to disable this warning\n",
            "  warnings.warn(\n"
          ]
        }
      ],
      "source": [
        "# TODO 7.1 - 7.4\n",
        "epochs = 4\n",
        "optimizer = AdamW(model.parameters(), lr=2e-5, eps=1e-8)\n",
        "total_steps = len(train_dataloader) * epochs\n",
        "scheduler = get_linear_schedule_with_warmup(optimizer, num_warmup_steps=0,num_training_steps=total_steps)"
      ]
    },
    {
      "cell_type": "code",
      "execution_count": 18,
      "metadata": {
        "id": "sVH8ic2KmxLK"
      },
      "outputs": [],
      "source": [
        "# The code in this cell helps to show the time taken for training purposes.\n",
        "\n",
        "def format_time(elapsed):\n",
        "    elapsed_rounded = int(round((elapsed)))\n",
        "    return str(datetime.timedelta(seconds=elapsed_rounded))"
      ]
    },
    {
      "cell_type": "markdown",
      "metadata": {
        "id": "n729SV5rN1tn"
      },
      "source": [
        "### TODO 8 (15 points)\n",
        "\n",
        "In this stage, we shall begin the training process. Follow the below instructions.\n",
        "\n",
        "1. Train the model using `train()` method.\n",
        "\n",
        "2. Use `zero_grad()` to clear the gradients of the `model` parameters.\n",
        "\n",
        "2. Call the model with the input arguments (`b_input_ids`, `token_type_ids=None`, `attention_mask=b_input_mask`, `labels=b_labels`) to perform a forward pass. Set `return_dict=True` to return a dictionary of outputs. Store in a variable named `result`.\n",
        "\n",
        "3. Access the loss and logits from the returned result using `.loss` and `.logits` respectively. Store the loss in a variable named `loss` and the logits in a variable named `logits`.\n",
        "\n",
        "4. Perform a backward pass on `loss` to calculate gradients using `backward()`.\n",
        "\n",
        "5. Update the model parameters using the `optimizer` with `step()`.\n",
        "\n",
        "6. Update the learning rate `scheduler` using the method `step()`.\n",
        "\n",
        "Note: This cell takes some time to run."
      ]
    },
    {
      "cell_type": "code",
      "execution_count": 19,
      "metadata": {
        "colab": {
          "base_uri": "https://localhost:8080/"
        },
        "id": "JCAKyja-hdjo",
        "outputId": "61342ba3-6734-4dbd-fec5-b93f6e3d7b9a"
      },
      "outputs": [
        {
          "name": "stdout",
          "output_type": "stream",
          "text": [
            "\n",
            "======== Epoch 1 / 4 ========\n",
            "Training Batch    40 of   338. Elapsed: 0:00:14.\n",
            "Training Batch    80 of   338. Elapsed: 0:00:27.\n",
            "Training Batch   120 of   338. Elapsed: 0:00:40.\n",
            "Training Batch   160 of   338. Elapsed: 0:00:53.\n",
            "Training Batch   200 of   338. Elapsed: 0:01:07.\n",
            "Training Batch   240 of   338. Elapsed: 0:01:20.\n",
            "Training Batch   280 of   338. Elapsed: 0:01:33.\n",
            "Training Batch   320 of   338. Elapsed: 0:01:47.\n",
            "\n",
            "Average training loss: 0.45\n",
            "Training epoch took: 0:01:53\n",
            "\n",
            "======== Epoch 2 / 4 ========\n",
            "Training Batch    40 of   338. Elapsed: 0:00:14.\n",
            "Training Batch    80 of   338. Elapsed: 0:00:27.\n",
            "Training Batch   120 of   338. Elapsed: 0:00:41.\n",
            "Training Batch   160 of   338. Elapsed: 0:00:55.\n",
            "Training Batch   200 of   338. Elapsed: 0:01:09.\n",
            "Training Batch   240 of   338. Elapsed: 0:01:22.\n",
            "Training Batch   280 of   338. Elapsed: 0:01:36.\n",
            "Training Batch   320 of   338. Elapsed: 0:01:50.\n",
            "\n",
            "Average training loss: 0.28\n",
            "Training epoch took: 0:01:56\n",
            "\n",
            "======== Epoch 3 / 4 ========\n",
            "Training Batch    40 of   338. Elapsed: 0:00:14.\n",
            "Training Batch    80 of   338. Elapsed: 0:00:28.\n",
            "Training Batch   120 of   338. Elapsed: 0:00:42.\n",
            "Training Batch   160 of   338. Elapsed: 0:00:56.\n",
            "Training Batch   200 of   338. Elapsed: 0:01:10.\n",
            "Training Batch   240 of   338. Elapsed: 0:01:23.\n",
            "Training Batch   280 of   338. Elapsed: 0:01:38.\n",
            "Training Batch   320 of   338. Elapsed: 0:01:52.\n",
            "\n",
            "Average training loss: 0.17\n",
            "Training epoch took: 0:01:58\n",
            "\n",
            "======== Epoch 4 / 4 ========\n",
            "Training Batch    40 of   338. Elapsed: 0:00:14.\n",
            "Training Batch    80 of   338. Elapsed: 0:00:28.\n",
            "Training Batch   120 of   338. Elapsed: 0:00:42.\n",
            "Training Batch   160 of   338. Elapsed: 0:00:56.\n",
            "Training Batch   200 of   338. Elapsed: 0:01:10.\n",
            "Training Batch   240 of   338. Elapsed: 0:01:24.\n",
            "Training Batch   280 of   338. Elapsed: 0:01:38.\n",
            "Training Batch   320 of   338. Elapsed: 0:01:52.\n",
            "\n",
            "Average training loss: 0.10\n",
            "Training epoch took: 0:01:59\n",
            "\n",
            "Training complete!\n",
            "Total training took 0:07:45 (h:mm:ss)\n"
          ]
        }
      ],
      "source": [
        "import random\n",
        "\n",
        "seed_val = 42\n",
        "\n",
        "random.seed(seed_val)\n",
        "np.random.seed(seed_val)\n",
        "torch.manual_seed(seed_val)\n",
        "torch.cuda.manual_seed_all(seed_val)\n",
        "\n",
        "training_stats = []\n",
        "total_t0 = time.time()\n",
        "\n",
        "# For every epoch:\n",
        "for epoch_i in range(0, epochs):\n",
        "    print(\"\")\n",
        "    print('======== Epoch {:} / {:} ========'.format(epoch_i + 1, epochs))\n",
        "    t0 = time.time()\n",
        "    total_train_loss = 0\n",
        "\n",
        "    # TODO 8.1\n",
        "    model.train()\n",
        "\n",
        "    # For every batch:\n",
        "    for step, batch in enumerate(train_dataloader):\n",
        "\n",
        "        if step % 40 == 0 and not step == 0:\n",
        "            elapsed = format_time(time.time() - t0)\n",
        "\n",
        "            print('Training Batch {:>5,} of {:>5,}. Elapsed: {:}.'.format(step, len(train_dataloader), elapsed))\n",
        "\n",
        "        b_input_ids = batch[0].to(device)\n",
        "        b_input_mask = batch[1].to(device)\n",
        "        b_labels = batch[2].to(device)\n",
        "\n",
        "        # TODO 8.2\n",
        "        model.zero_grad()\n",
        "\n",
        "        # TODO 8.3\n",
        "        result = model(b_input_ids,\n",
        "                              token_type_ids=None,\n",
        "                              attention_mask=b_input_mask,\n",
        "                              labels=b_labels,\n",
        "                              return_dict=True)\n",
        "\n",
        "        # TODO 8.4\n",
        "        loss = result.loss\n",
        "        logits = result.logits\n",
        "\n",
        "        # Update Total Training Loss\n",
        "        total_train_loss += loss.item()\n",
        "\n",
        "        # TODO 8.5\n",
        "        loss.backward()\n",
        "\n",
        "        # Clip the gradients to avoid exploding gradients\n",
        "        torch.nn.utils.clip_grad_norm_(model.parameters(), 1.0)\n",
        "\n",
        "        # TODO 8.6\n",
        "        optimizer.step()\n",
        "\n",
        "        # TODO 8.7\n",
        "        scheduler.step()\n",
        "\n",
        "    # Calculation of average training loss and time taken for training\n",
        "    avg_train_loss = total_train_loss / len(train_dataloader)\n",
        "    training_time = format_time(time.time() - t0)\n",
        "\n",
        "    print(\"\")\n",
        "    print(\"Average training loss: {0:.2f}\".format(avg_train_loss))\n",
        "    print(\"Training epoch took: {:}\".format(training_time))\n",
        "\n",
        "    t0 = time.time()\n",
        "\n",
        "    total_eval_accuracy = 0\n",
        "    total_eval_loss = 0\n",
        "    nb_eval_steps = 0\n",
        "\n",
        "    # Storing all the training stats\n",
        "    training_stats.append(\n",
        "        {\n",
        "            'epoch': epoch_i + 1,\n",
        "            'Training Loss': avg_train_loss,\n",
        "            'Training Time': training_time\n",
        "        }\n",
        "    )\n",
        "\n",
        "print(\"\")\n",
        "print(\"Training complete!\")\n",
        "print(\"Total training took {:} (h:mm:ss)\".format(format_time(time.time()-total_t0)))"
      ]
    },
    {
      "cell_type": "markdown",
      "metadata": {
        "id": "1QmYP-27SyxX"
      },
      "source": [
        "## Testing and Evaluation"
      ]
    },
    {
      "cell_type": "markdown",
      "metadata": {
        "id": "AQH2DHgrU4WD"
      },
      "source": [
        "The below cell evaluates the trained BERT model's performance on the test dataset. First, it initializes tracking variables to store predictions and true labels. Then, it iterates over batches of data from the test data loader. For each batch, it moves the data to the GPU (if available) and performs a forward pass through the model to obtain logits, which represent the model's raw predictions. The logits and corresponding true labels are then transferred to the CPU and stored. After iterating through all batches, the logits are converted into predicted labels by taking the argmax along the second axis (axis=1) to select the label with the highest probability. These predicted labels are aggregated into a single list and stored in `prediction_scores`. We will be using these prediction scores to compute the values of various metrics."
      ]
    },
    {
      "cell_type": "code",
      "execution_count": 20,
      "metadata": {
        "id": "M0071xHxjy0f"
      },
      "outputs": [],
      "source": [
        "model.eval()\n",
        "\n",
        "# Tracking variables\n",
        "predictions , true_labels = [], []\n",
        "\n",
        "for batch in test_dataloader:\n",
        "  # Add batch to GPU\n",
        "  batch = tuple(t.to(device) for t in batch)\n",
        "\n",
        "  # Unpack the inputs from our dataloader\n",
        "  b_input_ids, b_input_mask, b_labels = batch\n",
        "\n",
        "  # Telling the model not to compute or store gradients, saving memory and speeding up prediction\n",
        "  with torch.no_grad():\n",
        "      # Forward pass, calculate logit predictions.\n",
        "      result = model(b_input_ids, token_type_ids=None, attention_mask=b_input_mask, return_dict=True)\n",
        "\n",
        "  logits = result.logits\n",
        "\n",
        "  # Move logits and labels to CPU\n",
        "  logits = logits.detach().cpu().numpy()\n",
        "  label_ids = b_labels.to('cpu').numpy()\n",
        "\n",
        "  # Store predictions and true labels\n",
        "  predictions.append(logits)\n",
        "  true_labels.append(label_ids)\n",
        "\n",
        "prediction_set = []\n",
        "\n",
        "for i in range(len(true_labels)):\n",
        "  pred_labels_i = np.argmax(predictions[i], axis=1).flatten()\n",
        "  prediction_set.append(pred_labels_i)\n",
        "\n",
        "prediction_scores = [item for sublist in prediction_set for item in sublist]"
      ]
    },
    {
      "cell_type": "markdown",
      "metadata": {
        "id": "tUlSwRtCVxQe"
      },
      "source": [
        "### TODO 9 (10 points)\n",
        "\n",
        "1. Print the classification report using `test_labels` and `prediction_scores`.\n",
        "2. Similarly, print the confusion matrix.\n",
        "3. Comment on the performance metrics."
      ]
    },
    {
      "cell_type": "code",
      "execution_count": 25,
      "metadata": {
        "id": "Dps3ogarqDUM"
      },
      "outputs": [],
      "source": [
        "true_labels_flattened = [item for sublist in true_labels for item in sublist]"
      ]
    },
    {
      "cell_type": "code",
      "execution_count": 26,
      "metadata": {
        "colab": {
          "base_uri": "https://localhost:8080/"
        },
        "id": "hcTLFXIJs8kU",
        "outputId": "f235ec58-012b-4c67-98a4-5aa6a38683d1"
      },
      "outputs": [
        {
          "name": "stdout",
          "output_type": "stream",
          "text": [
            "              precision    recall  f1-score   support\n",
            "\n",
            "           0       0.86      0.81      0.83      1560\n",
            "           1       0.80      0.85      0.83      1440\n",
            "\n",
            "    accuracy                           0.83      3000\n",
            "   macro avg       0.83      0.83      0.83      3000\n",
            "weighted avg       0.83      0.83      0.83      3000\n",
            "\n"
          ]
        }
      ],
      "source": [
        "# TODO 9.1\n",
        "from sklearn.metrics import classification_report, confusion_matrix\n",
        "\n",
        "print(classification_report(true_labels_flattened, prediction_scores))"
      ]
    },
    {
      "cell_type": "code",
      "execution_count": 32,
      "metadata": {
        "colab": {
          "base_uri": "https://localhost:8080/",
          "height": 564
        },
        "id": "JScuCqc2tF9v",
        "outputId": "33e4bf07-7abc-4a2a-f4ae-7083e375aaea"
      },
      "outputs": [
        {
          "data": {
            "image/png": "[encoded data removed]",
            "text/plain": [
              "<Figure size 800x600 with 2 Axes>"
            ]
          },
          "metadata": {},
          "output_type": "display_data"
        }
      ],
      "source": [
        "# TODO 9.2\n",
        "import matplotlib.pyplot as plt\n",
        "import seaborn as sns\n",
        "\n",
        "cm = confusion_matrix(true_labels_flattened, prediction_scores)\n",
        "\n",
        "plt.figure(figsize=(8,6))\n",
        "sns.heatmap(cm, annot=True, fmt='d', cmap='Blues', cbar=True)\n",
        "plt.title('Confusion Matrix')\n",
        "plt.ylabel('True labels')\n",
        "plt.xlabel('Predicted labels')\n",
        "plt.show()"
      ]
    },
    {
      "cell_type": "markdown",
      "metadata": {
        "id": "16aObVsEWJW_"
      },
      "source": [
        "`TODO 9.3:` Comment on the performance of the model."
      ]
    },
    {
      "cell_type": "markdown",
      "metadata": {
        "id": "k35OI654WPFX"
      },
      "source": [
        "`ANSWER:` The model has 83% accuracy which means that it does a fairly good job of predicting whether movie reviews are positive or negative, its also as equally good at catching the positive and negative reviews because of the recall. It also 212 cases of false negatives and 302 false positives"
      ]
    },
    {
      "cell_type": "markdown",
      "metadata": {
        "id": "4ThVn9KNWQoA"
      },
      "source": [
        "## Inference"
      ]
    },
    {
      "cell_type": "markdown",
      "metadata": {
        "id": "ApvPNkDtXmY1"
      },
      "source": [
        "Now that we are done with training and testing, lets experiment our trained model on reviews of our own.\n",
        "\n",
        "### TODO 10 (15 points)\n",
        "\n",
        "Follow the below instructions to complete the `predict_statement` function that helps us to run an inference based on our trained model.\n",
        "\n",
        "1. **Process the Review Text**:\n",
        "   - Use the `process_text` function to preprocess the review text. Store the preprocessed text in `processed_text`.\n",
        "\n",
        "2. **Tokenize the Text**:\n",
        "   - Use the `tokenizer.encode_plus()` method to tokenize the `processed_text`.\n",
        "   - Set `add_special_tokens=True` to add special tokens for BERT model.\n",
        "   - Set `max_length=64` to ensure the text is truncated or padded to a maximum length of 64 tokens.\n",
        "   - Set `padding='max_length'` to pad the sequences to the maximum length.\n",
        "   - Set `truncation=True` to truncate sequences longer than `max_length`.\n",
        "   - Return the tokenized inputs as PyTorch tensors.\n",
        "   - Store it in `inputs`.\n",
        "\n",
        "3. **Ensure Evaluation Mode**:\n",
        "   - Set the model to evaluation mode using `model.eval()`.\n",
        "\n",
        "4. **Make Prediction**:\n",
        "   - Pass `input_ids` and `attention_mask` to the `model` and store it in `outputs`. The `input_ids` represent the tokenized input sequence, while the `attention_mask` indicates which tokens should be attended to and which should be ignored.\n",
        "\n",
        "5. **Get Predicted Labels**:\n",
        "   - Access the `logits` from `outputs` and store them in `logits`.\n",
        "   - Use `torch.softmax()` to compute softmax probabilities from the `logits` along the specified dimension `(dim=1)`. Store it in `probabilities`.\n",
        "   - Use `torch.argmax()` to get the index of the maximum probability as the predicted label. Use `.item()` to extract the predicted label as a Python scalar. Store it in `predicted_label`.\n",
        "\n",
        "6. **Make Inference**:\n",
        "   - Make inference on the trained model by passing the model, tokenizer, device, and a review-like sentence of your choice to the `predict_statement` fucntion. Explore various sentences of both positive and negative types.\n",
        "\n",
        "\n",
        "**Note**:\n",
        "1. Steps 1-5 are the instructions that need to be performed to complete the `predict_statement` function.\n",
        "2. In Step-6, you have to create at least two review-like sentences on your own, one for positive, and the other for negative, and run the inference on them."
      ]
    },
    {
      "cell_type": "code",
      "execution_count": 36,
      "metadata": {
        "colab": {
          "base_uri": "https://localhost:8080/"
        },
        "id": "b2GY3KP7tH2b",
        "outputId": "11174322-7c73-48e8-e4b9-d68718a0c040"
      },
      "outputs": [
        {
          "name": "stdout",
          "output_type": "stream",
          "text": [
            "Predicted sentiment for review-1: positive\n",
            "Predicted sentiment for review-2: negative\n"
          ]
        }
      ],
      "source": [
        "import torch\n",
        "\n",
        "def predict_sentiment(review_text, model, tokenizer, device):\n",
        "\n",
        "    # TODO 10.1: Process the review text\n",
        "    processed_text = process_text(review_text)\n",
        "\n",
        "    # TODO 10.2: Tokenize the text\n",
        "    inputs = tokenizer.encode_plus(\n",
        "        processed_text,\n",
        "        add_special_tokens=True,\n",
        "        max_length=64,\n",
        "        padding='max_length',\n",
        "        truncation=True,\n",
        "        return_tensors='pt'\n",
        "    )\n",
        "\n",
        "    # Move the inputs to the appropriate device\n",
        "    input_ids = inputs['input_ids'].to(device)\n",
        "    attention_mask = inputs['attention_mask'].to(device)\n",
        "\n",
        "    # TODO 10.3: Ensure evaluation mode\n",
        "    model.eval()\n",
        "\n",
        "\n",
        "    with torch.no_grad():\n",
        "        # TODO 10.4: Make the prediction\n",
        "        outputs = model(input_ids, token_type_ids=None, attention_mask=attention_mask)\n",
        "\n",
        "\n",
        "    # TODO 10.5: Get the predicted label\n",
        "    logits = outputs.logits\n",
        "    probabilities = torch.softmax(logits, dim=1)\n",
        "    predicted_label = torch.argmax(probabilities, dim=1).item()\n",
        "\n",
        "\n",
        "    # Map predicted label to sentiment\n",
        "    sentiment = 'positive' if predicted_label == 1 else 'negative'\n",
        "    return sentiment\n",
        "\n",
        "# TODO 10.6: Example usage\n",
        "positive_review = \"This movie was pretty good. I really liked the visuals.\"\n",
        "negative_review = \"I was really mid. I ahted the music in the background\"\n",
        "\n",
        "print(f\"Predicted sentiment for review-1: {predict_sentiment(positive_review, model, tokenizer, device)}\")\n",
        "print(f\"Predicted sentiment for review-2: {predict_sentiment(negative_review, model, tokenizer, device)}\")"
      ]
    },
    {
      "cell_type": "markdown",
      "metadata": {
        "id": "BSLLA_oqcv5u"
      },
      "source": [
        "\n",
        "# Feedback (5 points)\n",
        "\n",
        "Did you enjoy the lab?\n",
        "\n",
        "Please take time to answer the following feedback qustions to help us further improve these labs! Your feedback is crucial to making these labs more useful!"
      ]
    },
    {
      "cell_type": "markdown",
      "metadata": {
        "id": "cVqx5BFNczX8"
      },
      "source": [
        "* How do you rate the overall experience in this lab? (5 likert scale. i.e., 1 - poor ... 5 - amazing)  \n",
        "Why do you think so? What was most/least useful?"
      ]
    },
    {
      "cell_type": "markdown",
      "metadata": {
        "id": "5rAQDTmxc4dT"
      },
      "source": [
        "`ANSWER:`5\n"
      ]
    },
    {
      "cell_type": "markdown",
      "metadata": {
        "id": "dWVNh2oyc4MX"
      },
      "source": [
        "* What did you find difficult about the lab? Were there any TODOs that were unclear? If so, what specfically did not make sense about it?`"
      ]
    },
    {
      "cell_type": "markdown",
      "metadata": {
        "id": "1O99ZupNc91B"
      },
      "source": [
        "`ANSWER:` N/A"
      ]
    },
    {
      "cell_type": "markdown",
      "metadata": {
        "id": "v9t_WSYVc_pe"
      },
      "source": [
        "* Which concepts, if any, within the lab do you feel could use more explanation?"
      ]
    },
    {
      "cell_type": "markdown",
      "metadata": {
        "id": "Yxkvpl5VdB3s"
      },
      "source": [
        "`ANSWER:` N/A"
      ]
    }
  ],
  "metadata": {
    "accelerator": "GPU",
    "colab": {
      "gpuType": "T4",
      "include_colab_link": true,
      "provenance": []
    },
    "kernelspec": {
      "display_name": "Python 3",
      "name": "python3"
    },
    "language_info": {
      "name": "python"
    },
    "widgets": {
      "application/vnd.jupyter.widget-state+json": {
        "0670dcaa60c642f59b10e85b6be5f2a6": {
          "model_module": "@jupyter-widgets/controls",
          "model_module_version": "1.5.0",
          "model_name": "HTMLModel",
          "state": {
            "_dom_classes": [],
            "_model_module": "@jupyter-widgets/controls",
            "_model_module_version": "1.5.0",
            "_model_name": "HTMLModel",
            "_view_count": null,
            "_view_module": "@jupyter-widgets/controls",
            "_view_module_version": "1.5.0",
            "_view_name": "HTMLView",
            "description": "",
            "description_tooltip": null,
            "layout": "IPY_MODEL_42487c24cfa24caab87d749cc6e21d7f",
            "placeholder": "​",
            "style": "IPY_MODEL_9fd078bb9e814b5594400c0784a4959d",
            "value": " 570/570 [00:00&lt;00:00, 43.1kB/s]"
          }
        },
        "0bfafe986ca544bca7910c5124a56640": {
          "model_module": "@jupyter-widgets/controls",
          "model_module_version": "1.5.0",
          "model_name": "HBoxModel",
          "state": {
            "_dom_classes": [],
            "_model_module": "@jupyter-widgets/controls",
            "_model_module_version": "1.5.0",
            "_model_name": "HBoxModel",
            "_view_count": null,
            "_view_module": "@jupyter-widgets/controls",
            "_view_module_version": "1.5.0",
            "_view_name": "HBoxView",
            "box_style": "",
            "children": [
              "IPY_MODEL_abad1d814ead48e099d91f178a66fde3",
              "IPY_MODEL_ff2d87c267de4df2a868deeaa0aeb1d3",
              "IPY_MODEL_0670dcaa60c642f59b10e85b6be5f2a6"
            ],
            "layout": "IPY_MODEL_f74f223d083a4a0792f79fe9f054251e"
          }
        },
        "0c0ae42390bd44679ded416ba561c91c": {
          "model_module": "@jupyter-widgets/controls",
          "model_module_version": "1.5.0",
          "model_name": "DescriptionStyleModel",
          "state": {
            "_model_module": "@jupyter-widgets/controls",
            "_model_module_version": "1.5.0",
            "_model_name": "DescriptionStyleModel",
            "_view_count": null,
            "_view_module": "@jupyter-widgets/base",
            "_view_module_version": "1.2.0",
            "_view_name": "StyleView",
            "description_width": ""
          }
        },
        "0e487960a67e48d085c5cb66364a32e5": {
          "model_module": "@jupyter-widgets/controls",
          "model_module_version": "1.5.0",
          "model_name": "HTMLModel",
          "state": {
            "_dom_classes": [],
            "_model_module": "@jupyter-widgets/controls",
            "_model_module_version": "1.5.0",
            "_model_name": "HTMLModel",
            "_view_count": null,
            "_view_module": "@jupyter-widgets/controls",
            "_view_module_version": "1.5.0",
            "_view_name": "HTMLView",
            "description": "",
            "description_tooltip": null,
            "layout": "IPY_MODEL_a6f1229d8fb6417ba59ef4b0eabe38f0",
            "placeholder": "​",
            "style": "IPY_MODEL_5d064db9c70b4487bf04301c712415b5",
            "value": "tokenizer_config.json: 100%"
          }
        },
        "12de90d68ec149c6bbaede34c7b460f6": {
          "model_module": "@jupyter-widgets/base",
          "model_module_version": "1.2.0",
          "model_name": "LayoutModel",
          "state": {
            "_model_module": "@jupyter-widgets/base",
            "_model_module_version": "1.2.0",
            "_model_name": "LayoutModel",
            "_view_count": null,
            "_view_module": "@jupyter-widgets/base",
            "_view_module_version": "1.2.0",
            "_view_name": "LayoutView",
            "align_content": null,
            "align_items": null,
            "align_self": null,
            "border": null,
            "bottom": null,
            "display": null,
            "flex": null,
            "flex_flow": null,
            "grid_area": null,
            "grid_auto_columns": null,
            "grid_auto_flow": null,
            "grid_auto_rows": null,
            "grid_column": null,
            "grid_gap": null,
            "grid_row": null,
            "grid_template_areas": null,
            "grid_template_columns": null,
            "grid_template_rows": null,
            "height": null,
            "justify_content": null,
            "justify_items": null,
            "left": null,
            "margin": null,
            "max_height": null,
            "max_width": null,
            "min_height": null,
            "min_width": null,
            "object_fit": null,
            "object_position": null,
            "order": null,
            "overflow": null,
            "overflow_x": null,
            "overflow_y": null,
            "padding": null,
            "right": null,
            "top": null,
            "visibility": null,
            "width": null
          }
        },
        "164ed22d2e8241f187a64963277d08b7": {
          "model_module": "@jupyter-widgets/base",
          "model_module_version": "1.2.0",
          "model_name": "LayoutModel",
          "state": {
            "_model_module": "@jupyter-widgets/base",
            "_model_module_version": "1.2.0",
            "_model_name": "LayoutModel",
            "_view_count": null,
            "_view_module": "@jupyter-widgets/base",
            "_view_module_version": "1.2.0",
            "_view_name": "LayoutView",
            "align_content": null,
            "align_items": null,
            "align_self": null,
            "border": null,
            "bottom": null,
            "display": null,
            "flex": null,
            "flex_flow": null,
            "grid_area": null,
            "grid_auto_columns": null,
            "grid_auto_flow": null,
            "grid_auto_rows": null,
            "grid_column": null,
            "grid_gap": null,
            "grid_row": null,
            "grid_template_areas": null,
            "grid_template_columns": null,
            "grid_template_rows": null,
            "height": null,
            "justify_content": null,
            "justify_items": null,
            "left": null,
            "margin": null,
            "max_height": null,
            "max_width": null,
            "min_height": null,
            "min_width": null,
            "object_fit": null,
            "object_position": null,
            "order": null,
            "overflow": null,
            "overflow_x": null,
            "overflow_y": null,
            "padding": null,
            "right": null,
            "top": null,
            "visibility": null,
            "width": null
          }
        },
        "16fd37c5b6de47959a8c620f019b6ac5": {
          "model_module": "@jupyter-widgets/base",
          "model_module_version": "1.2.0",
          "model_name": "LayoutModel",
          "state": {
            "_model_module": "@jupyter-widgets/base",
            "_model_module_version": "1.2.0",
            "_model_name": "LayoutModel",
            "_view_count": null,
            "_view_module": "@jupyter-widgets/base",
            "_view_module_version": "1.2.0",
            "_view_name": "LayoutView",
            "align_content": null,
            "align_items": null,
            "align_self": null,
            "border": null,
            "bottom": null,
            "display": null,
            "flex": null,
            "flex_flow": null,
            "grid_area": null,
            "grid_auto_columns": null,
            "grid_auto_flow": null,
            "grid_auto_rows": null,
            "grid_column": null,
            "grid_gap": null,
            "grid_row": null,
            "grid_template_areas": null,
            "grid_template_columns": null,
            "grid_template_rows": null,
            "height": null,
            "justify_content": null,
            "justify_items": null,
            "left": null,
            "margin": null,
            "max_height": null,
            "max_width": null,
            "min_height": null,
            "min_width": null,
            "object_fit": null,
            "object_position": null,
            "order": null,
            "overflow": null,
            "overflow_x": null,
            "overflow_y": null,
            "padding": null,
            "right": null,
            "top": null,
            "visibility": null,
            "width": null
          }
        },
        "23f8fb55701247318f84473062379576": {
          "model_module": "@jupyter-widgets/base",
          "model_module_version": "1.2.0",
          "model_name": "LayoutModel",
          "state": {
            "_model_module": "@jupyter-widgets/base",
            "_model_module_version": "1.2.0",
            "_model_name": "LayoutModel",
            "_view_count": null,
            "_view_module": "@jupyter-widgets/base",
            "_view_module_version": "1.2.0",
            "_view_name": "LayoutView",
            "align_content": null,
            "align_items": null,
            "align_self": null,
            "border": null,
            "bottom": null,
            "display": null,
            "flex": null,
            "flex_flow": null,
            "grid_area": null,
            "grid_auto_columns": null,
            "grid_auto_flow": null,
            "grid_auto_rows": null,
            "grid_column": null,
            "grid_gap": null,
            "grid_row": null,
            "grid_template_areas": null,
            "grid_template_columns": null,
            "grid_template_rows": null,
            "height": null,
            "justify_content": null,
            "justify_items": null,
            "left": null,
            "margin": null,
            "max_height": null,
            "max_width": null,
            "min_height": null,
            "min_width": null,
            "object_fit": null,
            "object_position": null,
            "order": null,
            "overflow": null,
            "overflow_x": null,
            "overflow_y": null,
            "padding": null,
            "right": null,
            "top": null,
            "visibility": null,
            "width": null
          }
        },
        "2dab07ec4dfb4608aa29bcbc5758ccd0": {
          "model_module": "@jupyter-widgets/controls",
          "model_module_version": "1.5.0",
          "model_name": "ProgressStyleModel",
          "state": {
            "_model_module": "@jupyter-widgets/controls",
            "_model_module_version": "1.5.0",
            "_model_name": "ProgressStyleModel",
            "_view_count": null,
            "_view_module": "@jupyter-widgets/base",
            "_view_module_version": "1.2.0",
            "_view_name": "StyleView",
            "bar_color": null,
            "description_width": ""
          }
        },
        "2f428c78c46b4e60acc970e083864815": {
          "model_module": "@jupyter-widgets/controls",
          "model_module_version": "1.5.0",
          "model_name": "FloatProgressModel",
          "state": {
            "_dom_classes": [],
            "_model_module": "@jupyter-widgets/controls",
            "_model_module_version": "1.5.0",
            "_model_name": "FloatProgressModel",
            "_view_count": null,
            "_view_module": "@jupyter-widgets/controls",
            "_view_module_version": "1.5.0",
            "_view_name": "ProgressView",
            "bar_style": "success",
            "description": "",
            "description_tooltip": null,
            "layout": "IPY_MODEL_362e0968eb38461eba09e5ce37fa5461",
            "max": 48,
            "min": 0,
            "orientation": "horizontal",
            "style": "IPY_MODEL_9700da3d36f04f80a067708f5950184d",
            "value": 48
          }
        },
        "3589784ba6364664a43ebf8962ff3da0": {
          "model_module": "@jupyter-widgets/controls",
          "model_module_version": "1.5.0",
          "model_name": "HTMLModel",
          "state": {
            "_dom_classes": [],
            "_model_module": "@jupyter-widgets/controls",
            "_model_module_version": "1.5.0",
            "_model_name": "HTMLModel",
            "_view_count": null,
            "_view_module": "@jupyter-widgets/controls",
            "_view_module_version": "1.5.0",
            "_view_name": "HTMLView",
            "description": "",
            "description_tooltip": null,
            "layout": "IPY_MODEL_16fd37c5b6de47959a8c620f019b6ac5",
            "placeholder": "​",
            "style": "IPY_MODEL_cf08ccf8ee524656b3eeb605d66ae101",
            "value": "model.safetensors: 100%"
          }
        },
        "362e0968eb38461eba09e5ce37fa5461": {
          "model_module": "@jupyter-widgets/base",
          "model_module_version": "1.2.0",
          "model_name": "LayoutModel",
          "state": {
            "_model_module": "@jupyter-widgets/base",
            "_model_module_version": "1.2.0",
            "_model_name": "LayoutModel",
            "_view_count": null,
            "_view_module": "@jupyter-widgets/base",
            "_view_module_version": "1.2.0",
            "_view_name": "LayoutView",
            "align_content": null,
            "align_items": null,
            "align_self": null,
            "border": null,
            "bottom": null,
            "display": null,
            "flex": null,
            "flex_flow": null,
            "grid_area": null,
            "grid_auto_columns": null,
            "grid_auto_flow": null,
            "grid_auto_rows": null,
            "grid_column": null,
            "grid_gap": null,
            "grid_row": null,
            "grid_template_areas": null,
            "grid_template_columns": null,
            "grid_template_rows": null,
            "height": null,
            "justify_content": null,
            "justify_items": null,
            "left": null,
            "margin": null,
            "max_height": null,
            "max_width": null,
            "min_height": null,
            "min_width": null,
            "object_fit": null,
            "object_position": null,
            "order": null,
            "overflow": null,
            "overflow_x": null,
            "overflow_y": null,
            "padding": null,
            "right": null,
            "top": null,
            "visibility": null,
            "width": null
          }
        },
        "3d85bfa1aec343439d68d397de55055d": {
          "model_module": "@jupyter-widgets/controls",
          "model_module_version": "1.5.0",
          "model_name": "HBoxModel",
          "state": {
            "_dom_classes": [],
            "_model_module": "@jupyter-widgets/controls",
            "_model_module_version": "1.5.0",
            "_model_name": "HBoxModel",
            "_view_count": null,
            "_view_module": "@jupyter-widgets/controls",
            "_view_module_version": "1.5.0",
            "_view_name": "HBoxView",
            "box_style": "",
            "children": [
              "IPY_MODEL_c765db9a673f496c88158de17ef48b29",
              "IPY_MODEL_dad01bb79f21428bbeff8de2de2ee180",
              "IPY_MODEL_a48db84aff6b4dab8636f1302c61262b"
            ],
            "layout": "IPY_MODEL_a81d72ea63cc462a9acbd98183cc6940"
          }
        },
        "3f8f97acdee64e69b2f6d6908ef7c23d": {
          "model_module": "@jupyter-widgets/base",
          "model_module_version": "1.2.0",
          "model_name": "LayoutModel",
          "state": {
            "_model_module": "@jupyter-widgets/base",
            "_model_module_version": "1.2.0",
            "_model_name": "LayoutModel",
            "_view_count": null,
            "_view_module": "@jupyter-widgets/base",
            "_view_module_version": "1.2.0",
            "_view_name": "LayoutView",
            "align_content": null,
            "align_items": null,
            "align_self": null,
            "border": null,
            "bottom": null,
            "display": null,
            "flex": null,
            "flex_flow": null,
            "grid_area": null,
            "grid_auto_columns": null,
            "grid_auto_flow": null,
            "grid_auto_rows": null,
            "grid_column": null,
            "grid_gap": null,
            "grid_row": null,
            "grid_template_areas": null,
            "grid_template_columns": null,
            "grid_template_rows": null,
            "height": null,
            "justify_content": null,
            "justify_items": null,
            "left": null,
            "margin": null,
            "max_height": null,
            "max_width": null,
            "min_height": null,
            "min_width": null,
            "object_fit": null,
            "object_position": null,
            "order": null,
            "overflow": null,
            "overflow_x": null,
            "overflow_y": null,
            "padding": null,
            "right": null,
            "top": null,
            "visibility": null,
            "width": null
          }
        },
        "42487c24cfa24caab87d749cc6e21d7f": {
          "model_module": "@jupyter-widgets/base",
          "model_module_version": "1.2.0",
          "model_name": "LayoutModel",
          "state": {
            "_model_module": "@jupyter-widgets/base",
            "_model_module_version": "1.2.0",
            "_model_name": "LayoutModel",
            "_view_count": null,
            "_view_module": "@jupyter-widgets/base",
            "_view_module_version": "1.2.0",
            "_view_name": "LayoutView",
            "align_content": null,
            "align_items": null,
            "align_self": null,
            "border": null,
            "bottom": null,
            "display": null,
            "flex": null,
            "flex_flow": null,
            "grid_area": null,
            "grid_auto_columns": null,
            "grid_auto_flow": null,
            "grid_auto_rows": null,
            "grid_column": null,
            "grid_gap": null,
            "grid_row": null,
            "grid_template_areas": null,
            "grid_template_columns": null,
            "grid_template_rows": null,
            "height": null,
            "justify_content": null,
            "justify_items": null,
            "left": null,
            "margin": null,
            "max_height": null,
            "max_width": null,
            "min_height": null,
            "min_width": null,
            "object_fit": null,
            "object_position": null,
            "order": null,
            "overflow": null,
            "overflow_x": null,
            "overflow_y": null,
            "padding": null,
            "right": null,
            "top": null,
            "visibility": null,
            "width": null
          }
        },
        "44d7a10c9c4344c7b9ddf02ed5ab2463": {
          "model_module": "@jupyter-widgets/controls",
          "model_module_version": "1.5.0",
          "model_name": "ProgressStyleModel",
          "state": {
            "_model_module": "@jupyter-widgets/controls",
            "_model_module_version": "1.5.0",
            "_model_name": "ProgressStyleModel",
            "_view_count": null,
            "_view_module": "@jupyter-widgets/base",
            "_view_module_version": "1.2.0",
            "_view_name": "StyleView",
            "bar_color": null,
            "description_width": ""
          }
        },
        "4ac9e73be4034352a458f8463397055c": {
          "model_module": "@jupyter-widgets/controls",
          "model_module_version": "1.5.0",
          "model_name": "FloatProgressModel",
          "state": {
            "_dom_classes": [],
            "_model_module": "@jupyter-widgets/controls",
            "_model_module_version": "1.5.0",
            "_model_name": "FloatProgressModel",
            "_view_count": null,
            "_view_module": "@jupyter-widgets/controls",
            "_view_module_version": "1.5.0",
            "_view_name": "ProgressView",
            "bar_style": "success",
            "description": "",
            "description_tooltip": null,
            "layout": "IPY_MODEL_12de90d68ec149c6bbaede34c7b460f6",
            "max": 466062,
            "min": 0,
            "orientation": "horizontal",
            "style": "IPY_MODEL_8a1128c480694748a42a47f8d674a332",
            "value": 466062
          }
        },
        "5d064db9c70b4487bf04301c712415b5": {
          "model_module": "@jupyter-widgets/controls",
          "model_module_version": "1.5.0",
          "model_name": "DescriptionStyleModel",
          "state": {
            "_model_module": "@jupyter-widgets/controls",
            "_model_module_version": "1.5.0",
            "_model_name": "DescriptionStyleModel",
            "_view_count": null,
            "_view_module": "@jupyter-widgets/base",
            "_view_module_version": "1.2.0",
            "_view_name": "StyleView",
            "description_width": ""
          }
        },
        "5d19ad5f4deb4976a885bb6c0ba8a077": {
          "model_module": "@jupyter-widgets/base",
          "model_module_version": "1.2.0",
          "model_name": "LayoutModel",
          "state": {
            "_model_module": "@jupyter-widgets/base",
            "_model_module_version": "1.2.0",
            "_model_name": "LayoutModel",
            "_view_count": null,
            "_view_module": "@jupyter-widgets/base",
            "_view_module_version": "1.2.0",
            "_view_name": "LayoutView",
            "align_content": null,
            "align_items": null,
            "align_self": null,
            "border": null,
            "bottom": null,
            "display": null,
            "flex": null,
            "flex_flow": null,
            "grid_area": null,
            "grid_auto_columns": null,
            "grid_auto_flow": null,
            "grid_auto_rows": null,
            "grid_column": null,
            "grid_gap": null,
            "grid_row": null,
            "grid_template_areas": null,
            "grid_template_columns": null,
            "grid_template_rows": null,
            "height": null,
            "justify_content": null,
            "justify_items": null,
            "left": null,
            "margin": null,
            "max_height": null,
            "max_width": null,
            "min_height": null,
            "min_width": null,
            "object_fit": null,
            "object_position": null,
            "order": null,
            "overflow": null,
            "overflow_x": null,
            "overflow_y": null,
            "padding": null,
            "right": null,
            "top": null,
            "visibility": null,
            "width": null
          }
        },
        "5d39770c6f2244cf946362c685cff076": {
          "model_module": "@jupyter-widgets/controls",
          "model_module_version": "1.5.0",
          "model_name": "ProgressStyleModel",
          "state": {
            "_model_module": "@jupyter-widgets/controls",
            "_model_module_version": "1.5.0",
            "_model_name": "ProgressStyleModel",
            "_view_count": null,
            "_view_module": "@jupyter-widgets/base",
            "_view_module_version": "1.2.0",
            "_view_name": "StyleView",
            "bar_color": null,
            "description_width": ""
          }
        },
        "6b27a6dc7ec44772a224c361bac6d0e8": {
          "model_module": "@jupyter-widgets/controls",
          "model_module_version": "1.5.0",
          "model_name": "HBoxModel",
          "state": {
            "_dom_classes": [],
            "_model_module": "@jupyter-widgets/controls",
            "_model_module_version": "1.5.0",
            "_model_name": "HBoxModel",
            "_view_count": null,
            "_view_module": "@jupyter-widgets/controls",
            "_view_module_version": "1.5.0",
            "_view_name": "HBoxView",
            "box_style": "",
            "children": [
              "IPY_MODEL_3589784ba6364664a43ebf8962ff3da0",
              "IPY_MODEL_af97a4b040c24b22856a0c2981688519",
              "IPY_MODEL_f3699e79ef884fa8a92c7c88c93c1b6c"
            ],
            "layout": "IPY_MODEL_729957b539104c75a740ec9ca946414d"
          }
        },
        "729957b539104c75a740ec9ca946414d": {
          "model_module": "@jupyter-widgets/base",
          "model_module_version": "1.2.0",
          "model_name": "LayoutModel",
          "state": {
            "_model_module": "@jupyter-widgets/base",
            "_model_module_version": "1.2.0",
            "_model_name": "LayoutModel",
            "_view_count": null,
            "_view_module": "@jupyter-widgets/base",
            "_view_module_version": "1.2.0",
            "_view_name": "LayoutView",
            "align_content": null,
            "align_items": null,
            "align_self": null,
            "border": null,
            "bottom": null,
            "display": null,
            "flex": null,
            "flex_flow": null,
            "grid_area": null,
            "grid_auto_columns": null,
            "grid_auto_flow": null,
            "grid_auto_rows": null,
            "grid_column": null,
            "grid_gap": null,
            "grid_row": null,
            "grid_template_areas": null,
            "grid_template_columns": null,
            "grid_template_rows": null,
            "height": null,
            "justify_content": null,
            "justify_items": null,
            "left": null,
            "margin": null,
            "max_height": null,
            "max_width": null,
            "min_height": null,
            "min_width": null,
            "object_fit": null,
            "object_position": null,
            "order": null,
            "overflow": null,
            "overflow_x": null,
            "overflow_y": null,
            "padding": null,
            "right": null,
            "top": null,
            "visibility": null,
            "width": null
          }
        },
        "7b43a20b04e940b9abacef3228613cb3": {
          "model_module": "@jupyter-widgets/controls",
          "model_module_version": "1.5.0",
          "model_name": "HTMLModel",
          "state": {
            "_dom_classes": [],
            "_model_module": "@jupyter-widgets/controls",
            "_model_module_version": "1.5.0",
            "_model_name": "HTMLModel",
            "_view_count": null,
            "_view_module": "@jupyter-widgets/controls",
            "_view_module_version": "1.5.0",
            "_view_name": "HTMLView",
            "description": "",
            "description_tooltip": null,
            "layout": "IPY_MODEL_164ed22d2e8241f187a64963277d08b7",
            "placeholder": "​",
            "style": "IPY_MODEL_923e5264ebe841ad90388219b1a78f8a",
            "value": " 48.0/48.0 [00:00&lt;00:00, 3.07kB/s]"
          }
        },
        "7d61ef948e3a440ca4061947ee5cf631": {
          "model_module": "@jupyter-widgets/base",
          "model_module_version": "1.2.0",
          "model_name": "LayoutModel",
          "state": {
            "_model_module": "@jupyter-widgets/base",
            "_model_module_version": "1.2.0",
            "_model_name": "LayoutModel",
            "_view_count": null,
            "_view_module": "@jupyter-widgets/base",
            "_view_module_version": "1.2.0",
            "_view_name": "LayoutView",
            "align_content": null,
            "align_items": null,
            "align_self": null,
            "border": null,
            "bottom": null,
            "display": null,
            "flex": null,
            "flex_flow": null,
            "grid_area": null,
            "grid_auto_columns": null,
            "grid_auto_flow": null,
            "grid_auto_rows": null,
            "grid_column": null,
            "grid_gap": null,
            "grid_row": null,
            "grid_template_areas": null,
            "grid_template_columns": null,
            "grid_template_rows": null,
            "height": null,
            "justify_content": null,
            "justify_items": null,
            "left": null,
            "margin": null,
            "max_height": null,
            "max_width": null,
            "min_height": null,
            "min_width": null,
            "object_fit": null,
            "object_position": null,
            "order": null,
            "overflow": null,
            "overflow_x": null,
            "overflow_y": null,
            "padding": null,
            "right": null,
            "top": null,
            "visibility": null,
            "width": null
          }
        },
        "7e659b03d6054992aced39d9206fc1f4": {
          "model_module": "@jupyter-widgets/controls",
          "model_module_version": "1.5.0",
          "model_name": "DescriptionStyleModel",
          "state": {
            "_model_module": "@jupyter-widgets/controls",
            "_model_module_version": "1.5.0",
            "_model_name": "DescriptionStyleModel",
            "_view_count": null,
            "_view_module": "@jupyter-widgets/base",
            "_view_module_version": "1.2.0",
            "_view_name": "StyleView",
            "description_width": ""
          }
        },
        "7e78bb082b2445558ee301e4e6280477": {
          "model_module": "@jupyter-widgets/controls",
          "model_module_version": "1.5.0",
          "model_name": "DescriptionStyleModel",
          "state": {
            "_model_module": "@jupyter-widgets/controls",
            "_model_module_version": "1.5.0",
            "_model_name": "DescriptionStyleModel",
            "_view_count": null,
            "_view_module": "@jupyter-widgets/base",
            "_view_module_version": "1.2.0",
            "_view_name": "StyleView",
            "description_width": ""
          }
        },
        "7e812879b3934dbb902e1ef6ce50ca64": {
          "model_module": "@jupyter-widgets/base",
          "model_module_version": "1.2.0",
          "model_name": "LayoutModel",
          "state": {
            "_model_module": "@jupyter-widgets/base",
            "_model_module_version": "1.2.0",
            "_model_name": "LayoutModel",
            "_view_count": null,
            "_view_module": "@jupyter-widgets/base",
            "_view_module_version": "1.2.0",
            "_view_name": "LayoutView",
            "align_content": null,
            "align_items": null,
            "align_self": null,
            "border": null,
            "bottom": null,
            "display": null,
            "flex": null,
            "flex_flow": null,
            "grid_area": null,
            "grid_auto_columns": null,
            "grid_auto_flow": null,
            "grid_auto_rows": null,
            "grid_column": null,
            "grid_gap": null,
            "grid_row": null,
            "grid_template_areas": null,
            "grid_template_columns": null,
            "grid_template_rows": null,
            "height": null,
            "justify_content": null,
            "justify_items": null,
            "left": null,
            "margin": null,
            "max_height": null,
            "max_width": null,
            "min_height": null,
            "min_width": null,
            "object_fit": null,
            "object_position": null,
            "order": null,
            "overflow": null,
            "overflow_x": null,
            "overflow_y": null,
            "padding": null,
            "right": null,
            "top": null,
            "visibility": null,
            "width": null
          }
        },
        "8405720497884f91b3f353c572dd0a6f": {
          "model_module": "@jupyter-widgets/controls",
          "model_module_version": "1.5.0",
          "model_name": "HTMLModel",
          "state": {
            "_dom_classes": [],
            "_model_module": "@jupyter-widgets/controls",
            "_model_module_version": "1.5.0",
            "_model_name": "HTMLModel",
            "_view_count": null,
            "_view_module": "@jupyter-widgets/controls",
            "_view_module_version": "1.5.0",
            "_view_name": "HTMLView",
            "description": "",
            "description_tooltip": null,
            "layout": "IPY_MODEL_7e812879b3934dbb902e1ef6ce50ca64",
            "placeholder": "​",
            "style": "IPY_MODEL_0c0ae42390bd44679ded416ba561c91c",
            "value": " 466k/466k [00:00&lt;00:00, 25.2MB/s]"
          }
        },
        "87aa1c9dc68e46adbb409a85e18c7de4": {
          "model_module": "@jupyter-widgets/controls",
          "model_module_version": "1.5.0",
          "model_name": "DescriptionStyleModel",
          "state": {
            "_model_module": "@jupyter-widgets/controls",
            "_model_module_version": "1.5.0",
            "_model_name": "DescriptionStyleModel",
            "_view_count": null,
            "_view_module": "@jupyter-widgets/base",
            "_view_module_version": "1.2.0",
            "_view_name": "StyleView",
            "description_width": ""
          }
        },
        "8a1128c480694748a42a47f8d674a332": {
          "model_module": "@jupyter-widgets/controls",
          "model_module_version": "1.5.0",
          "model_name": "ProgressStyleModel",
          "state": {
            "_model_module": "@jupyter-widgets/controls",
            "_model_module_version": "1.5.0",
            "_model_name": "ProgressStyleModel",
            "_view_count": null,
            "_view_module": "@jupyter-widgets/base",
            "_view_module_version": "1.2.0",
            "_view_name": "StyleView",
            "bar_color": null,
            "description_width": ""
          }
        },
        "8b36a60d43f940218275dd3f686ddcb3": {
          "model_module": "@jupyter-widgets/base",
          "model_module_version": "1.2.0",
          "model_name": "LayoutModel",
          "state": {
            "_model_module": "@jupyter-widgets/base",
            "_model_module_version": "1.2.0",
            "_model_name": "LayoutModel",
            "_view_count": null,
            "_view_module": "@jupyter-widgets/base",
            "_view_module_version": "1.2.0",
            "_view_name": "LayoutView",
            "align_content": null,
            "align_items": null,
            "align_self": null,
            "border": null,
            "bottom": null,
            "display": null,
            "flex": null,
            "flex_flow": null,
            "grid_area": null,
            "grid_auto_columns": null,
            "grid_auto_flow": null,
            "grid_auto_rows": null,
            "grid_column": null,
            "grid_gap": null,
            "grid_row": null,
            "grid_template_areas": null,
            "grid_template_columns": null,
            "grid_template_rows": null,
            "height": null,
            "justify_content": null,
            "justify_items": null,
            "left": null,
            "margin": null,
            "max_height": null,
            "max_width": null,
            "min_height": null,
            "min_width": null,
            "object_fit": null,
            "object_position": null,
            "order": null,
            "overflow": null,
            "overflow_x": null,
            "overflow_y": null,
            "padding": null,
            "right": null,
            "top": null,
            "visibility": null,
            "width": null
          }
        },
        "923e5264ebe841ad90388219b1a78f8a": {
          "model_module": "@jupyter-widgets/controls",
          "model_module_version": "1.5.0",
          "model_name": "DescriptionStyleModel",
          "state": {
            "_model_module": "@jupyter-widgets/controls",
            "_model_module_version": "1.5.0",
            "_model_name": "DescriptionStyleModel",
            "_view_count": null,
            "_view_module": "@jupyter-widgets/base",
            "_view_module_version": "1.2.0",
            "_view_name": "StyleView",
            "description_width": ""
          }
        },
        "9700da3d36f04f80a067708f5950184d": {
          "model_module": "@jupyter-widgets/controls",
          "model_module_version": "1.5.0",
          "model_name": "ProgressStyleModel",
          "state": {
            "_model_module": "@jupyter-widgets/controls",
            "_model_module_version": "1.5.0",
            "_model_name": "ProgressStyleModel",
            "_view_count": null,
            "_view_module": "@jupyter-widgets/base",
            "_view_module_version": "1.2.0",
            "_view_name": "StyleView",
            "bar_color": null,
            "description_width": ""
          }
        },
        "9e0c49578a7c42f486e7b43597f16ff1": {
          "model_module": "@jupyter-widgets/controls",
          "model_module_version": "1.5.0",
          "model_name": "HBoxModel",
          "state": {
            "_dom_classes": [],
            "_model_module": "@jupyter-widgets/controls",
            "_model_module_version": "1.5.0",
            "_model_name": "HBoxModel",
            "_view_count": null,
            "_view_module": "@jupyter-widgets/controls",
            "_view_module_version": "1.5.0",
            "_view_name": "HBoxView",
            "box_style": "",
            "children": [
              "IPY_MODEL_0e487960a67e48d085c5cb66364a32e5",
              "IPY_MODEL_2f428c78c46b4e60acc970e083864815",
              "IPY_MODEL_7b43a20b04e940b9abacef3228613cb3"
            ],
            "layout": "IPY_MODEL_7d61ef948e3a440ca4061947ee5cf631"
          }
        },
        "9fd078bb9e814b5594400c0784a4959d": {
          "model_module": "@jupyter-widgets/controls",
          "model_module_version": "1.5.0",
          "model_name": "DescriptionStyleModel",
          "state": {
            "_model_module": "@jupyter-widgets/controls",
            "_model_module_version": "1.5.0",
            "_model_name": "DescriptionStyleModel",
            "_view_count": null,
            "_view_module": "@jupyter-widgets/base",
            "_view_module_version": "1.2.0",
            "_view_name": "StyleView",
            "description_width": ""
          }
        },
        "a0f163926833438f84b387dc84b1b138": {
          "model_module": "@jupyter-widgets/base",
          "model_module_version": "1.2.0",
          "model_name": "LayoutModel",
          "state": {
            "_model_module": "@jupyter-widgets/base",
            "_model_module_version": "1.2.0",
            "_model_name": "LayoutModel",
            "_view_count": null,
            "_view_module": "@jupyter-widgets/base",
            "_view_module_version": "1.2.0",
            "_view_name": "LayoutView",
            "align_content": null,
            "align_items": null,
            "align_self": null,
            "border": null,
            "bottom": null,
            "display": null,
            "flex": null,
            "flex_flow": null,
            "grid_area": null,
            "grid_auto_columns": null,
            "grid_auto_flow": null,
            "grid_auto_rows": null,
            "grid_column": null,
            "grid_gap": null,
            "grid_row": null,
            "grid_template_areas": null,
            "grid_template_columns": null,
            "grid_template_rows": null,
            "height": null,
            "justify_content": null,
            "justify_items": null,
            "left": null,
            "margin": null,
            "max_height": null,
            "max_width": null,
            "min_height": null,
            "min_width": null,
            "object_fit": null,
            "object_position": null,
            "order": null,
            "overflow": null,
            "overflow_x": null,
            "overflow_y": null,
            "padding": null,
            "right": null,
            "top": null,
            "visibility": null,
            "width": null
          }
        },
        "a3147485b3564bc694f5579e92c7d217": {
          "model_module": "@jupyter-widgets/controls",
          "model_module_version": "1.5.0",
          "model_name": "DescriptionStyleModel",
          "state": {
            "_model_module": "@jupyter-widgets/controls",
            "_model_module_version": "1.5.0",
            "_model_name": "DescriptionStyleModel",
            "_view_count": null,
            "_view_module": "@jupyter-widgets/base",
            "_view_module_version": "1.2.0",
            "_view_name": "StyleView",
            "description_width": ""
          }
        },
        "a48db84aff6b4dab8636f1302c61262b": {
          "model_module": "@jupyter-widgets/controls",
          "model_module_version": "1.5.0",
          "model_name": "HTMLModel",
          "state": {
            "_dom_classes": [],
            "_model_module": "@jupyter-widgets/controls",
            "_model_module_version": "1.5.0",
            "_model_name": "HTMLModel",
            "_view_count": null,
            "_view_module": "@jupyter-widgets/controls",
            "_view_module_version": "1.5.0",
            "_view_name": "HTMLView",
            "description": "",
            "description_tooltip": null,
            "layout": "IPY_MODEL_a527fe9eb3f043558d90eefc7ccc989e",
            "placeholder": "​",
            "style": "IPY_MODEL_fd0a522d030e4fd58644e80a65d9173b",
            "value": " 232k/232k [00:00&lt;00:00, 11.3MB/s]"
          }
        },
        "a527fe9eb3f043558d90eefc7ccc989e": {
          "model_module": "@jupyter-widgets/base",
          "model_module_version": "1.2.0",
          "model_name": "LayoutModel",
          "state": {
            "_model_module": "@jupyter-widgets/base",
            "_model_module_version": "1.2.0",
            "_model_name": "LayoutModel",
            "_view_count": null,
            "_view_module": "@jupyter-widgets/base",
            "_view_module_version": "1.2.0",
            "_view_name": "LayoutView",
            "align_content": null,
            "align_items": null,
            "align_self": null,
            "border": null,
            "bottom": null,
            "display": null,
            "flex": null,
            "flex_flow": null,
            "grid_area": null,
            "grid_auto_columns": null,
            "grid_auto_flow": null,
            "grid_auto_rows": null,
            "grid_column": null,
            "grid_gap": null,
            "grid_row": null,
            "grid_template_areas": null,
            "grid_template_columns": null,
            "grid_template_rows": null,
            "height": null,
            "justify_content": null,
            "justify_items": null,
            "left": null,
            "margin": null,
            "max_height": null,
            "max_width": null,
            "min_height": null,
            "min_width": null,
            "object_fit": null,
            "object_position": null,
            "order": null,
            "overflow": null,
            "overflow_x": null,
            "overflow_y": null,
            "padding": null,
            "right": null,
            "top": null,
            "visibility": null,
            "width": null
          }
        },
        "a6f1229d8fb6417ba59ef4b0eabe38f0": {
          "model_module": "@jupyter-widgets/base",
          "model_module_version": "1.2.0",
          "model_name": "LayoutModel",
          "state": {
            "_model_module": "@jupyter-widgets/base",
            "_model_module_version": "1.2.0",
            "_model_name": "LayoutModel",
            "_view_count": null,
            "_view_module": "@jupyter-widgets/base",
            "_view_module_version": "1.2.0",
            "_view_name": "LayoutView",
            "align_content": null,
            "align_items": null,
            "align_self": null,
            "border": null,
            "bottom": null,
            "display": null,
            "flex": null,
            "flex_flow": null,
            "grid_area": null,
            "grid_auto_columns": null,
            "grid_auto_flow": null,
            "grid_auto_rows": null,
            "grid_column": null,
            "grid_gap": null,
            "grid_row": null,
            "grid_template_areas": null,
            "grid_template_columns": null,
            "grid_template_rows": null,
            "height": null,
            "justify_content": null,
            "justify_items": null,
            "left": null,
            "margin": null,
            "max_height": null,
            "max_width": null,
            "min_height": null,
            "min_width": null,
            "object_fit": null,
            "object_position": null,
            "order": null,
            "overflow": null,
            "overflow_x": null,
            "overflow_y": null,
            "padding": null,
            "right": null,
            "top": null,
            "visibility": null,
            "width": null
          }
        },
        "a81d72ea63cc462a9acbd98183cc6940": {
          "model_module": "@jupyter-widgets/base",
          "model_module_version": "1.2.0",
          "model_name": "LayoutModel",
          "state": {
            "_model_module": "@jupyter-widgets/base",
            "_model_module_version": "1.2.0",
            "_model_name": "LayoutModel",
            "_view_count": null,
            "_view_module": "@jupyter-widgets/base",
            "_view_module_version": "1.2.0",
            "_view_name": "LayoutView",
            "align_content": null,
            "align_items": null,
            "align_self": null,
            "border": null,
            "bottom": null,
            "display": null,
            "flex": null,
            "flex_flow": null,
            "grid_area": null,
            "grid_auto_columns": null,
            "grid_auto_flow": null,
            "grid_auto_rows": null,
            "grid_column": null,
            "grid_gap": null,
            "grid_row": null,
            "grid_template_areas": null,
            "grid_template_columns": null,
            "grid_template_rows": null,
            "height": null,
            "justify_content": null,
            "justify_items": null,
            "left": null,
            "margin": null,
            "max_height": null,
            "max_width": null,
            "min_height": null,
            "min_width": null,
            "object_fit": null,
            "object_position": null,
            "order": null,
            "overflow": null,
            "overflow_x": null,
            "overflow_y": null,
            "padding": null,
            "right": null,
            "top": null,
            "visibility": null,
            "width": null
          }
        },
        "abad1d814ead48e099d91f178a66fde3": {
          "model_module": "@jupyter-widgets/controls",
          "model_module_version": "1.5.0",
          "model_name": "HTMLModel",
          "state": {
            "_dom_classes": [],
            "_model_module": "@jupyter-widgets/controls",
            "_model_module_version": "1.5.0",
            "_model_name": "HTMLModel",
            "_view_count": null,
            "_view_module": "@jupyter-widgets/controls",
            "_view_module_version": "1.5.0",
            "_view_name": "HTMLView",
            "description": "",
            "description_tooltip": null,
            "layout": "IPY_MODEL_5d19ad5f4deb4976a885bb6c0ba8a077",
            "placeholder": "​",
            "style": "IPY_MODEL_a3147485b3564bc694f5579e92c7d217",
            "value": "config.json: 100%"
          }
        },
        "af97a4b040c24b22856a0c2981688519": {
          "model_module": "@jupyter-widgets/controls",
          "model_module_version": "1.5.0",
          "model_name": "FloatProgressModel",
          "state": {
            "_dom_classes": [],
            "_model_module": "@jupyter-widgets/controls",
            "_model_module_version": "1.5.0",
            "_model_name": "FloatProgressModel",
            "_view_count": null,
            "_view_module": "@jupyter-widgets/controls",
            "_view_module_version": "1.5.0",
            "_view_name": "ProgressView",
            "bar_style": "success",
            "description": "",
            "description_tooltip": null,
            "layout": "IPY_MODEL_c250110a827547f3abed803c7075707a",
            "max": 440449768,
            "min": 0,
            "orientation": "horizontal",
            "style": "IPY_MODEL_44d7a10c9c4344c7b9ddf02ed5ab2463",
            "value": 440449768
          }
        },
        "c0c29bd37cde426d949ed419e9b4f3ea": {
          "model_module": "@jupyter-widgets/base",
          "model_module_version": "1.2.0",
          "model_name": "LayoutModel",
          "state": {
            "_model_module": "@jupyter-widgets/base",
            "_model_module_version": "1.2.0",
            "_model_name": "LayoutModel",
            "_view_count": null,
            "_view_module": "@jupyter-widgets/base",
            "_view_module_version": "1.2.0",
            "_view_name": "LayoutView",
            "align_content": null,
            "align_items": null,
            "align_self": null,
            "border": null,
            "bottom": null,
            "display": null,
            "flex": null,
            "flex_flow": null,
            "grid_area": null,
            "grid_auto_columns": null,
            "grid_auto_flow": null,
            "grid_auto_rows": null,
            "grid_column": null,
            "grid_gap": null,
            "grid_row": null,
            "grid_template_areas": null,
            "grid_template_columns": null,
            "grid_template_rows": null,
            "height": null,
            "justify_content": null,
            "justify_items": null,
            "left": null,
            "margin": null,
            "max_height": null,
            "max_width": null,
            "min_height": null,
            "min_width": null,
            "object_fit": null,
            "object_position": null,
            "order": null,
            "overflow": null,
            "overflow_x": null,
            "overflow_y": null,
            "padding": null,
            "right": null,
            "top": null,
            "visibility": null,
            "width": null
          }
        },
        "c250110a827547f3abed803c7075707a": {
          "model_module": "@jupyter-widgets/base",
          "model_module_version": "1.2.0",
          "model_name": "LayoutModel",
          "state": {
            "_model_module": "@jupyter-widgets/base",
            "_model_module_version": "1.2.0",
            "_model_name": "LayoutModel",
            "_view_count": null,
            "_view_module": "@jupyter-widgets/base",
            "_view_module_version": "1.2.0",
            "_view_name": "LayoutView",
            "align_content": null,
            "align_items": null,
            "align_self": null,
            "border": null,
            "bottom": null,
            "display": null,
            "flex": null,
            "flex_flow": null,
            "grid_area": null,
            "grid_auto_columns": null,
            "grid_auto_flow": null,
            "grid_auto_rows": null,
            "grid_column": null,
            "grid_gap": null,
            "grid_row": null,
            "grid_template_areas": null,
            "grid_template_columns": null,
            "grid_template_rows": null,
            "height": null,
            "justify_content": null,
            "justify_items": null,
            "left": null,
            "margin": null,
            "max_height": null,
            "max_width": null,
            "min_height": null,
            "min_width": null,
            "object_fit": null,
            "object_position": null,
            "order": null,
            "overflow": null,
            "overflow_x": null,
            "overflow_y": null,
            "padding": null,
            "right": null,
            "top": null,
            "visibility": null,
            "width": null
          }
        },
        "c38801f991164802bb104be63d04134d": {
          "model_module": "@jupyter-widgets/controls",
          "model_module_version": "1.5.0",
          "model_name": "HTMLModel",
          "state": {
            "_dom_classes": [],
            "_model_module": "@jupyter-widgets/controls",
            "_model_module_version": "1.5.0",
            "_model_name": "HTMLModel",
            "_view_count": null,
            "_view_module": "@jupyter-widgets/controls",
            "_view_module_version": "1.5.0",
            "_view_name": "HTMLView",
            "description": "",
            "description_tooltip": null,
            "layout": "IPY_MODEL_c0c29bd37cde426d949ed419e9b4f3ea",
            "placeholder": "​",
            "style": "IPY_MODEL_7e659b03d6054992aced39d9206fc1f4",
            "value": "tokenizer.json: 100%"
          }
        },
        "c765db9a673f496c88158de17ef48b29": {
          "model_module": "@jupyter-widgets/controls",
          "model_module_version": "1.5.0",
          "model_name": "HTMLModel",
          "state": {
            "_dom_classes": [],
            "_model_module": "@jupyter-widgets/controls",
            "_model_module_version": "1.5.0",
            "_model_name": "HTMLModel",
            "_view_count": null,
            "_view_module": "@jupyter-widgets/controls",
            "_view_module_version": "1.5.0",
            "_view_name": "HTMLView",
            "description": "",
            "description_tooltip": null,
            "layout": "IPY_MODEL_f233e3d172a04bb5b95bf05ff2ad5f5b",
            "placeholder": "​",
            "style": "IPY_MODEL_7e78bb082b2445558ee301e4e6280477",
            "value": "vocab.txt: 100%"
          }
        },
        "cf08ccf8ee524656b3eeb605d66ae101": {
          "model_module": "@jupyter-widgets/controls",
          "model_module_version": "1.5.0",
          "model_name": "DescriptionStyleModel",
          "state": {
            "_model_module": "@jupyter-widgets/controls",
            "_model_module_version": "1.5.0",
            "_model_name": "DescriptionStyleModel",
            "_view_count": null,
            "_view_module": "@jupyter-widgets/base",
            "_view_module_version": "1.2.0",
            "_view_name": "StyleView",
            "description_width": ""
          }
        },
        "d4a527e4cd314eb5ad90a318446765c7": {
          "model_module": "@jupyter-widgets/controls",
          "model_module_version": "1.5.0",
          "model_name": "HBoxModel",
          "state": {
            "_dom_classes": [],
            "_model_module": "@jupyter-widgets/controls",
            "_model_module_version": "1.5.0",
            "_model_name": "HBoxModel",
            "_view_count": null,
            "_view_module": "@jupyter-widgets/controls",
            "_view_module_version": "1.5.0",
            "_view_name": "HBoxView",
            "box_style": "",
            "children": [
              "IPY_MODEL_c38801f991164802bb104be63d04134d",
              "IPY_MODEL_4ac9e73be4034352a458f8463397055c",
              "IPY_MODEL_8405720497884f91b3f353c572dd0a6f"
            ],
            "layout": "IPY_MODEL_a0f163926833438f84b387dc84b1b138"
          }
        },
        "dad01bb79f21428bbeff8de2de2ee180": {
          "model_module": "@jupyter-widgets/controls",
          "model_module_version": "1.5.0",
          "model_name": "FloatProgressModel",
          "state": {
            "_dom_classes": [],
            "_model_module": "@jupyter-widgets/controls",
            "_model_module_version": "1.5.0",
            "_model_name": "FloatProgressModel",
            "_view_count": null,
            "_view_module": "@jupyter-widgets/controls",
            "_view_module_version": "1.5.0",
            "_view_name": "ProgressView",
            "bar_style": "success",
            "description": "",
            "description_tooltip": null,
            "layout": "IPY_MODEL_23f8fb55701247318f84473062379576",
            "max": 231508,
            "min": 0,
            "orientation": "horizontal",
            "style": "IPY_MODEL_5d39770c6f2244cf946362c685cff076",
            "value": 231508
          }
        },
        "f233e3d172a04bb5b95bf05ff2ad5f5b": {
          "model_module": "@jupyter-widgets/base",
          "model_module_version": "1.2.0",
          "model_name": "LayoutModel",
          "state": {
            "_model_module": "@jupyter-widgets/base",
            "_model_module_version": "1.2.0",
            "_model_name": "LayoutModel",
            "_view_count": null,
            "_view_module": "@jupyter-widgets/base",
            "_view_module_version": "1.2.0",
            "_view_name": "LayoutView",
            "align_content": null,
            "align_items": null,
            "align_self": null,
            "border": null,
            "bottom": null,
            "display": null,
            "flex": null,
            "flex_flow": null,
            "grid_area": null,
            "grid_auto_columns": null,
            "grid_auto_flow": null,
            "grid_auto_rows": null,
            "grid_column": null,
            "grid_gap": null,
            "grid_row": null,
            "grid_template_areas": null,
            "grid_template_columns": null,
            "grid_template_rows": null,
            "height": null,
            "justify_content": null,
            "justify_items": null,
            "left": null,
            "margin": null,
            "max_height": null,
            "max_width": null,
            "min_height": null,
            "min_width": null,
            "object_fit": null,
            "object_position": null,
            "order": null,
            "overflow": null,
            "overflow_x": null,
            "overflow_y": null,
            "padding": null,
            "right": null,
            "top": null,
            "visibility": null,
            "width": null
          }
        },
        "f3699e79ef884fa8a92c7c88c93c1b6c": {
          "model_module": "@jupyter-widgets/controls",
          "model_module_version": "1.5.0",
          "model_name": "HTMLModel",
          "state": {
            "_dom_classes": [],
            "_model_module": "@jupyter-widgets/controls",
            "_model_module_version": "1.5.0",
            "_model_name": "HTMLModel",
            "_view_count": null,
            "_view_module": "@jupyter-widgets/controls",
            "_view_module_version": "1.5.0",
            "_view_name": "HTMLView",
            "description": "",
            "description_tooltip": null,
            "layout": "IPY_MODEL_8b36a60d43f940218275dd3f686ddcb3",
            "placeholder": "​",
            "style": "IPY_MODEL_87aa1c9dc68e46adbb409a85e18c7de4",
            "value": " 440M/440M [00:03&lt;00:00, 141MB/s]"
          }
        },
        "f74f223d083a4a0792f79fe9f054251e": {
          "model_module": "@jupyter-widgets/base",
          "model_module_version": "1.2.0",
          "model_name": "LayoutModel",
          "state": {
            "_model_module": "@jupyter-widgets/base",
            "_model_module_version": "1.2.0",
            "_model_name": "LayoutModel",
            "_view_count": null,
            "_view_module": "@jupyter-widgets/base",
            "_view_module_version": "1.2.0",
            "_view_name": "LayoutView",
            "align_content": null,
            "align_items": null,
            "align_self": null,
            "border": null,
            "bottom": null,
            "display": null,
            "flex": null,
            "flex_flow": null,
            "grid_area": null,
            "grid_auto_columns": null,
            "grid_auto_flow": null,
            "grid_auto_rows": null,
            "grid_column": null,
            "grid_gap": null,
            "grid_row": null,
            "grid_template_areas": null,
            "grid_template_columns": null,
            "grid_template_rows": null,
            "height": null,
            "justify_content": null,
            "justify_items": null,
            "left": null,
            "margin": null,
            "max_height": null,
            "max_width": null,
            "min_height": null,
            "min_width": null,
            "object_fit": null,
            "object_position": null,
            "order": null,
            "overflow": null,
            "overflow_x": null,
            "overflow_y": null,
            "padding": null,
            "right": null,
            "top": null,
            "visibility": null,
            "width": null
          }
        },
        "fd0a522d030e4fd58644e80a65d9173b": {
          "model_module": "@jupyter-widgets/controls",
          "model_module_version": "1.5.0",
          "model_name": "DescriptionStyleModel",
          "state": {
            "_model_module": "@jupyter-widgets/controls",
            "_model_module_version": "1.5.0",
            "_model_name": "DescriptionStyleModel",
            "_view_count": null,
            "_view_module": "@jupyter-widgets/base",
            "_view_module_version": "1.2.0",
            "_view_name": "StyleView",
            "description_width": ""
          }
        },
        "ff2d87c267de4df2a868deeaa0aeb1d3": {
          "model_module": "@jupyter-widgets/controls",
          "model_module_version": "1.5.0",
          "model_name": "FloatProgressModel",
          "state": {
            "_dom_classes": [],
            "_model_module": "@jupyter-widgets/controls",
            "_model_module_version": "1.5.0",
            "_model_name": "FloatProgressModel",
            "_view_count": null,
            "_view_module": "@jupyter-widgets/controls",
            "_view_module_version": "1.5.0",
            "_view_name": "ProgressView",
            "bar_style": "success",
            "description": "",
            "description_tooltip": null,
            "layout": "IPY_MODEL_3f8f97acdee64e69b2f6d6908ef7c23d",
            "max": 570,
            "min": 0,
            "orientation": "horizontal",
            "style": "IPY_MODEL_2dab07ec4dfb4608aa29bcbc5758ccd0",
            "value": 570
          }
        }
      }
    }
  },
  "nbformat": 4,
  "nbformat_minor": 0
}
